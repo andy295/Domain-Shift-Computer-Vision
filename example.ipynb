{
 "cells": [
  {
   "cell_type": "markdown",
   "id": "b1ddb39b-484b-40a8-a6e1-763d3071ddb9",
   "metadata": {},
   "source": [
    "# Test-Time Adaptation"
   ]
  },
  {
   "cell_type": "code",
   "execution_count": 1,
   "id": "1851005d-1fc7-4abd-a04f-5550b7067939",
   "metadata": {},
   "outputs": [],
   "source": [
    "import torch\n",
    "import torchvision.transforms as T\n",
    "import torchvision.models as models\n",
    "import torchvision\n",
    "from test_methods.test import Tester\n",
    "from test_time_adaptation.resnet50_dropout import ResNet50Dropout"
   ]
  },
  {
   "cell_type": "code",
   "execution_count": 2,
   "id": "990934cc-7795-415b-adbd-17227bed3510",
   "metadata": {},
   "outputs": [],
   "source": [
    "imagenet_a_path = \"imagenet-a\"\n",
    "imagenet_b_path = \"imagenetv2-matched-frequency-format-val/\""
   ]
  },
  {
   "cell_type": "code",
   "execution_count": 3,
   "id": "5ace4045-d733-4897-95fd-f667a42acc60",
   "metadata": {},
   "outputs": [],
   "source": [
    "device = torch.device(\"cuda\") if torch.cuda.is_available() else torch.device(\"cpu\")"
   ]
  },
  {
   "cell_type": "code",
   "execution_count": 4,
   "id": "31a14b6b-c730-4fd5-a9a9-6607e098ddb3",
   "metadata": {},
   "outputs": [],
   "source": [
    "import torchvision.transforms as T\n",
    "\n",
    "augmentations = [\n",
    "    T.RandomHorizontalFlip(p=1),\n",
    "    T.RandomVerticalFlip(p=1),\n",
    "    T.RandomRotation(degrees=30),\n",
    "    T.RandomRotation(degrees=60),\n",
    "    T.ColorJitter(brightness=0.2),\n",
    "    T.ColorJitter(contrast=0.2),\n",
    "    T.ColorJitter(saturation=0.2),\n",
    "    T.ColorJitter(hue=0.2),\n",
    "    T.RandomAffine(degrees=0, translate=(0.1, 0.1)),\n",
    "    T.RandomRotation(degrees=15),\n",
    "    T.RandomAdjustSharpness(sharpness_factor=2, p=1),\n",
    "    T.RandomGrayscale(p=1),\n",
    "    T.RandomInvert(p=1),\n",
    "    T.RandomAutocontrast(p=1),\n",
    "    T.GaussianBlur(kernel_size=5),\n",
    "]\n",
    "\n",
    "augmix_augmentations = [\n",
    "    T.AugMix(severity=3, mixture_width=3, chain_depth=3, alpha=1.0),\n",
    "    T.AugMix(severity=2, mixture_width=2, chain_depth=3, alpha=1.0),\n",
    "    T.AugMix(severity=4, mixture_width=4, chain_depth=3, alpha=1.0),\n",
    "    T.AugMix(severity=3, mixture_width=3, chain_depth=3, alpha=1.0),\n",
    "    T.AugMix(severity=2, mixture_width=2, chain_depth=3, alpha=1.0),\n",
    "    T.AugMix(severity=4, mixture_width=4, chain_depth=3, alpha=1.0),\n",
    "    T.AugMix(severity=3, mixture_width=3, chain_depth=3, alpha=1.0),\n",
    "    T.AugMix(severity=2, mixture_width=2, chain_depth=3, alpha=1.0),\n",
    "    T.AugMix(severity=4, mixture_width=4, chain_depth=3, alpha=1.0),\n",
    "    T.AugMix(severity=3, mixture_width=3, chain_depth=3, alpha=1.0),\n",
    "    T.AugMix(severity=2, mixture_width=2, chain_depth=3, alpha=1.0),\n",
    "    T.AugMix(severity=4, mixture_width=4, chain_depth=3, alpha=1.0),\n",
    "    T.AugMix(severity=3, mixture_width=3, chain_depth=3, alpha=1.0),\n",
    "    T.AugMix(severity=2, mixture_width=2, chain_depth=3, alpha=1.0),\n",
    "    T.AugMix(severity=4, mixture_width=4, chain_depth=3, alpha=1.0),\n",
    "    T.AugMix(severity=3, mixture_width=3, chain_depth=3, alpha=1.0),\n",
    "    T.AugMix(severity=2, mixture_width=2, chain_depth=3, alpha=1.0),\n",
    "    T.AugMix(severity=4, mixture_width=4, chain_depth=3, alpha=1.0)\n",
    "]"
   ]
  },
  {
   "cell_type": "markdown",
   "id": "08b444fa-d1e4-412d-814f-36ba12981ff0",
   "metadata": {},
   "source": [
    "## Resnet50"
   ]
  },
  {
   "cell_type": "code",
   "execution_count": 5,
   "id": "3e752756-e914-48e7-a203-21ae62dba5ac",
   "metadata": {},
   "outputs": [],
   "source": [
    "exp_path_a = \"/home/sagemaker-user/Domain-Shift-Computer-Vision/experiments/Resnet50_ImagenetA_SGD\""
   ]
  },
  {
   "cell_type": "code",
   "execution_count": 6,
   "id": "5cf183bc",
   "metadata": {},
   "outputs": [],
   "source": [
    "MC = {\n",
    "\t\"dropout_rate\": 0.5,\n",
    "\t\"num_samples\": 10,\n",
    "\t\"use_dropout\": False\n",
    "}"
   ]
  },
  {
   "cell_type": "code",
   "execution_count": 7,
   "id": "9c522c6a-84b6-453d-8921-5a9af1e9453e",
   "metadata": {},
   "outputs": [],
   "source": [
    "tester_resnet50 = Tester(\n",
    "    model = ResNet50Dropout() if MC['use_dropout'] else models.resnet50,\n",
    "    optimizer = torch.optim.SGD,\n",
    "    exp_path = exp_path_a,\n",
    "    device = device\n",
    ")"
   ]
  },
  {
   "cell_type": "code",
   "execution_count": 8,
   "id": "7c6041ec-e1e3-4d1a-a419-f86a79c1ac79",
   "metadata": {},
   "outputs": [],
   "source": [
    "#lr_setting = [{\n",
    "#    \"classifier\" : [[\"fc.weight\", \"fc.bias\"], 0.00025]    \n",
    "#}, 0]\n",
    "lr_setting_sgd = [0.00025] # setting used in MEMO paper for SGD\n",
    "lr_setting_adam = [0.0001] # setting used in MEMO paper for ADAM"
   ]
  },
  {
   "cell_type": "code",
   "execution_count": 9,
   "id": "200a4ed2-9d24-4de5-8da4-01c8ade487b1",
   "metadata": {},
   "outputs": [],
   "source": [
    "imagenetV1_weights = models.ResNet50_Weights.IMAGENET1K_V1 # MEMO paper used these weights\n",
    "imagenetV2_weights = models.ResNet50_Weights.IMAGENET1K_V2"
   ]
  },
  {
   "cell_type": "code",
   "execution_count": 10,
   "id": "e847161c-c688-4ec6-aaa8-4fbbc67baff5",
   "metadata": {},
   "outputs": [],
   "source": [
    "gen_aug_settings = {\n",
    "    \"clip_img_encoder\" : \"ViT-L/14\",\n",
    "    \"num_img\" : 30,\n",
    "    \"gen_data_path\" : \"/home/sagemaker-user/Domain-Shift-Computer-Vision/imagenetA_generated\",\n",
    "    \"use_t2i_similarity\" : True,\n",
    "    \"t2i_img\" : True,\n",
    "    \"i2i_img\" : False,\n",
    "    \"threshold\" : 0.7\n",
    "}"
   ]
  },
  {
   "cell_type": "code",
   "execution_count": null,
   "id": "f1bb98e4-9b44-40b6-b343-3599f1eaff9f",
   "metadata": {},
   "outputs": [],
   "source": [
    "tester_resnet50.test(\n",
    "     augmentations = augmix_augmentations, \n",
    "     num_augmentations = 16,\n",
    "     seed_augmentations = 42,\n",
    "     batch_size = 64, \n",
    "     img_root = imagenet_a_path,\n",
    "     num_adaptation_steps = 2,\n",
    "     MEMO = True,\n",
    "     lr_setting = lr_setting_sgd,\n",
    "     top_augmentations = 0, # if using gen_aug run with 0 bc otherwise might not be used at all\n",
    "     weights_imagenet = imagenetV1_weights,\n",
    "     prior_strength = 16,\n",
    "     TTA = True,\n",
    "     MC = None,\n",
    "     gen_aug_settings = gen_aug_settings\n",
    ")"
   ]
  },
  {
   "cell_type": "markdown",
   "id": "8e5a3855-f888-4eea-af94-77a123dc58a2",
   "metadata": {},
   "source": [
    "## Image Generation"
   ]
  },
  {
   "cell_type": "code",
   "execution_count": null,
   "id": "1f230e3f-5566-4d7c-863c-835a5ff5a6fc",
   "metadata": {},
   "outputs": [],
   "source": [
    "!pip install ollama"
   ]
  },
  {
   "cell_type": "code",
   "execution_count": null,
   "id": "20c37523-1bff-415c-b483-523e0b4a15ad",
   "metadata": {},
   "outputs": [],
   "source": [
    "!pip install diffusers"
   ]
  },
  {
   "cell_type": "code",
   "execution_count": null,
   "id": "97aadb5a-ec49-426b-b9a1-c5bec7a918a3",
   "metadata": {},
   "outputs": [],
   "source": [
    "! pip install git+https://github.com/openai/CLIP.git"
   ]
  },
  {
   "cell_type": "code",
   "execution_count": 2,
   "id": "5c24db59-82a3-4852-b4dc-2889d703150f",
   "metadata": {},
   "outputs": [],
   "source": [
    "import torch"
   ]
  },
  {
   "cell_type": "code",
   "execution_count": 1,
   "id": "62432a84-d1d3-45e3-8233-bca007cf3bd0",
   "metadata": {},
   "outputs": [],
   "source": [
    "from test_time_adaptation.image_generation.image_generator import ImageGenerator"
   ]
  },
  {
   "cell_type": "code",
   "execution_count": 2,
   "id": "fbb6faec-3a9b-46d7-be72-825f01487e57",
   "metadata": {},
   "outputs": [],
   "source": [
    "imagenetA_generator = ImageGenerator()"
   ]
  },
  {
   "cell_type": "code",
   "execution_count": null,
   "id": "032714e4-de94-47c2-b52f-e4f7e7142f01",
   "metadata": {},
   "outputs": [],
   "source": [
    "# generate prompts\n",
    "skipped_classes = imagenetA_generator.generate_prompts(\n",
    "    num_prompts_per_class=20,\n",
    "    style_of_picture=\"photograph\",\n",
    "    path=\"/home/sagemaker-user/Domain-Shift-Computer-Vision/imagenetA_generated\",\n",
    "    context_llm = \"/home/sagemaker-user/Domain-Shift-Computer-Vision/test_time_adaptation/image_generation/llm_context.json\",\n",
    "    llm_model = \"llama3.1\", \n",
    "    clip_text_encoder = \"ViT-L/14\"\n",
    ")"
   ]
  },
  {
   "cell_type": "code",
   "execution_count": null,
   "id": "2e6741bb-e7e6-4f7e-9e60-0e07ed4b5bab",
   "metadata": {},
   "outputs": [],
   "source": [
    "# generate images\n",
    "from diffusers import StableDiffusionPipeline, StableDiffusionImg2ImgPipeline, DPMSolverMultistepScheduler\n",
    "\n",
    "model_id = \"runwayml/stable-diffusion-v1-5\"\n",
    "pipet2i = StableDiffusionPipeline.from_pretrained(model_id, torch_dtype=torch.float16)\n",
    "pipet2i.scheduler = DPMSolverMultistepScheduler.from_config(pipet2i.scheduler.config)\n",
    "pipet2i = pipet2i.to(\"cuda\")"
   ]
  },
  {
   "cell_type": "code",
   "execution_count": null,
   "id": "6f96b118-4ab9-473f-8e63-285e94190fc2",
   "metadata": {},
   "outputs": [],
   "source": [
    "pipei2i = StableDiffusionImg2ImgPipeline.from_pretrained(model_id, torch_dtype=torch.float16)\n",
    "pipei2i.scheduler = DPMSolverMultistepScheduler.from_config(pipei2i.scheduler.config)\n",
    "pipei2i = pipet2i.to(\"cuda\")"
   ]
  },
  {
   "cell_type": "code",
   "execution_count": 50,
   "id": "40087018-acf0-4dd1-94b3-668e16d01ee9",
   "metadata": {},
   "outputs": [],
   "source": [
    "imagenet_a_generated_path = \"/home/sagemaker-user/Domain-Shift-Computer-Vision/imagenetA_generated\""
   ]
  },
  {
   "cell_type": "code",
   "execution_count": null,
   "id": "103c72f4-8900-4f86-9a2e-4df731b313c4",
   "metadata": {},
   "outputs": [],
   "source": [
    "imagenetA_generator.generate_images(path = imagenet_a_generated_path,\n",
    "                                    num_images = 30,\n",
    "                                    image_generation_pipeline = pipet2i,\n",
    "                                    num_inference_steps = 25,\n",
    "                                    guidance_scale = 9,\n",
    "                                    strength=1)"
   ]
  },
  {
   "cell_type": "markdown",
   "id": "d969f7f1-a25b-4759-a0fa-87805a374609",
   "metadata": {},
   "source": [
    "## Retrieving Images"
   ]
  },
  {
   "cell_type": "code",
   "execution_count": 13,
   "id": "0a5f8d4c-4c0b-4e59-a36e-2bcac75e28b0",
   "metadata": {},
   "outputs": [],
   "source": [
    "from utility.data.get_data import get_data\n",
    "import clip\n",
    "import torch\n",
    "import torch.nn.functional as F\n",
    "from PIL import Image"
   ]
  },
  {
   "cell_type": "code",
   "execution_count": 14,
   "id": "6e5fd05b-238a-4a95-b410-2ade85563a61",
   "metadata": {},
   "outputs": [
    {
     "name": "stderr",
     "output_type": "stream",
     "text": [
      "/opt/conda/lib/python3.10/site-packages/torch/utils/data/dataloader.py:561: UserWarning: This DataLoader will create 4 worker processes in total. Our suggested max number of worker in current system is 2, which is smaller than what this DataLoader is going to create. Please be aware that excessive worker creation might get DataLoader running slow or even freeze, lower the worker number to avoid potential slowness/freeze if necessary.\n",
      "  warnings.warn(_create_warning_msg(\n"
     ]
    }
   ],
   "source": [
    "dataloader = get_data(batch_size=32, \n",
    "                      img_root = \"imagenet-a\",\n",
    "                      split_data=False)"
   ]
  },
  {
   "cell_type": "code",
   "execution_count": 323,
   "id": "0402185c-8779-4e60-83e7-c692b633069a",
   "metadata": {},
   "outputs": [],
   "source": [
    "candle_img = dataloader.dataset[20][0]"
   ]
  },
  {
   "cell_type": "code",
   "execution_count": 46,
   "id": "0c45d975-d5de-4788-ae16-14774f9633a7",
   "metadata": {},
   "outputs": [],
   "source": [
    "clip_image_encoder = \"ViT-L/14\"\n",
    "clip_model, preprocess = clip.load(clip_image_encoder)"
   ]
  },
  {
   "cell_type": "code",
   "execution_count": 51,
   "id": "1591a9a0-7797-4141-8cad-c03b2ee6bf6d",
   "metadata": {},
   "outputs": [],
   "source": [
    "imagenet_a_generated_path = \"/home/sagemaker-user/Domain-Shift-Computer-Vision/imagenetA_generated\""
   ]
  },
  {
   "cell_type": "code",
   "execution_count": 381,
   "id": "1b1f0d97-03a1-4672-a393-94b770dcff95",
   "metadata": {},
   "outputs": [],
   "source": [
    "retrieved_images = retrieve_gen_images(img = candle_img,\n",
    "                                       num_images = 30,\n",
    "                                       data_path = imagenet_a_generated_path,\n",
    "                                       clip_model = clip_model,\n",
    "                                       preprocess = preprocess,\n",
    "                                       t2i_images = True,\n",
    "                                       use_t2i_similarity = False,\n",
    "                                       threshold = 0.7)"
   ]
  },
  {
   "cell_type": "markdown",
   "id": "5645440d-73ac-4ebd-8735-ebc5fb377702",
   "metadata": {},
   "source": [
    "## Scraping Images"
   ]
  },
  {
   "cell_type": "code",
   "execution_count": 7,
   "id": "4755f1cb-5c15-4239-90ec-b6c2707feb4c",
   "metadata": {},
   "outputs": [
    {
     "name": "stdout",
     "output_type": "stream",
     "text": [
      "Collecting bing_image_downloader\n",
      "  Using cached bing_image_downloader-1.1.2-py3-none-any.whl.metadata (2.8 kB)\n",
      "Using cached bing_image_downloader-1.1.2-py3-none-any.whl (5.9 kB)\n",
      "Installing collected packages: bing_image_downloader\n",
      "Successfully installed bing_image_downloader-1.1.2\n"
     ]
    }
   ],
   "source": [
    "!pip install bing_image_downloader"
   ]
  },
  {
   "cell_type": "code",
   "execution_count": 8,
   "id": "f2f100a7-3514-4d7b-81d3-1f843710e8b6",
   "metadata": {},
   "outputs": [],
   "source": [
    "from test_time_adaptation.image_generation.web_scrape import scrape_images_imagenetA"
   ]
  },
  {
   "cell_type": "code",
   "execution_count": 13,
   "id": "9f155692-1fbd-48dc-8d70-ad3437faea4e",
   "metadata": {},
   "outputs": [
    {
     "name": "stderr",
     "output_type": "stream",
     "text": [
      "Processing class: stingray:   0%|          | 0/200 [00:00<?, ?it/s]"
     ]
    },
    {
     "name": "stdout",
     "output_type": "stream",
     "text": [
      "[%] Downloading Images to /home/sagemaker-user/Domain-Shift-Computer-Vision/imagenetA_generated/stingray/a photo of stingray\n"
     ]
    },
    {
     "name": "stderr",
     "output_type": "stream",
     "text": [
      "Processing class: goldfinch:   0%|          | 1/200 [00:04<13:47,  4.16s/it]"
     ]
    },
    {
     "name": "stdout",
     "output_type": "stream",
     "text": [
      "\n",
      "\n",
      "[%] Done. Downloaded 10 images.\n",
      "[%] Downloading Images to /home/sagemaker-user/Domain-Shift-Computer-Vision/imagenetA_generated/goldfinch/a photo of goldfinch\n",
      "[!] Issue getting: http://www.singing-wings-aviary.com/wp-content/uploads/2015/02/European-Goldfinch-Photos.jpg\n",
      "[!] Error:: Remote end closed connection without response\n",
      "[!] Issue getting: http://www.feedyourbirds.co.uk/media/iStock_pics/Goldfinch_x.jpg\n",
      "[!] Error:: HTTP Error 403: Forbidden\n",
      "[Error]Invalid image, not saving https://cdn.britannica.com/55/115355-050-611C0786/Goldfinch.jpg\n",
      "\n",
      "[!] Issue getting: https://cdn.britannica.com/55/115355-050-611C0786/Goldfinch.jpg\n",
      "[!] Error:: Invalid image, not saving https://cdn.britannica.com/55/115355-050-611C0786/Goldfinch.jpg\n",
      "\n"
     ]
    },
    {
     "name": "stderr",
     "output_type": "stream",
     "text": [
      "Processing class: junco:   1%|          | 2/200 [00:09<16:09,  4.90s/it]    "
     ]
    },
    {
     "name": "stdout",
     "output_type": "stream",
     "text": [
      "\n",
      "\n",
      "[%] Done. Downloaded 10 images.\n",
      "[%] Downloading Images to /home/sagemaker-user/Domain-Shift-Computer-Vision/imagenetA_generated/junco/a photo of junco\n"
     ]
    },
    {
     "name": "stderr",
     "output_type": "stream",
     "text": [
      "Processing class: American robin:   2%|▏         | 3/200 [00:17<20:32,  6.26s/it]"
     ]
    },
    {
     "name": "stdout",
     "output_type": "stream",
     "text": [
      "\n",
      "\n",
      "[%] Done. Downloaded 10 images.\n",
      "[%] Downloading Images to /home/sagemaker-user/Domain-Shift-Computer-Vision/imagenetA_generated/American robin/a photo of American robin\n",
      "[!] Issue getting: https://cdn.birdwatchingdaily.com/2017/03/DSCN1663.jpg\n",
      "[!] Error:: HTTP Error 404: Not Found\n",
      "[Error]Invalid image, not saving https://images.squarespace-cdn.com/content/v1/5cc8aba2755be21f06ea88af/cac425db-4a54-40a6-8acd-35290e734d24/American+Robin+-+Dave+Zittin.JPG\n",
      "\n",
      "[!] Issue getting: https://images.squarespace-cdn.com/content/v1/5cc8aba2755be21f06ea88af/cac425db-4a54-40a6-8acd-35290e734d24/American+Robin+-+Dave+Zittin.JPG\n",
      "[!] Error:: Invalid image, not saving https://images.squarespace-cdn.com/content/v1/5cc8aba2755be21f06ea88af/cac425db-4a54-40a6-8acd-35290e734d24/American+Robin+-+Dave+Zittin.JPG\n",
      "\n",
      "[!] Issue getting: https://cdn.birdwatchingdaily.com/2020/05/4EA549F7-1103-46C0-98C1-0BE5C00C1F02.jpeg\n",
      "[!] Error:: HTTP Error 404: Not Found\n"
     ]
    },
    {
     "name": "stderr",
     "output_type": "stream",
     "text": [
      "Processing class: jay:   2%|▏         | 4/200 [00:24<21:17,  6.52s/it]           "
     ]
    },
    {
     "name": "stdout",
     "output_type": "stream",
     "text": [
      "\n",
      "\n",
      "[%] Done. Downloaded 10 images.\n",
      "[%] Downloading Images to /home/sagemaker-user/Domain-Shift-Computer-Vision/imagenetA_generated/jay/a photo of jay\n"
     ]
    },
    {
     "name": "stderr",
     "output_type": "stream",
     "text": [
      "Processing class: bald eagle:   2%|▎         | 5/200 [00:27<17:41,  5.45s/it]"
     ]
    },
    {
     "name": "stdout",
     "output_type": "stream",
     "text": [
      "\n",
      "\n",
      "[%] Done. Downloaded 10 images.\n",
      "[%] Downloading Images to /home/sagemaker-user/Domain-Shift-Computer-Vision/imagenetA_generated/bald eagle/a photo of bald eagle\n",
      "[!] Issue getting: http://upload.wikimedia.org/wikipedia/commons/5/59/Bald_Eagle_-_\\\n",
      "[!] Error:: HTTP Error 404: Not Found\n"
     ]
    },
    {
     "name": "stderr",
     "output_type": "stream",
     "text": [
      "Processing class: vulture:   3%|▎         | 6/200 [00:33<17:23,  5.38s/it]   "
     ]
    },
    {
     "name": "stdout",
     "output_type": "stream",
     "text": [
      "\n",
      "\n",
      "[%] Done. Downloaded 10 images.\n",
      "[%] Downloading Images to /home/sagemaker-user/Domain-Shift-Computer-Vision/imagenetA_generated/vulture/a photo of vulture\n",
      "[!] Issue getting: https://upload.wikimedia.org/wikipedia/commons/thumb/4/4e/Eagle_beak_sideview_A.jpg/1200px-Eagle_beak_sideview_A.jpg\n",
      "[!] Error:: HTTP Error 404: Not Found\n",
      "[Error]Invalid image, not saving https://cdn.britannica.com/02/162502-050-FEEA94DE/Vulture.jpg\n",
      "\n",
      "[!] Issue getting: https://cdn.britannica.com/02/162502-050-FEEA94DE/Vulture.jpg\n",
      "[!] Error:: Invalid image, not saving https://cdn.britannica.com/02/162502-050-FEEA94DE/Vulture.jpg\n",
      "\n"
     ]
    },
    {
     "name": "stderr",
     "output_type": "stream",
     "text": [
      "Processing class: newt:   4%|▎         | 7/200 [00:37<16:16,  5.06s/it]   "
     ]
    },
    {
     "name": "stdout",
     "output_type": "stream",
     "text": [
      "\n",
      "\n",
      "[%] Done. Downloaded 10 images.\n",
      "[%] Downloading Images to /home/sagemaker-user/Domain-Shift-Computer-Vision/imagenetA_generated/newt/a photo of newt\n",
      "[!] Issue getting: https://www.biographic.com/wp-content/uploads/2022/12/A_IntroNewt2.jpg\n",
      "[!] Error:: Remote end closed connection without response\n"
     ]
    },
    {
     "name": "stderr",
     "output_type": "stream",
     "text": [
      "Processing class: American bullfrog:   4%|▍         | 8/200 [00:46<20:35,  6.44s/it]"
     ]
    },
    {
     "name": "stdout",
     "output_type": "stream",
     "text": [
      "\n",
      "\n",
      "[%] Done. Downloaded 10 images.\n",
      "[%] Downloading Images to /home/sagemaker-user/Domain-Shift-Computer-Vision/imagenetA_generated/American bullfrog/a photo of American bullfrog\n",
      "[!] Issue getting: https://mdc.mo.gov/sites/default/files/media/images/2010/04/bullfrogs096.jpg\n",
      "[!] Error:: HTTP Error 404: Not Found\n"
     ]
    },
    {
     "name": "stderr",
     "output_type": "stream",
     "text": [
      "Processing class: box turtle:   4%|▍         | 9/200 [00:55<22:53,  7.19s/it]       "
     ]
    },
    {
     "name": "stdout",
     "output_type": "stream",
     "text": [
      "\n",
      "\n",
      "[%] Done. Downloaded 10 images.\n",
      "[%] Downloading Images to /home/sagemaker-user/Domain-Shift-Computer-Vision/imagenetA_generated/box turtle/a photo of box turtle\n",
      "[!] Issue getting: https://fieldguide.lewisborolandtrust.org/wp-content/uploads/2019/05/box_turtle.jpg\n",
      "[!] Error:: Remote end closed connection without response\n",
      "[Error]Invalid image, not saving https://cdn.britannica.com/60/150360-050-FF2B6C5B/Eastern-box-turtle.jpg\n",
      "\n",
      "[!] Issue getting: https://cdn.britannica.com/60/150360-050-FF2B6C5B/Eastern-box-turtle.jpg\n",
      "[!] Error:: Invalid image, not saving https://cdn.britannica.com/60/150360-050-FF2B6C5B/Eastern-box-turtle.jpg\n",
      "\n",
      "[!] Issue getting: https://wallpapercrafter.com/desktop2/785520-box-turtle-land-turtles-eastern-box-turtle-orange.jpg\n",
      "[!] Error:: HTTP Error 403: Forbidden\n"
     ]
    },
    {
     "name": "stderr",
     "output_type": "stream",
     "text": [
      "Processing class: green iguana:   5%|▌         | 10/200 [01:00<20:23,  6.44s/it]"
     ]
    },
    {
     "name": "stdout",
     "output_type": "stream",
     "text": [
      "\n",
      "\n",
      "[%] Done. Downloaded 10 images.\n",
      "[%] Downloading Images to /home/sagemaker-user/Domain-Shift-Computer-Vision/imagenetA_generated/green iguana/a photo of green iguana\n"
     ]
    },
    {
     "name": "stderr",
     "output_type": "stream",
     "text": [
      "Processing class: agama:   6%|▌         | 11/200 [01:07<20:24,  6.48s/it]       "
     ]
    },
    {
     "name": "stdout",
     "output_type": "stream",
     "text": [
      "\n",
      "\n",
      "[%] Done. Downloaded 10 images.\n",
      "[%] Downloading Images to /home/sagemaker-user/Domain-Shift-Computer-Vision/imagenetA_generated/agama/a photo of agama\n",
      "[Error]Invalid image, not saving https://cdn.britannica.com/37/125637-050-775F1B98/Agama.jpg\n",
      "\n",
      "[!] Issue getting: https://cdn.britannica.com/37/125637-050-775F1B98/Agama.jpg\n",
      "[!] Error:: Invalid image, not saving https://cdn.britannica.com/37/125637-050-775F1B98/Agama.jpg\n",
      "\n"
     ]
    },
    {
     "name": "stderr",
     "output_type": "stream",
     "text": [
      "Processing class: chameleon:   6%|▌         | 12/200 [01:17<23:33,  7.52s/it]"
     ]
    },
    {
     "name": "stdout",
     "output_type": "stream",
     "text": [
      "\n",
      "\n",
      "[%] Done. Downloaded 10 images.\n",
      "[%] Downloading Images to /home/sagemaker-user/Domain-Shift-Computer-Vision/imagenetA_generated/chameleon/a photo of chameleon\n"
     ]
    },
    {
     "name": "stderr",
     "output_type": "stream",
     "text": [
      "Processing class: American alligator:   6%|▋         | 13/200 [01:19<18:42,  6.00s/it]"
     ]
    },
    {
     "name": "stdout",
     "output_type": "stream",
     "text": [
      "\n",
      "\n",
      "[%] Done. Downloaded 10 images.\n",
      "[%] Downloading Images to /home/sagemaker-user/Domain-Shift-Computer-Vision/imagenetA_generated/American alligator/a photo of American alligator\n",
      "[Error]Invalid image, not saving http://www.publicdomainpictures.net/pictures/30000/velka/american-alligator.jpg\n",
      "\n",
      "[!] Issue getting: http://www.publicdomainpictures.net/pictures/30000/velka/american-alligator.jpg\n",
      "[!] Error:: Invalid image, not saving http://www.publicdomainpictures.net/pictures/30000/velka/american-alligator.jpg\n",
      "\n",
      "[!] Issue getting: https://optimise2.assets-servd.host/maniacal-finch/production/animals/american-alligator-01-01.jpg?w=1200&amp;auto=compress%2Cformat&amp;fit=crop&amp;dm=1659037399&amp;s=31366093b78f4f3a6769caa82148fbff\n",
      "[!] Error:: HTTP Error 401: Unauthorized\n",
      "[Error]Invalid image, not saving https://www.worldatlas.com/r/w1200/upload/53/3b/fe/shutterstock-512806987.jpg\n",
      "\n",
      "[!] Issue getting: https://www.worldatlas.com/r/w1200/upload/53/3b/fe/shutterstock-512806987.jpg\n",
      "[!] Error:: Invalid image, not saving https://www.worldatlas.com/r/w1200/upload/53/3b/fe/shutterstock-512806987.jpg\n",
      "\n",
      "[!] Issue getting: https://get.wallhere.com/photo/crocodilia-crocodile-alligator-reptile-american-alligator-nile-crocodile-fauna-terrestrial-animal-Bank-wildlife-grass-organism-898982.jpg\n",
      "[!] Error:: HTTP Error 403: Forbidden\n",
      "[Error]Invalid image, not saving https://www.worldatlas.com/r/w1200/upload/87/60/85/shutterstock-450840892.jpg\n",
      "\n",
      "[!] Issue getting: https://www.worldatlas.com/r/w1200/upload/87/60/85/shutterstock-450840892.jpg\n",
      "[!] Error:: Invalid image, not saving https://www.worldatlas.com/r/w1200/upload/87/60/85/shutterstock-450840892.jpg\n",
      "\n",
      "[!] Issue getting: https://assets.wired.com/photos/w_2064/wp-content/uploads/2015/03/American_Alligator_1.jpg\n",
      "[!] Error:: HTTP Error 404: Not Found\n"
     ]
    },
    {
     "name": "stderr",
     "output_type": "stream",
     "text": [
      "Processing class: garter snake:   7%|▋         | 14/200 [01:26<19:43,  6.36s/it]      "
     ]
    },
    {
     "name": "stdout",
     "output_type": "stream",
     "text": [
      "\n",
      "\n",
      "[%] Done. Downloaded 10 images.\n",
      "[%] Downloading Images to /home/sagemaker-user/Domain-Shift-Computer-Vision/imagenetA_generated/garter snake/a photo of garter snake\n",
      "[Error]Invalid image, not saving https://cdn.britannica.com/15/220215-050-B1C41241/Common-Garter-Snake.jpg\n",
      "\n",
      "[!] Issue getting: https://cdn.britannica.com/15/220215-050-B1C41241/Common-Garter-Snake.jpg\n",
      "[!] Error:: Invalid image, not saving https://cdn.britannica.com/15/220215-050-B1C41241/Common-Garter-Snake.jpg\n",
      "\n",
      "[!] Issue getting: http://www.adirondackalmanack.com/wp-content/uploads/2013/10/Garter-Snake.jpg\n",
      "[!] Error:: Remote end closed connection without response\n",
      "[!] Issue getting: https://i.redd.it/ayvmi4a70f431.jpg\n",
      "[!] Error:: HTTP Error 403: Blocked\n",
      "[!] Issue getting: https://i.redd.it/trgiur8ha7v21.jpg\n",
      "[!] Error:: HTTP Error 403: Blocked\n",
      "[Error]Invalid image, not saving https://www.floridamuseum.ufl.edu/wp-content/uploads/sites/116/2020/09/IMG_0840.jpg\n",
      "\n",
      "[!] Issue getting: https://www.floridamuseum.ufl.edu/wp-content/uploads/sites/116/2020/09/IMG_0840.jpg\n",
      "[!] Error:: Invalid image, not saving https://www.floridamuseum.ufl.edu/wp-content/uploads/sites/116/2020/09/IMG_0840.jpg\n",
      "\n",
      "[Error]Invalid image, not saving https://inaturalist-open-data.s3.amazonaws.com/photos/38777343/original.jpeg\n",
      "\n",
      "[!] Issue getting: https://inaturalist-open-data.s3.amazonaws.com/photos/38777343/original.jpeg\n",
      "[!] Error:: Invalid image, not saving https://inaturalist-open-data.s3.amazonaws.com/photos/38777343/original.jpeg\n",
      "\n"
     ]
    },
    {
     "name": "stderr",
     "output_type": "stream",
     "text": [
      "Processing class: harvestman:   8%|▊         | 15/200 [01:36<22:19,  7.24s/it]  "
     ]
    },
    {
     "name": "stdout",
     "output_type": "stream",
     "text": [
      "\n",
      "\n",
      "[%] Done. Downloaded 10 images.\n",
      "[%] Downloading Images to /home/sagemaker-user/Domain-Shift-Computer-Vision/imagenetA_generated/harvestman/a photo of harvestman\n",
      "[!] Issue getting: https://preview.redd.it/o4rx69weiwg41.jpg?auto=webp&amp;s=349aa9360d2c7639bcbcc32cddd0f71e8d1f5bc2\n",
      "[!] Error:: HTTP Error 403: Blocked\n",
      "[!] Issue getting: https://media.sciencephoto.com/image/z4400014/800wm/Z4400014-Harvestman.jpg\n",
      "[!] Error:: HTTP Error 403: Forbidden\n"
     ]
    },
    {
     "name": "stderr",
     "output_type": "stream",
     "text": [
      "Processing class: scorpion:   8%|▊         | 16/200 [01:40<20:07,  6.56s/it]  "
     ]
    },
    {
     "name": "stdout",
     "output_type": "stream",
     "text": [
      "\n",
      "\n",
      "[%] Done. Downloaded 10 images.\n",
      "[%] Downloading Images to /home/sagemaker-user/Domain-Shift-Computer-Vision/imagenetA_generated/scorpion/a photo of scorpion\n",
      "[Error]Invalid image, not saving https://cdn.britannica.com/24/92724-050-54648BED/Scorpion.jpg\n",
      "\n",
      "[!] Issue getting: https://cdn.britannica.com/24/92724-050-54648BED/Scorpion.jpg\n",
      "[!] Error:: Invalid image, not saving https://cdn.britannica.com/24/92724-050-54648BED/Scorpion.jpg\n",
      "\n"
     ]
    },
    {
     "name": "stderr",
     "output_type": "stream",
     "text": [
      "Processing class: tarantula:   8%|▊         | 17/200 [01:43<16:39,  5.46s/it]"
     ]
    },
    {
     "name": "stdout",
     "output_type": "stream",
     "text": [
      "\n",
      "\n",
      "[%] Done. Downloaded 10 images.\n",
      "[%] Downloading Images to /home/sagemaker-user/Domain-Shift-Computer-Vision/imagenetA_generated/tarantula/a photo of tarantula\n",
      "[!] Issue getting: https://animalfactguide.com/wp-content/uploads/2022/02/tarantula_iStock-503332802-scaled.jpg\n",
      "[!] Error:: Remote end closed connection without response\n",
      "[!] Issue getting: https://external-preview.redd.it/iNA5baalYxoQexrT7kuKuWJedOzh7LKBkYFGGgD4dU0.jpg?auto=webp&amp;s=26f7d8abea8f6c937adeff3a061674e760f87df7\n",
      "[!] Error:: HTTP Error 403: Blocked\n",
      "[!] Issue getting: https://animalfactguide.com/wp-content/uploads/2022/02/skeleton-tarantula_iStock-503681130-scaled.jpg\n",
      "[!] Error:: Remote end closed connection without response\n",
      "[Error]Invalid image, not saving https://media.boingboing.net/wp-content/uploads/2020/04/8144989443_34377b4c6d_k.jpg\n",
      "\n",
      "[!] Issue getting: https://media.boingboing.net/wp-content/uploads/2020/04/8144989443_34377b4c6d_k.jpg\n",
      "[!] Error:: Invalid image, not saving https://media.boingboing.net/wp-content/uploads/2020/04/8144989443_34377b4c6d_k.jpg\n",
      "\n"
     ]
    },
    {
     "name": "stderr",
     "output_type": "stream",
     "text": [
      "Processing class: centipede:   9%|▉         | 18/200 [01:47<14:54,  4.91s/it]"
     ]
    },
    {
     "name": "stdout",
     "output_type": "stream",
     "text": [
      "\n",
      "\n",
      "[%] Done. Downloaded 10 images.\n",
      "[%] Downloading Images to /home/sagemaker-user/Domain-Shift-Computer-Vision/imagenetA_generated/centipede/a photo of centipede\n",
      "[!] Issue getting: http://dxline.info/img/new_ail/centipede_2.jpg\n",
      "[!] Error:: Remote end closed connection without response\n"
     ]
    },
    {
     "name": "stderr",
     "output_type": "stream",
     "text": [
      "Processing class: sulphur-crested cockatoo:  10%|▉         | 19/200 [01:53<15:29,  5.14s/it]"
     ]
    },
    {
     "name": "stdout",
     "output_type": "stream",
     "text": [
      "\n",
      "\n",
      "[%] Done. Downloaded 10 images.\n",
      "[%] Downloading Images to /home/sagemaker-user/Domain-Shift-Computer-Vision/imagenetA_generated/sulphur-crested cockatoo/a photo of sulphur-crested cockatoo\n",
      "[!] Issue getting: https://www.agric.wa.gov.au/sites/gateway/files/Sulphur crested cockatoo Cacatua galerita_DAFWA.jpg\n",
      "[!] Error:: URL can't contain control characters. '/sites/gateway/files/Sulphur crested cockatoo Cacatua galerita_DAFWA.jpg' (found at least ' ')\n",
      "[!] Issue getting: https://www.singing-wings-aviary.com/wp-content/uploads/2016/12/Sulphur-Crested-Cockatoo-Images.jpg\n",
      "[!] Error:: Remote end closed connection without response\n",
      "[!] Issue getting: https://www.southlakessafarizoo.com/wp-content/uploads/2017/07/sulphur-crested-cockatoo.jpg\n",
      "[!] Error:: Remote end closed connection without response\n",
      "[!] Issue getting: https://www.freeimageslive.co.uk/files/images006/Sulphur_crested Cockatoo_head.jpg\n",
      "[!] Error:: URL can't contain control characters. '/files/images006/Sulphur_crested Cockatoo_head.jpg' (found at least ' ')\n"
     ]
    },
    {
     "name": "stderr",
     "output_type": "stream",
     "text": [
      "Processing class: lorikeet:  10%|█         | 20/200 [02:00<17:11,  5.73s/it]                "
     ]
    },
    {
     "name": "stdout",
     "output_type": "stream",
     "text": [
      "\n",
      "\n",
      "[%] Done. Downloaded 10 images.\n",
      "[%] Downloading Images to /home/sagemaker-user/Domain-Shift-Computer-Vision/imagenetA_generated/lorikeet/a photo of lorikeet\n",
      "[Error]Invalid image, not saving https://cdn.britannica.com/81/100681-050-41CC0714/Rainbow-lorikeet.jpg\n",
      "\n",
      "[!] Issue getting: https://cdn.britannica.com/81/100681-050-41CC0714/Rainbow-lorikeet.jpg\n",
      "[!] Error:: Invalid image, not saving https://cdn.britannica.com/81/100681-050-41CC0714/Rainbow-lorikeet.jpg\n",
      "\n",
      "[Error]Invalid image, not saving https://petkeen.com/wp-content/uploads/2021/08/Lorikeet-side-view_Pixabay-1024x978.jpg\n",
      "\n",
      "[!] Issue getting: https://petkeen.com/wp-content/uploads/2021/08/Lorikeet-side-view_Pixabay-1024x978.jpg\n",
      "[!] Error:: Invalid image, not saving https://petkeen.com/wp-content/uploads/2021/08/Lorikeet-side-view_Pixabay-1024x978.jpg\n",
      "\n",
      "[Error]Invalid image, not saving https://cdn.britannica.com/82/100682-050-690A3823/Rainbow-lorikeet.jpg\n",
      "\n",
      "[!] Issue getting: https://cdn.britannica.com/82/100682-050-690A3823/Rainbow-lorikeet.jpg\n",
      "[!] Error:: Invalid image, not saving https://cdn.britannica.com/82/100682-050-690A3823/Rainbow-lorikeet.jpg\n",
      "\n",
      "[!] Issue getting: https://nzbirdsonline.org.nz/sites/all/files/DSC01587.jpg\n",
      "[!] Error:: HTTP Error 308: Permanent Redirect\n"
     ]
    },
    {
     "name": "stderr",
     "output_type": "stream",
     "text": [
      "Processing class: hummingbird:  10%|█         | 21/200 [02:09<20:20,  6.82s/it]"
     ]
    },
    {
     "name": "stdout",
     "output_type": "stream",
     "text": [
      "\n",
      "\n",
      "[%] Done. Downloaded 10 images.\n",
      "[%] Downloading Images to /home/sagemaker-user/Domain-Shift-Computer-Vision/imagenetA_generated/hummingbird/a photo of hummingbird\n",
      "[!] Issue getting: http://mediad.publicbroadcasting.net/p/wsiu/files/styles/x_large/public/201808/Hummingbird.jpg\n",
      "[!] Error:: HTTP Error 404: Not Found\n"
     ]
    },
    {
     "name": "stderr",
     "output_type": "stream",
     "text": [
      "Processing class: toucan:  11%|█         | 22/200 [02:13<17:16,  5.83s/it]     "
     ]
    },
    {
     "name": "stdout",
     "output_type": "stream",
     "text": [
      "\n",
      "\n",
      "[%] Done. Downloaded 10 images.\n",
      "[%] Downloading Images to /home/sagemaker-user/Domain-Shift-Computer-Vision/imagenetA_generated/toucan/a photo of toucan\n"
     ]
    },
    {
     "name": "stderr",
     "output_type": "stream",
     "text": [
      "Processing class: duck:  12%|█▏        | 23/200 [02:18<16:35,  5.63s/it]  "
     ]
    },
    {
     "name": "stdout",
     "output_type": "stream",
     "text": [
      "\n",
      "\n",
      "[%] Done. Downloaded 10 images.\n",
      "[%] Downloading Images to /home/sagemaker-user/Domain-Shift-Computer-Vision/imagenetA_generated/duck/a photo of duck\n",
      "[Error]Invalid image, not saving https://cdn.britannica.com/92/100692-050-5B69B59B/Mallard.jpg\n",
      "\n",
      "[!] Issue getting: https://cdn.britannica.com/92/100692-050-5B69B59B/Mallard.jpg\n",
      "[!] Error:: Invalid image, not saving https://cdn.britannica.com/92/100692-050-5B69B59B/Mallard.jpg\n",
      "\n"
     ]
    },
    {
     "name": "stderr",
     "output_type": "stream",
     "text": [
      "Processing class: goose:  12%|█▏        | 24/200 [02:24<17:18,  5.90s/it]"
     ]
    },
    {
     "name": "stdout",
     "output_type": "stream",
     "text": [
      "\n",
      "\n",
      "[%] Done. Downloaded 10 images.\n",
      "[%] Downloading Images to /home/sagemaker-user/Domain-Shift-Computer-Vision/imagenetA_generated/goose/a photo of goose\n",
      "[Error]Invalid image, not saving https://cdn.britannica.com/10/183410-050-6CDBCF6E/Domestic-goose.jpg\n",
      "\n",
      "[!] Issue getting: https://cdn.britannica.com/10/183410-050-6CDBCF6E/Domestic-goose.jpg\n",
      "[!] Error:: Invalid image, not saving https://cdn.britannica.com/10/183410-050-6CDBCF6E/Domestic-goose.jpg\n",
      "\n",
      "[Error]Invalid image, not saving http://upload.wikimedia.org/wikipedia/commons/6/68/Domesticated_greylag_goose_in_skagen_denmark_6th_of_may_2006.jpg\n",
      "\n",
      "[!] Issue getting: http://upload.wikimedia.org/wikipedia/commons/6/68/Domesticated_greylag_goose_in_skagen_denmark_6th_of_may_2006.jpg\n",
      "[!] Error:: Invalid image, not saving http://upload.wikimedia.org/wikipedia/commons/6/68/Domesticated_greylag_goose_in_skagen_denmark_6th_of_may_2006.jpg\n",
      "\n",
      "[Error]Invalid image, not saving https://cdn.britannica.com/76/76076-050-39DDCBA1/goose-Canada-North-America.jpg\n",
      "\n",
      "[!] Issue getting: https://cdn.britannica.com/76/76076-050-39DDCBA1/goose-Canada-North-America.jpg\n",
      "[!] Error:: Invalid image, not saving https://cdn.britannica.com/76/76076-050-39DDCBA1/goose-Canada-North-America.jpg\n",
      "\n"
     ]
    },
    {
     "name": "stderr",
     "output_type": "stream",
     "text": [
      "Processing class: koala:  12%|█▎        | 25/200 [02:27<14:46,  5.07s/it]"
     ]
    },
    {
     "name": "stdout",
     "output_type": "stream",
     "text": [
      "\n",
      "\n",
      "[%] Done. Downloaded 10 images.\n",
      "[%] Downloading Images to /home/sagemaker-user/Domain-Shift-Computer-Vision/imagenetA_generated/koala/a photo of koala\n",
      "[!] Issue getting: http://www.duiops.net/seresvivos/galeria/koalas/Animals Australian Outback_Cuddly Koala.jpg\n",
      "[!] Error:: URL can't contain control characters. '/seresvivos/galeria/koalas/Animals Australian Outback_Cuddly Koala.jpg' (found at least ' ')\n",
      "[Error]Invalid image, not saving https://cdn.britannica.com/26/162626-050-3534626F/Koala.jpg\n",
      "\n",
      "[!] Issue getting: https://cdn.britannica.com/26/162626-050-3534626F/Koala.jpg\n",
      "[!] Error:: Invalid image, not saving https://cdn.britannica.com/26/162626-050-3534626F/Koala.jpg\n",
      "\n",
      "[Error]Invalid image, not saving https://www.worldatlas.com/r/w1200/upload/9b/4c/82/shutterstock-230367277.jpg\n",
      "\n",
      "[!] Issue getting: https://www.worldatlas.com/r/w1200/upload/9b/4c/82/shutterstock-230367277.jpg\n",
      "[!] Error:: Invalid image, not saving https://www.worldatlas.com/r/w1200/upload/9b/4c/82/shutterstock-230367277.jpg\n",
      "\n",
      "[!] Issue getting: https://animalfactguide.com/wp-content/uploads/2022/03/koala_iStock-140396797-scaled.jpg\n",
      "[!] Error:: Remote end closed connection without response\n",
      "[!] Issue getting: https://animals.sandiegozoo.org/sites/default/files/2016-11/animals_hero_koala02 copy.jpg\n",
      "[!] Error:: URL can't contain control characters. '/sites/default/files/2016-11/animals_hero_koala02 copy.jpg' (found at least ' ')\n",
      "[!] Issue getting: http://sites.psu.edu/hannahspassionblog/wp-content/uploads/sites/17602/2015/01/koala4.jpg\n",
      "[!] Error:: HTTP Error 404: Not Found\n"
     ]
    },
    {
     "name": "stderr",
     "output_type": "stream",
     "text": [
      "Processing class: jellyfish:  13%|█▎        | 26/200 [02:33<14:57,  5.16s/it]"
     ]
    },
    {
     "name": "stdout",
     "output_type": "stream",
     "text": [
      "\n",
      "\n",
      "[%] Done. Downloaded 10 images.\n",
      "[%] Downloading Images to /home/sagemaker-user/Domain-Shift-Computer-Vision/imagenetA_generated/jellyfish/a photo of jellyfish\n"
     ]
    },
    {
     "name": "stderr",
     "output_type": "stream",
     "text": [
      "Processing class: sea anemone:  14%|█▎        | 27/200 [02:37<14:16,  4.95s/it]"
     ]
    },
    {
     "name": "stdout",
     "output_type": "stream",
     "text": [
      "\n",
      "\n",
      "[%] Done. Downloaded 10 images.\n",
      "[%] Downloading Images to /home/sagemaker-user/Domain-Shift-Computer-Vision/imagenetA_generated/sea anemone/a photo of sea anemone\n",
      "[Error]Invalid image, not saving https://cdn.britannica.com/04/122104-050-348EDFC0.jpg\n",
      "\n",
      "[!] Issue getting: https://cdn.britannica.com/04/122104-050-348EDFC0.jpg\n",
      "[!] Error:: Invalid image, not saving https://cdn.britannica.com/04/122104-050-348EDFC0.jpg\n",
      "\n"
     ]
    },
    {
     "name": "stderr",
     "output_type": "stream",
     "text": [
      "Processing class: flatworm:  14%|█▍        | 28/200 [02:45<16:35,  5.79s/it]   "
     ]
    },
    {
     "name": "stdout",
     "output_type": "stream",
     "text": [
      "\n",
      "\n",
      "[%] Done. Downloaded 10 images.\n",
      "[%] Downloading Images to /home/sagemaker-user/Domain-Shift-Computer-Vision/imagenetA_generated/flatworm/a photo of flatworm\n",
      "[!] Issue getting: https://seaunseen.com/wp-content/uploads/2018/03/MG_0104-3.jpg\n",
      "[!] Error:: Remote end closed connection without response\n"
     ]
    },
    {
     "name": "stderr",
     "output_type": "stream",
     "text": [
      "Processing class: snail:  14%|█▍        | 29/200 [02:51<16:36,  5.83s/it]   "
     ]
    },
    {
     "name": "stdout",
     "output_type": "stream",
     "text": [
      "\n",
      "\n",
      "[%] Done. Downloaded 10 images.\n",
      "[%] Downloading Images to /home/sagemaker-user/Domain-Shift-Computer-Vision/imagenetA_generated/snail/a photo of snail\n"
     ]
    },
    {
     "name": "stderr",
     "output_type": "stream",
     "text": [
      "Processing class: crayfish:  15%|█▌        | 30/200 [02:54<14:19,  5.05s/it]"
     ]
    },
    {
     "name": "stdout",
     "output_type": "stream",
     "text": [
      "\n",
      "\n",
      "[%] Done. Downloaded 10 images.\n",
      "[%] Downloading Images to /home/sagemaker-user/Domain-Shift-Computer-Vision/imagenetA_generated/crayfish/a photo of crayfish\n",
      "[!] Issue getting: https://i0.wp.com/aquariumtidings.com/wp-content/uploads/2014/06/Depositphotos_32823351_original.jpg?w=3000&amp;ssl=1\n",
      "[!] Error:: HTTP Error 404: Not Found\n",
      "[!] Issue getting: https://fisk.com.sg/wp-content/uploads/2020/09/Frozen-China-Crayfish-Crawfish-Cooked-in-Brine-Whole-1kg-Inside-Top-1536x1536.jpg\n",
      "[!] Error:: Remote end closed connection without response\n",
      "[!] Issue getting: https://i0.wp.com/aquariumtidings.com/wp-content/uploads/2014/06/Depositphotos_1170803_original.jpg?w=2000&amp;ssl=1\n",
      "[!] Error:: HTTP Error 404: Not Found\n",
      "[!] Issue getting: http://mediad.publicbroadcasting.net/p/wvpn/files/styles/x_large/public/201604/Big_Sandy_Crayfish_Guenter_Schuster_FPWC.jpg\n",
      "[!] Error:: HTTP Error 404: Not Found\n"
     ]
    },
    {
     "name": "stderr",
     "output_type": "stream",
     "text": [
      "Processing class: hermit crab:  16%|█▌        | 31/200 [03:00<14:57,  5.31s/it]"
     ]
    },
    {
     "name": "stdout",
     "output_type": "stream",
     "text": [
      "\n",
      "\n",
      "[%] Done. Downloaded 10 images.\n",
      "[%] Downloading Images to /home/sagemaker-user/Domain-Shift-Computer-Vision/imagenetA_generated/hermit crab/a photo of hermit crab\n",
      "[!] Issue getting: https://i1.wp.com/www.cruisingtheedge.com/wp-content/uploads/2016/03/red-hermit-crab-south-diamond-islet-4.jpg?ssl=1\n",
      "[!] Error:: HTTP Error 404: Not Found\n",
      "[!] Issue getting: http://www.berkeley.edu/news2/2012/10/hermitcrabcloseup.jpg\n",
      "[!] Error:: HTTP Error 404: Not Found\n",
      "[Error]Invalid image, not saving https://cdn.britannica.com/77/11077-050-F49321EA/Hermit-crab.jpg\n",
      "\n",
      "[!] Issue getting: https://cdn.britannica.com/77/11077-050-F49321EA/Hermit-crab.jpg\n",
      "[!] Error:: Invalid image, not saving https://cdn.britannica.com/77/11077-050-F49321EA/Hermit-crab.jpg\n",
      "\n"
     ]
    },
    {
     "name": "stderr",
     "output_type": "stream",
     "text": [
      "Processing class: flamingo:  16%|█▌        | 32/200 [03:06<15:43,  5.61s/it]   "
     ]
    },
    {
     "name": "stdout",
     "output_type": "stream",
     "text": [
      "\n",
      "\n",
      "[%] Done. Downloaded 10 images.\n",
      "[%] Downloading Images to /home/sagemaker-user/Domain-Shift-Computer-Vision/imagenetA_generated/flamingo/a photo of flamingo\n",
      "[Error]Invalid image, not saving https://cdn.britannica.com/21/183421-050-5D114B59/Flamingo.jpg\n",
      "\n",
      "[!] Issue getting: https://cdn.britannica.com/21/183421-050-5D114B59/Flamingo.jpg\n",
      "[!] Error:: Invalid image, not saving https://cdn.britannica.com/21/183421-050-5D114B59/Flamingo.jpg\n",
      "\n",
      "[Error]Invalid image, not saving https://upload.wikimedia.org/wikipedia/commons/thumb/7/72/American_flamingo_(Phoenicopterus_ruber).JPG/1200px-American_flamingo_(Phoenicopterus_ruber).JPG\n",
      "\n",
      "[!] Issue getting: https://upload.wikimedia.org/wikipedia/commons/thumb/7/72/American_flamingo_(Phoenicopterus_ruber).JPG/1200px-American_flamingo_(Phoenicopterus_ruber).JPG\n",
      "[!] Error:: Invalid image, not saving https://upload.wikimedia.org/wikipedia/commons/thumb/7/72/American_flamingo_(Phoenicopterus_ruber).JPG/1200px-American_flamingo_(Phoenicopterus_ruber).JPG\n",
      "\n"
     ]
    },
    {
     "name": "stderr",
     "output_type": "stream",
     "text": [
      "Processing class: great egret:  16%|█▋        | 33/200 [03:14<17:30,  6.29s/it]"
     ]
    },
    {
     "name": "stdout",
     "output_type": "stream",
     "text": [
      "\n",
      "\n",
      "[%] Done. Downloaded 10 images.\n",
      "[%] Downloading Images to /home/sagemaker-user/Domain-Shift-Computer-Vision/imagenetA_generated/great egret/a photo of great egret\n",
      "[!] Issue getting: https://ct.audubon.org/sites/default/files/styles/bean_wysiwyg_full_width/public/media-netx/19563/APA-2017_Great Egret_A1_3152_2_Gregory_Seitz_KK.jpg?itok=q5ZFKxWx\n",
      "[!] Error:: URL can't contain control characters. '/sites/default/files/styles/bean_wysiwyg_full_width/public/media-netx/19563/APA-2017_Great Egret_A1_3152_2_Gregory_Seitz_KK.jpg?itok=q5ZFKxWx' (found at least ' ')\n"
     ]
    },
    {
     "name": "stderr",
     "output_type": "stream",
     "text": [
      "Processing class: oystercatcher:  17%|█▋        | 34/200 [03:23<19:08,  6.92s/it]"
     ]
    },
    {
     "name": "stdout",
     "output_type": "stream",
     "text": [
      "[Error]Invalid image, not saving https://images.squarespace-cdn.com/content/v1/51990477e4b0f50f41c3d666/1470592508188-38DAI2V1QET5QPAQNAUT/ke17ZwdGBToddI8pDm48kKtdgQEwWac8BlO6xXQMZM57gQa3H78H3Y0txjaiv_0fDoOvxcdMmMKkDsyUqMSsMWxHk725yiiHCCLfrh8O1z5QHyNOqBUUEtDDsRWrJLTmzZHn3PYdZUow1T0ZeZQrhfLll3V6EgWz8_zs6vnrSoU_3QDAcm_zx9vF4CkS17ZH/great-egret-profile-THP\n",
      "\n",
      "[!] Issue getting: https://images.squarespace-cdn.com/content/v1/51990477e4b0f50f41c3d666/1470592508188-38DAI2V1QET5QPAQNAUT/ke17ZwdGBToddI8pDm48kKtdgQEwWac8BlO6xXQMZM57gQa3H78H3Y0txjaiv_0fDoOvxcdMmMKkDsyUqMSsMWxHk725yiiHCCLfrh8O1z5QHyNOqBUUEtDDsRWrJLTmzZHn3PYdZUow1T0ZeZQrhfLll3V6EgWz8_zs6vnrSoU_3QDAcm_zx9vF4CkS17ZH/great-egret-profile-THP\n",
      "[!] Error:: Invalid image, not saving https://images.squarespace-cdn.com/content/v1/51990477e4b0f50f41c3d666/1470592508188-38DAI2V1QET5QPAQNAUT/ke17ZwdGBToddI8pDm48kKtdgQEwWac8BlO6xXQMZM57gQa3H78H3Y0txjaiv_0fDoOvxcdMmMKkDsyUqMSsMWxHk725yiiHCCLfrh8O1z5QHyNOqBUUEtDDsRWrJLTmzZHn3PYdZUow1T0ZeZQrhfLll3V6EgWz8_zs6vnrSoU_3QDAcm_zx9vF4CkS17ZH/great-egret-profile-THP\n",
      "\n",
      "\n",
      "\n",
      "[%] Done. Downloaded 10 images.\n",
      "[%] Downloading Images to /home/sagemaker-user/Domain-Shift-Computer-Vision/imagenetA_generated/oystercatcher/a photo of oystercatcher\n",
      "[Error]Invalid image, not saving https://www.birdguides-cdn.com/cdn/gallery/birds/16-04-1830-Oystercatcher.jpg?&amp;height=1080\n",
      "\n",
      "[!] Issue getting: https://www.birdguides-cdn.com/cdn/gallery/birds/16-04-1830-Oystercatcher.jpg?&amp;height=1080\n",
      "[!] Error:: Invalid image, not saving https://www.birdguides-cdn.com/cdn/gallery/birds/16-04-1830-Oystercatcher.jpg?&amp;height=1080\n",
      "\n",
      "[Error]Invalid image, not saving https://upload.wikimedia.org/wikipedia/commons/thumb/b/bb/Haematopus_longirostris_2.jpg/1200px-Haematopus_longirostris_2.jpg\n",
      "\n",
      "[!] Issue getting: https://upload.wikimedia.org/wikipedia/commons/thumb/b/bb/Haematopus_longirostris_2.jpg/1200px-Haematopus_longirostris_2.jpg\n",
      "[!] Error:: Invalid image, not saving https://upload.wikimedia.org/wikipedia/commons/thumb/b/bb/Haematopus_longirostris_2.jpg/1200px-Haematopus_longirostris_2.jpg\n",
      "\n",
      "[!] Issue getting: https://findingnature.co.uk/wp-content/uploads/2018/02/Oystercatcher.jpg\n",
      "[!] Error:: <urlopen error [SSL: CERTIFICATE_VERIFY_FAILED] certificate verify failed: Hostname mismatch, certificate is not valid for 'findingnature.co.uk'. (_ssl.c:1007)>\n",
      "[!] Issue getting: https://i1.wp.com/www.gcbo.org/wp-content/uploads/2015/11/AMOY-by-Alan-Wilde.jpg\n",
      "[!] Error:: HTTP Error 404: Not Found\n"
     ]
    },
    {
     "name": "stderr",
     "output_type": "stream",
     "text": [
      "Processing class: pelican:  18%|█▊        | 35/200 [03:31<20:02,  7.29s/it]      "
     ]
    },
    {
     "name": "stdout",
     "output_type": "stream",
     "text": [
      "[!] Issue getting: https://i0.wp.com/www.conservewildlifenj.org/blog/wp-content/uploads/2017/05/american-oystercatcher.jpg?w=2048\n",
      "[!] Error:: HTTP Error 404: Not Found\n",
      "\n",
      "\n",
      "[%] Done. Downloaded 10 images.\n",
      "[%] Downloading Images to /home/sagemaker-user/Domain-Shift-Computer-Vision/imagenetA_generated/pelican/a photo of pelican\n",
      "[!] Issue getting: https://i0.wp.com/floridakeystreasures.com/wp-content/uploads/2017/01/Brown-Pelican.jpg?fit=1116%2C1600&amp;ssl=1\n",
      "[!] Error:: HTTP Error 404: Not Found\n",
      "[!] Issue getting: http://animalia-life.com/data_images/pelican/pelican1.jpg\n",
      "[!] Error:: HTTP Error 404: Not Found\n"
     ]
    },
    {
     "name": "stderr",
     "output_type": "stream",
     "text": [
      "Processing class: sea lion:  18%|█▊        | 36/200 [03:39<20:48,  7.62s/it]"
     ]
    },
    {
     "name": "stdout",
     "output_type": "stream",
     "text": [
      "\n",
      "\n",
      "[%] Done. Downloaded 10 images.\n",
      "[%] Downloading Images to /home/sagemaker-user/Domain-Shift-Computer-Vision/imagenetA_generated/sea lion/a photo of sea lion\n",
      "[!] Issue getting: https://i.redd.it/odvo5klwjxv61.jpg\n",
      "[!] Error:: HTTP Error 403: Blocked\n",
      "[Error]Invalid image, not saving https://www.australiangeographic.com.au/wp-content/uploads/2023/03/624881-56-scaled.jpg\n",
      "\n",
      "[!] Issue getting: https://www.australiangeographic.com.au/wp-content/uploads/2023/03/624881-56-scaled.jpg\n",
      "[!] Error:: Invalid image, not saving https://www.australiangeographic.com.au/wp-content/uploads/2023/03/624881-56-scaled.jpg\n",
      "\n",
      "[!] Issue getting: https://i2.wp.com/www.suasnews.com/wp-content/uploads/2018/09/australian-sea-lion.jpg?fit=1200,1200&amp;ssl=1\n",
      "[!] Error:: HTTP Error 404: Not Found\n"
     ]
    },
    {
     "name": "stderr",
     "output_type": "stream",
     "text": [
      "Processing class: Chihuahua:  18%|█▊        | 37/200 [03:45<18:53,  6.96s/it]"
     ]
    },
    {
     "name": "stdout",
     "output_type": "stream",
     "text": [
      "\n",
      "\n",
      "[%] Done. Downloaded 10 images.\n",
      "[%] Downloading Images to /home/sagemaker-user/Domain-Shift-Computer-Vision/imagenetA_generated/Chihuahua/a photo of Chihuahua\n",
      "[Error]Invalid image, not saving https://cdn.britannica.com/44/233244-050-A65D4571/Chihuahua-dog.jpg\n",
      "\n",
      "[!] Issue getting: https://cdn.britannica.com/44/233244-050-A65D4571/Chihuahua-dog.jpg\n",
      "[!] Error:: Invalid image, not saving https://cdn.britannica.com/44/233244-050-A65D4571/Chihuahua-dog.jpg\n",
      "\n",
      "[!] Issue getting: https://media1.popsugar-assets.com/files/thumbor/87Wq-wq9Mac0ZfsI0omB6X61fTA/fit-in/1024x1024/filters:format_auto-!!-:strip_icc-!!-/2019/09/06/028/n/44701584/f12948cc4f6688dd_GettyImages-639851566/i/Cute-Chihuahua-Pictures.jpg\n",
      "[!] Error:: HTTP Error 502: Bad Gateway\n"
     ]
    },
    {
     "name": "stderr",
     "output_type": "stream",
     "text": [
      "Processing class: Golden Retriever:  19%|█▉        | 38/200 [03:49<16:46,  6.21s/it]"
     ]
    },
    {
     "name": "stdout",
     "output_type": "stream",
     "text": [
      "\n",
      "\n",
      "[%] Done. Downloaded 10 images.\n",
      "[%] Downloading Images to /home/sagemaker-user/Domain-Shift-Computer-Vision/imagenetA_generated/Golden Retriever/a photo of Golden Retriever\n",
      "[Error]Invalid image, not saving https://www.publicdomainpictures.net/pictures/40000/velka/golden-retriever-dog-1362597631o6g.jpg\n",
      "\n",
      "[!] Issue getting: https://www.publicdomainpictures.net/pictures/40000/velka/golden-retriever-dog-1362597631o6g.jpg\n",
      "[!] Error:: Invalid image, not saving https://www.publicdomainpictures.net/pictures/40000/velka/golden-retriever-dog-1362597631o6g.jpg\n",
      "\n",
      "[Error]Invalid image, not saving https://thehappypuppysite.com/wp-content/uploads/2017/12/golden3-1.jpg\n",
      "\n",
      "[!] Issue getting: https://thehappypuppysite.com/wp-content/uploads/2017/12/golden3-1.jpg\n",
      "[!] Error:: Invalid image, not saving https://thehappypuppysite.com/wp-content/uploads/2017/12/golden3-1.jpg\n",
      "\n",
      "[!] Issue getting: https://imagesvc.meredithcorp.io/v3/mm/image?url=https:%2F%2Fstatic.onecms.io%2Fwp-content%2Fuploads%2Fsites%2F47%2F2020%2F08%2F16%2Fgolden-retriever-177213599-2000.jpg\n",
      "[!] Error:: HTTP Error 400: Bad Request\n",
      "[!] Issue getting: http://www.dog-breeds.com/pictures/golden-retriever.jpg\n",
      "[!] Error:: HTTP Error 404: Not Found\n"
     ]
    },
    {
     "name": "stderr",
     "output_type": "stream",
     "text": [
      "Processing class: Rottweiler:  20%|█▉        | 39/200 [03:54<15:45,  5.87s/it]      "
     ]
    },
    {
     "name": "stdout",
     "output_type": "stream",
     "text": [
      "\n",
      "\n",
      "[%] Done. Downloaded 10 images.\n",
      "[%] Downloading Images to /home/sagemaker-user/Domain-Shift-Computer-Vision/imagenetA_generated/Rottweiler/a photo of Rottweiler\n",
      "[!] Issue getting: https://imagesvc.meredithcorp.io/v3/mm/image?url=https:%2F%2Fstatic.onecms.io%2Fwp-content%2Fuploads%2Fsites%2F47%2F2020%2F08%2F06%2Frottweiler-headshot-678833089-2000.jpg\n",
      "[!] Error:: HTTP Error 400: Bad Request\n",
      "[Error]Invalid image, not saving https://cdn.britannica.com/70/234470-050-F25D5205/Rottweiler-dog.jpg\n",
      "\n",
      "[!] Issue getting: https://cdn.britannica.com/70/234470-050-F25D5205/Rottweiler-dog.jpg\n",
      "[!] Error:: Invalid image, not saving https://cdn.britannica.com/70/234470-050-F25D5205/Rottweiler-dog.jpg\n",
      "\n",
      "[Error]Invalid image, not saving https://cdn.britannica.com/69/234469-050-B883797B/Rottweiler-dog.jpg\n",
      "\n",
      "[!] Issue getting: https://cdn.britannica.com/69/234469-050-B883797B/Rottweiler-dog.jpg\n",
      "[!] Error:: Invalid image, not saving https://cdn.britannica.com/69/234469-050-B883797B/Rottweiler-dog.jpg\n",
      "\n"
     ]
    },
    {
     "name": "stderr",
     "output_type": "stream",
     "text": [
      "Processing class: German Shepherd Dog:  20%|██        | 40/200 [03:57<12:55,  4.85s/it]"
     ]
    },
    {
     "name": "stdout",
     "output_type": "stream",
     "text": [
      "\n",
      "\n",
      "[%] Done. Downloaded 10 images.\n",
      "[%] Downloading Images to /home/sagemaker-user/Domain-Shift-Computer-Vision/imagenetA_generated/German Shepherd Dog/a photo of German Shepherd Dog\n",
      "[!] Issue getting: https://www.perropet.com/wp-content/uploads/2016/05/Buck_The_GSD.jpg\n",
      "[!] Error:: <urlopen error timed out>\n",
      "[!] Issue getting: https://upload.wikimedia.org/wikipedia/commons/thumb/a/a8/02.Owczarek_niemiecki_użytkowy_krótkowłosy_suka.jpg/1200px-02.Owczarek_niemiecki_użytkowy_krótkowłosy_suka.jpg\n",
      "[!] Error:: 'ascii' codec can't encode character '\\u017c' in position 57: ordinal not in range(128)\n",
      "[!] Issue getting: https://spot-and-tango.s3.amazonaws.com/production/media/German_Shepherd_Dog_2019-08-29T202935.jpg\n",
      "[!] Error:: HTTP Error 404: Not Found\n",
      "[Error]Invalid image, not saving https://cdn.britannica.com/79/232779-050-6B0411D7/German-Shepherd-dog-Alsatian.jpg\n",
      "\n",
      "[!] Issue getting: https://cdn.britannica.com/79/232779-050-6B0411D7/German-Shepherd-dog-Alsatian.jpg\n",
      "[!] Error:: Invalid image, not saving https://cdn.britannica.com/79/232779-050-6B0411D7/German-Shepherd-dog-Alsatian.jpg\n",
      "\n"
     ]
    },
    {
     "name": "stderr",
     "output_type": "stream",
     "text": [
      "Processing class: pug:  20%|██        | 41/200 [06:02<1:48:40, 41.01s/it]                "
     ]
    },
    {
     "name": "stdout",
     "output_type": "stream",
     "text": [
      "\n",
      "\n",
      "[%] Done. Downloaded 10 images.\n",
      "[%] Downloading Images to /home/sagemaker-user/Domain-Shift-Computer-Vision/imagenetA_generated/pug/a photo of pug\n",
      "[Error]Invalid image, not saving http://aboutpug.com/wp-content/uploads/2018/03/Cute-pug-puppy.jpg\n",
      "\n",
      "[!] Issue getting: http://aboutpug.com/wp-content/uploads/2018/03/Cute-pug-puppy.jpg\n",
      "[!] Error:: Invalid image, not saving http://aboutpug.com/wp-content/uploads/2018/03/Cute-pug-puppy.jpg\n",
      "\n",
      "[Error]Invalid image, not saving http://aboutpug.com/wp-content/uploads/2014/10/Happy-pug.jpg\n",
      "\n",
      "[!] Issue getting: http://aboutpug.com/wp-content/uploads/2014/10/Happy-pug.jpg\n",
      "[!] Error:: Invalid image, not saving http://aboutpug.com/wp-content/uploads/2014/10/Happy-pug.jpg\n",
      "\n",
      "[Error]Invalid image, not saving https://cdn.britannica.com/35/233235-050-8DED07E3/Pug-dog.jpg\n",
      "\n",
      "[!] Issue getting: https://cdn.britannica.com/35/233235-050-8DED07E3/Pug-dog.jpg\n",
      "[!] Error:: Invalid image, not saving https://cdn.britannica.com/35/233235-050-8DED07E3/Pug-dog.jpg\n",
      "\n",
      "[!] Issue getting: http://elelur.com/data_images/dog-breeds/pug/pug-05.jpg\n",
      "[!] Error:: HTTP Error 404: Not Found\n",
      "[Error]Invalid image, not saving http://aboutpug.com/wp-content/uploads/2015/01/cute-pug-posing.jpg\n",
      "\n",
      "[!] Issue getting: http://aboutpug.com/wp-content/uploads/2015/01/cute-pug-posing.jpg\n",
      "[!] Error:: Invalid image, not saving http://aboutpug.com/wp-content/uploads/2015/01/cute-pug-posing.jpg\n",
      "\n"
     ]
    },
    {
     "name": "stderr",
     "output_type": "stream",
     "text": [
      "Processing class: red fox:  21%|██        | 42/200 [06:07<1:19:27, 30.18s/it]"
     ]
    },
    {
     "name": "stdout",
     "output_type": "stream",
     "text": [
      "\n",
      "\n",
      "[%] Done. Downloaded 10 images.\n",
      "[%] Downloading Images to /home/sagemaker-user/Domain-Shift-Computer-Vision/imagenetA_generated/red fox/a photo of red fox\n"
     ]
    },
    {
     "name": "stderr",
     "output_type": "stream",
     "text": [
      "Processing class: Persian cat:  22%|██▏       | 43/200 [06:11<58:18, 22.28s/it]"
     ]
    },
    {
     "name": "stdout",
     "output_type": "stream",
     "text": [
      "\n",
      "\n",
      "[%] Done. Downloaded 10 images.\n",
      "[%] Downloading Images to /home/sagemaker-user/Domain-Shift-Computer-Vision/imagenetA_generated/Persian cat/a photo of Persian cat\n"
     ]
    },
    {
     "name": "stderr",
     "output_type": "stream",
     "text": [
      "Processing class: lynx:  22%|██▏       | 44/200 [06:16<44:43, 17.20s/it]       "
     ]
    },
    {
     "name": "stdout",
     "output_type": "stream",
     "text": [
      "\n",
      "\n",
      "[%] Done. Downloaded 10 images.\n",
      "[%] Downloading Images to /home/sagemaker-user/Domain-Shift-Computer-Vision/imagenetA_generated/lynx/a photo of lynx\n",
      "[Error]Invalid image, not saving http://www.wildlifearticles.co.uk/wp-content/uploads/2014/10/lynx.jpg\n",
      "\n",
      "[!] Issue getting: http://www.wildlifearticles.co.uk/wp-content/uploads/2014/10/lynx.jpg\n",
      "[!] Error:: Invalid image, not saving http://www.wildlifearticles.co.uk/wp-content/uploads/2014/10/lynx.jpg\n",
      "\n"
     ]
    },
    {
     "name": "stderr",
     "output_type": "stream",
     "text": [
      "Processing class: lion:  22%|██▎       | 45/200 [06:20<33:49, 13.09s/it]"
     ]
    },
    {
     "name": "stdout",
     "output_type": "stream",
     "text": [
      "\n",
      "\n",
      "[%] Done. Downloaded 10 images.\n",
      "[%] Downloading Images to /home/sagemaker-user/Domain-Shift-Computer-Vision/imagenetA_generated/lion/a photo of lion\n",
      "[!] Issue getting: https://15pictures.com/wp-content/gallery/15-pictures-lions/lions-4.jpg\n",
      "[!] Error:: HTTP Error 521: \n",
      "[!] Issue getting: https://fl-i.thgim.com/public/incoming/pjqi5w/article65751179.ece/alternates/FREE_1200/Project Lion.jpg\n",
      "[!] Error:: URL can't contain control characters. '/public/incoming/pjqi5w/article65751179.ece/alternates/FREE_1200/Project Lion.jpg' (found at least ' ')\n"
     ]
    },
    {
     "name": "stderr",
     "output_type": "stream",
     "text": [
      "Processing class: American black bear:  23%|██▎       | 46/200 [06:23<26:11, 10.20s/it]"
     ]
    },
    {
     "name": "stdout",
     "output_type": "stream",
     "text": [
      "\n",
      "\n",
      "[%] Done. Downloaded 10 images.\n",
      "[%] Downloading Images to /home/sagemaker-user/Domain-Shift-Computer-Vision/imagenetA_generated/American black bear/a photo of American black bear\n",
      "[Error]Invalid image, not saving https://www.worldatlas.com/upload/58/e7/a4/thinkstockphotos-177804726.jpg\n",
      "\n",
      "[!] Issue getting: https://www.worldatlas.com/upload/58/e7/a4/thinkstockphotos-177804726.jpg\n",
      "[!] Error:: Invalid image, not saving https://www.worldatlas.com/upload/58/e7/a4/thinkstockphotos-177804726.jpg\n",
      "\n",
      "[!] Issue getting: http://mediad.publicbroadcasting.net/p/michigan/files/styles/x_large/public/201702/big-black-bear-detailed-ursus-americanus.jpg\n",
      "[!] Error:: HTTP Error 404: Not Found\n",
      "[!] Issue getting: https://upload.wikimedia.org/wikipedia/commons/0/08/01_Schwarzbär.jpg\n",
      "[!] Error:: 'ascii' codec can't encode character '\\xe4' in position 39: ordinal not in range(128)\n"
     ]
    },
    {
     "name": "stderr",
     "output_type": "stream",
     "text": [
      "Processing class: mongoose:  24%|██▎       | 47/200 [06:31<24:16,  9.52s/it]           "
     ]
    },
    {
     "name": "stdout",
     "output_type": "stream",
     "text": [
      "\n",
      "\n",
      "[%] Done. Downloaded 10 images.\n",
      "[%] Downloading Images to /home/sagemaker-user/Domain-Shift-Computer-Vision/imagenetA_generated/mongoose/a photo of mongoose\n",
      "[Error]Invalid image, not saving https://cdn.britannica.com/98/166698-050-CAC3BED3/mongoose-adult-body-measures.jpg\n",
      "\n",
      "[!] Issue getting: https://cdn.britannica.com/98/166698-050-CAC3BED3/mongoose-adult-body-measures.jpg\n",
      "[!] Error:: Invalid image, not saving https://cdn.britannica.com/98/166698-050-CAC3BED3/mongoose-adult-body-measures.jpg\n",
      "\n",
      "[Error]Invalid image, not saving https://cdn.britannica.com/06/174006-050-AB1284EC/mongoose-carnivore-groups-most-basin-Congo-sub-Saharan.jpg\n",
      "\n",
      "[!] Issue getting: https://cdn.britannica.com/06/174006-050-AB1284EC/mongoose-carnivore-groups-most-basin-Congo-sub-Saharan.jpg\n",
      "[!] Error:: Invalid image, not saving https://cdn.britannica.com/06/174006-050-AB1284EC/mongoose-carnivore-groups-most-basin-Congo-sub-Saharan.jpg\n",
      "\n"
     ]
    },
    {
     "name": "stderr",
     "output_type": "stream",
     "text": [
      "Processing class: ladybug:  24%|██▍       | 48/200 [06:34<19:14,  7.60s/it] "
     ]
    },
    {
     "name": "stdout",
     "output_type": "stream",
     "text": [
      "\n",
      "\n",
      "[%] Done. Downloaded 10 images.\n",
      "[%] Downloading Images to /home/sagemaker-user/Domain-Shift-Computer-Vision/imagenetA_generated/ladybug/a photo of ladybug\n",
      "[!] Issue getting: https://i0.wp.com/birdwatchinghq.com/wp-content/uploads/2021/11/ladybug-featured-image-scaled.jpg\n",
      "[!] Error:: HTTP Error 404: Not Found\n",
      "[!] Issue getting: https://www.farmersalmanac.com/wp-content/uploads/2009/10/iStock_3405593_LadyBug.jpg\n",
      "[!] Error:: HTTP Error 404: Not Found\n"
     ]
    },
    {
     "name": "stderr",
     "output_type": "stream",
     "text": [
      "Processing class: rhinoceros beetle:  24%|██▍       | 49/200 [06:39<17:24,  6.92s/it]"
     ]
    },
    {
     "name": "stdout",
     "output_type": "stream",
     "text": [
      "\n",
      "\n",
      "[%] Done. Downloaded 10 images.\n",
      "[%] Downloading Images to /home/sagemaker-user/Domain-Shift-Computer-Vision/imagenetA_generated/rhinoceros beetle/a photo of rhinoceros beetle\n",
      "[!] Issue getting: https://beetleidentifications.com/wp-content/uploads/2020/11/European-Rhinoceros-Beetle-1536x1152.jpg\n",
      "[!] Error:: Remote end closed connection without response\n",
      "[Error]Invalid image, not saving https://cdn.britannica.com/63/133963-050-4A95ECD4/rhinoceros-beetle-valley-Danum-East-Malaysia-Sabah.jpg\n",
      "\n",
      "[!] Issue getting: https://cdn.britannica.com/63/133963-050-4A95ECD4/rhinoceros-beetle-valley-Danum-East-Malaysia-Sabah.jpg\n",
      "[!] Error:: Invalid image, not saving https://cdn.britannica.com/63/133963-050-4A95ECD4/rhinoceros-beetle-valley-Danum-East-Malaysia-Sabah.jpg\n",
      "\n",
      "[Error]Invalid image, not saving https://cdn.britannica.com/64/133964-050-93C53137/European-rhinoceros-beetle.jpg\n",
      "\n",
      "[!] Issue getting: https://cdn.britannica.com/64/133964-050-93C53137/European-rhinoceros-beetle.jpg\n",
      "[!] Error:: Invalid image, not saving https://cdn.britannica.com/64/133964-050-93C53137/European-rhinoceros-beetle.jpg\n",
      "\n",
      "[!] Issue getting: https://www.nwf.org/-/media/NEW-WEBSITE/Shared-Folder/Wildlife/Invertebrates/invertebrate_rhinoceros-beetle_600x300.ashx\n",
      "[!] Error:: <urlopen error [SSL: CERTIFICATE_VERIFY_FAILED] certificate verify failed: unable to get local issuer certificate (_ssl.c:1007)>\n",
      "[!] Issue getting: https://aussiemacrophotos.com/wp-content/uploads/2021/05/B171111.jpg\n",
      "[!] Error:: Remote end closed connection without response\n"
     ]
    },
    {
     "name": "stderr",
     "output_type": "stream",
     "text": [
      "Processing class: weevil:  25%|██▌       | 50/200 [06:46<16:40,  6.67s/it]           "
     ]
    },
    {
     "name": "stdout",
     "output_type": "stream",
     "text": [
      "\n",
      "\n",
      "[%] Done. Downloaded 10 images.\n",
      "[%] Downloading Images to /home/sagemaker-user/Domain-Shift-Computer-Vision/imagenetA_generated/weevil/a photo of weevil\n",
      "[Error]Invalid image, not saving https://cesaraustralia.com/wp-content/uploads/2020/12/spine-tailed-weevil-female-adult-Andrew-Weeks-Cesar-Australia.jpg\n",
      "\n",
      "[!] Issue getting: https://cesaraustralia.com/wp-content/uploads/2020/12/spine-tailed-weevil-female-adult-Andrew-Weeks-Cesar-Australia.jpg\n",
      "[!] Error:: Invalid image, not saving https://cesaraustralia.com/wp-content/uploads/2020/12/spine-tailed-weevil-female-adult-Andrew-Weeks-Cesar-Australia.jpg\n",
      "\n",
      "[Error]Invalid image, not saving https://cdn.britannica.com/43/124743-050-7C515851/Weevil.jpg\n",
      "\n",
      "[!] Issue getting: https://cdn.britannica.com/43/124743-050-7C515851/Weevil.jpg\n",
      "[!] Error:: Invalid image, not saving https://cdn.britannica.com/43/124743-050-7C515851/Weevil.jpg\n",
      "\n",
      "[Error]Invalid image, not saving https://cdn.branchcms.com/WejJPKldRq-1556/images/gf-pest-id-weevils.jpg\n",
      "\n",
      "[!] Issue getting: https://cdn.branchcms.com/WejJPKldRq-1556/images/gf-pest-id-weevils.jpg\n",
      "[!] Error:: Invalid image, not saving https://cdn.branchcms.com/WejJPKldRq-1556/images/gf-pest-id-weevils.jpg\n",
      "\n",
      "[!] Issue getting: https://www.bugfreegrains.com/-/media/Project/OneWeb/NewBugFreeGrains/Images/blog/wheat-weevil.png\n",
      "[!] Error:: <urlopen error [SSL: CERTIFICATE_VERIFY_FAILED] certificate verify failed: unable to get local issuer certificate (_ssl.c:1007)>\n"
     ]
    },
    {
     "name": "stderr",
     "output_type": "stream",
     "text": [
      "Processing class: fly:  26%|██▌       | 51/200 [06:54<18:02,  7.26s/it]   "
     ]
    },
    {
     "name": "stdout",
     "output_type": "stream",
     "text": [
      "\n",
      "\n",
      "[%] Done. Downloaded 10 images.\n",
      "[%] Downloading Images to /home/sagemaker-user/Domain-Shift-Computer-Vision/imagenetA_generated/fly/a photo of fly\n",
      "[Error]Invalid image, not saving https://cdn.britannica.com/21/6721-050-49AA5FC5/Bluebottle-fly.jpg\n",
      "\n",
      "[!] Issue getting: https://cdn.britannica.com/21/6721-050-49AA5FC5/Bluebottle-fly.jpg\n",
      "[!] Error:: Invalid image, not saving https://cdn.britannica.com/21/6721-050-49AA5FC5/Bluebottle-fly.jpg\n",
      "\n",
      "[Error]Invalid image, not saving http://blog.jefferspet.com/wp-content/uploads/2015/06/iStock_000008082807_Large.jpg\n",
      "\n",
      "[!] Issue getting: http://blog.jefferspet.com/wp-content/uploads/2015/06/iStock_000008082807_Large.jpg\n",
      "[!] Error:: Invalid image, not saving http://blog.jefferspet.com/wp-content/uploads/2015/06/iStock_000008082807_Large.jpg\n",
      "\n",
      "[!] Issue getting: https://www.welcomewildlife.com/wp-content/uploads/2015/01/House-Fly-©-Cherdchai-Chaivimol-Shutterstock-scaled.jpg\n",
      "[!] Error:: 'ascii' codec can't encode character '\\xa9' in position 42: ordinal not in range(128)\n"
     ]
    },
    {
     "name": "stderr",
     "output_type": "stream",
     "text": [
      "Processing class: bee:  26%|██▌       | 52/200 [07:00<16:44,  6.79s/it]"
     ]
    },
    {
     "name": "stdout",
     "output_type": "stream",
     "text": [
      "\n",
      "\n",
      "[%] Done. Downloaded 10 images.\n",
      "[%] Downloading Images to /home/sagemaker-user/Domain-Shift-Computer-Vision/imagenetA_generated/bee/a photo of bee\n",
      "[!] Issue getting: http://sites.psu.edu/alouise/wp-content/uploads/sites/38740/2016/04/save-the-bees-2.jpg\n",
      "[!] Error:: HTTP Error 404: Not Found\n",
      "[!] Issue getting: http://knockoutpest.com/wp-content/uploads/2014/06/honey-bee-close-up.jpg\n",
      "[!] Error:: HTTP Error 404: Not Found\n"
     ]
    },
    {
     "name": "stderr",
     "output_type": "stream",
     "text": [
      "Processing class: ant:  26%|██▋       | 53/200 [07:05<15:44,  6.43s/it]"
     ]
    },
    {
     "name": "stdout",
     "output_type": "stream",
     "text": [
      "\n",
      "\n",
      "[%] Done. Downloaded 10 images.\n",
      "[%] Downloading Images to /home/sagemaker-user/Domain-Shift-Computer-Vision/imagenetA_generated/ant/a photo of ant\n",
      "[!] Issue getting: https://www.greenpestsolutions.com/wp-content/uploads/2018/05/ants.jpg\n",
      "[!] Error:: HTTP Error 404: Not Found\n",
      "[!] Issue getting: https://www.sigmapest.com/wp-content/uploads/2019/06/ant-insect-invertebrate-1086872.jpg\n",
      "[!] Error:: Remote end closed connection without response\n"
     ]
    },
    {
     "name": "stderr",
     "output_type": "stream",
     "text": [
      "Processing class: grasshopper:  27%|██▋       | 54/200 [07:13<16:09,  6.64s/it]"
     ]
    },
    {
     "name": "stdout",
     "output_type": "stream",
     "text": [
      "\n",
      "\n",
      "[%] Done. Downloaded 10 images.\n",
      "[%] Downloading Images to /home/sagemaker-user/Domain-Shift-Computer-Vision/imagenetA_generated/grasshopper/a photo of grasshopper\n",
      "[Error]Invalid image, not saving https://cdn.britannica.com/53/76053-050-84774E10/grasshopper.jpg\n",
      "\n",
      "[!] Issue getting: https://cdn.britannica.com/53/76053-050-84774E10/grasshopper.jpg\n",
      "[!] Error:: Invalid image, not saving https://cdn.britannica.com/53/76053-050-84774E10/grasshopper.jpg\n",
      "\n",
      "[Error]Invalid image, not saving https://cdn.britannica.com/18/124718-050-1A9CD508/eardrums-legs-Crickets-sides-bodies-breathing-holes.jpg\n",
      "\n",
      "[!] Issue getting: https://cdn.britannica.com/18/124718-050-1A9CD508/eardrums-legs-Crickets-sides-bodies-breathing-holes.jpg\n",
      "[!] Error:: Invalid image, not saving https://cdn.britannica.com/18/124718-050-1A9CD508/eardrums-legs-Crickets-sides-bodies-breathing-holes.jpg\n",
      "\n",
      "[Error]Invalid image, not saving http://photoshd.files.wordpress.com/2008/06/grasshopper2.jpg\n",
      "\n",
      "[!] Issue getting: http://photoshd.files.wordpress.com/2008/06/grasshopper2.jpg\n",
      "[!] Error:: Invalid image, not saving http://photoshd.files.wordpress.com/2008/06/grasshopper2.jpg\n",
      "\n"
     ]
    },
    {
     "name": "stderr",
     "output_type": "stream",
     "text": [
      "Processing class: stick insect:  28%|██▊       | 55/200 [07:19<16:02,  6.64s/it]"
     ]
    },
    {
     "name": "stdout",
     "output_type": "stream",
     "text": [
      "[Error]Invalid image, not saving https://cdn.britannica.com/62/2462-050-B82C5E99/Meadow-grasshopper.jpg\n",
      "\n",
      "[!] Issue getting: https://cdn.britannica.com/62/2462-050-B82C5E99/Meadow-grasshopper.jpg\n",
      "[!] Error:: Invalid image, not saving https://cdn.britannica.com/62/2462-050-B82C5E99/Meadow-grasshopper.jpg\n",
      "\n",
      "\n",
      "\n",
      "[%] Done. Downloaded 10 images.\n",
      "[%] Downloading Images to /home/sagemaker-user/Domain-Shift-Computer-Vision/imagenetA_generated/stick insect/a photo of stick insect\n",
      "[!] Issue getting: https://i0.wp.com/headsup.boyslife.org/files/2016/09/stick-insect-1.jpg\n",
      "[!] Error:: HTTP Error 404: Not Found\n",
      "[Error]Invalid image, not saving https://petkeen.com/wp-content/uploads/2021/08/Stick-insect-WG_L.-Shyamal_Wikimedia-Commons-CC-3.0-Unported.jpg\n",
      "\n",
      "[!] Issue getting: https://petkeen.com/wp-content/uploads/2021/08/Stick-insect-WG_L.-Shyamal_Wikimedia-Commons-CC-3.0-Unported.jpg\n",
      "[!] Error:: Invalid image, not saving https://petkeen.com/wp-content/uploads/2021/08/Stick-insect-WG_L.-Shyamal_Wikimedia-Commons-CC-3.0-Unported.jpg\n",
      "\n"
     ]
    },
    {
     "name": "stderr",
     "output_type": "stream",
     "text": [
      "Processing class: cockroach:  28%|██▊       | 56/200 [07:27<16:41,  6.96s/it]   "
     ]
    },
    {
     "name": "stdout",
     "output_type": "stream",
     "text": [
      "\n",
      "\n",
      "[%] Done. Downloaded 10 images.\n",
      "[%] Downloading Images to /home/sagemaker-user/Domain-Shift-Computer-Vision/imagenetA_generated/cockroach/a photo of cockroach\n",
      "[!] Issue getting: https://extension.msstate.edu/sites/default/files/newsletter-images/bug’s-eye-view/unnamed-3.jpg\n",
      "[!] Error:: 'ascii' codec can't encode character '\\u2019' in position 46: ordinal not in range(128)\n",
      "[!] Issue getting: https://drpest.net/wp-content/uploads/04417ae1.jpeg\n",
      "[!] Error:: Remote end closed connection without response\n",
      "[!] Issue getting: https://www.rd.com/wp-content/uploads/2020/04/madagascar-hissing-cockroach.jpg?w=1200\n",
      "[!] Error:: HTTP Error 403: Forbidden\n",
      "[!] Issue getting: https://www.sigmapest.com/wp-content/uploads/2019/07/beast-740729_1280.jpg\n",
      "[!] Error:: Remote end closed connection without response\n"
     ]
    },
    {
     "name": "stderr",
     "output_type": "stream",
     "text": [
      "Processing class: mantis:  28%|██▊       | 57/200 [07:43<23:21,  9.80s/it]   "
     ]
    },
    {
     "name": "stdout",
     "output_type": "stream",
     "text": [
      "\n",
      "\n",
      "[%] Done. Downloaded 10 images.\n",
      "[%] Downloading Images to /home/sagemaker-user/Domain-Shift-Computer-Vision/imagenetA_generated/mantis/a photo of mantis\n",
      "[!] Issue getting: http://upload.wikimedia.org/wikipedia/en/6/65/Praying_Mantis_(California).jpg\n",
      "[!] Error:: HTTP Error 404: Not Found\n"
     ]
    },
    {
     "name": "stderr",
     "output_type": "stream",
     "text": [
      "Processing class: leafhopper:  29%|██▉       | 58/200 [07:47<18:26,  7.79s/it]"
     ]
    },
    {
     "name": "stdout",
     "output_type": "stream",
     "text": [
      "\n",
      "\n",
      "[%] Done. Downloaded 10 images.\n",
      "[%] Downloading Images to /home/sagemaker-user/Domain-Shift-Computer-Vision/imagenetA_generated/leafhopper/a photo of leafhopper\n",
      "[Error]Invalid image, not saving http://i.imgur.com/FtMMX.jpg\n",
      "\n",
      "[!] Issue getting: http://i.imgur.com/FtMMX.jpg\n",
      "[!] Error:: Invalid image, not saving http://i.imgur.com/FtMMX.jpg\n",
      "\n"
     ]
    },
    {
     "name": "stderr",
     "output_type": "stream",
     "text": [
      "Processing class: dragonfly:  30%|██▉       | 59/200 [07:50<15:33,  6.62s/it] "
     ]
    },
    {
     "name": "stdout",
     "output_type": "stream",
     "text": [
      "\n",
      "\n",
      "[%] Done. Downloaded 10 images.\n",
      "[%] Downloading Images to /home/sagemaker-user/Domain-Shift-Computer-Vision/imagenetA_generated/dragonfly/a photo of dragonfly\n",
      "[!] Issue getting: http://www.nerjarob.com/nature/wp-content/uploads/dragonfly-aug-30-10.jpg\n",
      "[!] Error:: HTTP Error 404: Not Found\n"
     ]
    },
    {
     "name": "stderr",
     "output_type": "stream",
     "text": [
      "Processing class: monarch butterfly:  30%|███       | 60/200 [07:55<13:46,  5.91s/it]"
     ]
    },
    {
     "name": "stdout",
     "output_type": "stream",
     "text": [
      "\n",
      "\n",
      "[%] Done. Downloaded 10 images.\n",
      "[%] Downloading Images to /home/sagemaker-user/Domain-Shift-Computer-Vision/imagenetA_generated/monarch butterfly/a photo of monarch butterfly\n",
      "[!] Issue getting: https://i1.wp.com/www.conservewildlifenj.org/blog/wp-content/uploads/2015/09/Monarch_LB.jpg\n",
      "[!] Error:: HTTP Error 404: Not Found\n"
     ]
    },
    {
     "name": "stderr",
     "output_type": "stream",
     "text": [
      "Processing class: small white:  30%|███       | 61/200 [08:00<13:20,  5.76s/it]      "
     ]
    },
    {
     "name": "stdout",
     "output_type": "stream",
     "text": [
      "\n",
      "\n",
      "[%] Done. Downloaded 10 images.\n",
      "[%] Downloading Images to /home/sagemaker-user/Domain-Shift-Computer-Vision/imagenetA_generated/small white/a photo of small white\n",
      "[!] Issue getting: https://www.rd.com/wp-content/uploads/2021/03/GettyImages-185867236-scaled-e1617044973291.jpg?resize=2048\n",
      "[!] Error:: HTTP Error 403: Forbidden\n",
      "[!] Issue getting: https://www.practicalpaw.com/wp-content/uploads/Small-white-dog-breeds.jpg\n",
      "[!] Error:: Remote end closed connection without response\n"
     ]
    },
    {
     "name": "stderr",
     "output_type": "stream",
     "text": [
      "Processing class: gossamer-winged butterfly:  31%|███       | 62/200 [08:04<12:05,  5.26s/it]"
     ]
    },
    {
     "name": "stdout",
     "output_type": "stream",
     "text": [
      "\n",
      "\n",
      "[%] Done. Downloaded 10 images.\n",
      "[%] Downloading Images to /home/sagemaker-user/Domain-Shift-Computer-Vision/imagenetA_generated/gossamer-winged butterfly/a photo of gossamer-winged butterfly\n",
      "[Error]Invalid image, not saving https://www.worldatlas.com/r/w1200/upload/df/9c/f7/maculinea-arion-large-blue-upperside-sfrance-2009-07-18.jpg\n",
      "\n",
      "[!] Issue getting: https://www.worldatlas.com/r/w1200/upload/df/9c/f7/maculinea-arion-large-blue-upperside-sfrance-2009-07-18.jpg\n",
      "[!] Error:: Invalid image, not saving https://www.worldatlas.com/r/w1200/upload/df/9c/f7/maculinea-arion-large-blue-upperside-sfrance-2009-07-18.jpg\n",
      "\n"
     ]
    },
    {
     "name": "stderr",
     "output_type": "stream",
     "text": [
      "Processing class: starfish:  32%|███▏      | 63/200 [08:09<11:55,  5.22s/it]                 "
     ]
    },
    {
     "name": "stdout",
     "output_type": "stream",
     "text": [
      "\n",
      "\n",
      "[%] Done. Downloaded 10 images.\n",
      "[%] Downloading Images to /home/sagemaker-user/Domain-Shift-Computer-Vision/imagenetA_generated/starfish/a photo of starfish\n"
     ]
    },
    {
     "name": "stderr",
     "output_type": "stream",
     "text": [
      "Processing class: cottontail rabbit:  32%|███▏      | 64/200 [08:11<09:30,  4.19s/it]"
     ]
    },
    {
     "name": "stdout",
     "output_type": "stream",
     "text": [
      "\n",
      "\n",
      "[%] Done. Downloaded 10 images.\n",
      "[%] Downloading Images to /home/sagemaker-user/Domain-Shift-Computer-Vision/imagenetA_generated/cottontail rabbit/a photo of cottontail rabbit\n"
     ]
    },
    {
     "name": "stderr",
     "output_type": "stream",
     "text": [
      "Processing class: porcupine:  32%|███▎      | 65/200 [08:18<11:36,  5.16s/it]        "
     ]
    },
    {
     "name": "stdout",
     "output_type": "stream",
     "text": [
      "\n",
      "\n",
      "[%] Done. Downloaded 10 images.\n",
      "[%] Downloading Images to /home/sagemaker-user/Domain-Shift-Computer-Vision/imagenetA_generated/porcupine/a photo of porcupine\n",
      "[!] Issue getting: http://animalia-life.com/data_images/porcupine/porcupine2.jpg\n",
      "[!] Error:: HTTP Error 404: Not Found\n",
      "[!] Issue getting: http://dudleyzoo.org.uk/wp-content/uploads/DZG_Porcupine_5-1200x1175.jpg\n",
      "[!] Error:: Remote end closed connection without response\n",
      "[!] Issue getting: http://www.oregonzoo.org/sites/default/files/gallery/images/H_orig_prehensile_tail_porcupine_gal.jpg\n",
      "[!] Error:: HTTP Error 404: Not Found\n",
      "[!] Issue getting: https://animalia-life.com/data_images/porcupine/porcupine9.jpg\n",
      "[!] Error:: <urlopen error [SSL: CERTIFICATE_VERIFY_FAILED] certificate verify failed: self-signed certificate (_ssl.c:1007)>\n"
     ]
    },
    {
     "name": "stderr",
     "output_type": "stream",
     "text": [
      "Processing class: fox squirrel:  33%|███▎      | 66/200 [08:25<12:21,  5.53s/it]"
     ]
    },
    {
     "name": "stdout",
     "output_type": "stream",
     "text": [
      "\n",
      "\n",
      "[%] Done. Downloaded 10 images.\n",
      "[%] Downloading Images to /home/sagemaker-user/Domain-Shift-Computer-Vision/imagenetA_generated/fox squirrel/a photo of fox squirrel\n",
      "[!] Issue getting: http://wwt-cso.com/wp-content/uploads/2014/09/Fox-Squirrel.jpg\n",
      "[!] Error:: HTTP Error 404: Not Found\n",
      "[!] Issue getting: https://cmi.vt.edu/content/dam/cmi_vt_edu/SiteImages/foxsquirrel/Fox Squirrel 2.jpg\n",
      "[!] Error:: URL can't contain control characters. '/content/dam/cmi_vt_edu/SiteImages/foxsquirrel/Fox Squirrel 2.jpg' (found at least ' ')\n"
     ]
    },
    {
     "name": "stderr",
     "output_type": "stream",
     "text": [
      "Processing class: marmot:  34%|███▎      | 67/200 [08:32<13:09,  5.94s/it]      "
     ]
    },
    {
     "name": "stdout",
     "output_type": "stream",
     "text": [
      "\n",
      "\n",
      "[%] Done. Downloaded 10 images.\n",
      "[%] Downloading Images to /home/sagemaker-user/Domain-Shift-Computer-Vision/imagenetA_generated/marmot/a photo of marmot\n",
      "[Error]Invalid image, not saving https://cdn.britannica.com/37/145637-050-2A4329AF/adults-marmots-advantage-offspring-climate-warming-survival.jpg\n",
      "\n",
      "[!] Issue getting: https://cdn.britannica.com/37/145637-050-2A4329AF/adults-marmots-advantage-offspring-climate-warming-survival.jpg\n",
      "[!] Error:: Invalid image, not saving https://cdn.britannica.com/37/145637-050-2A4329AF/adults-marmots-advantage-offspring-climate-warming-survival.jpg\n",
      "\n",
      "[Error]Invalid image, not saving https://66.media.tumblr.com/aed7ff314c0e358ad72838b1bc682ab0/tumblr_nj2ptswOLa1sq1114o1_1280.jpg\n",
      "\n",
      "[!] Issue getting: https://66.media.tumblr.com/aed7ff314c0e358ad72838b1bc682ab0/tumblr_nj2ptswOLa1sq1114o1_1280.jpg\n",
      "[!] Error:: Invalid image, not saving https://66.media.tumblr.com/aed7ff314c0e358ad72838b1bc682ab0/tumblr_nj2ptswOLa1sq1114o1_1280.jpg\n",
      "\n",
      "[!] Issue getting: http://mediad.publicbroadcasting.net/p/kajx/files/styles/x_large/public/201307/7413906922_c0b6e9c7ef_o.jpg\n",
      "[!] Error:: HTTP Error 404: Not Found\n",
      "[Error]Invalid image, not saving https://nationaltoday.com/wp-content/uploads/2021/11/Marmot-Day.jpg\n",
      "\n",
      "[!] Issue getting: https://nationaltoday.com/wp-content/uploads/2021/11/Marmot-Day.jpg\n",
      "[!] Error:: Invalid image, not saving https://nationaltoday.com/wp-content/uploads/2021/11/Marmot-Day.jpg\n",
      "\n",
      "[!] Issue getting: https://media1.fdncms.com/inlander/imager/u/original/4588586/marmot_mean.jpg\n",
      "[!] Error:: <urlopen error [Errno 104] Connection reset by peer>\n"
     ]
    },
    {
     "name": "stderr",
     "output_type": "stream",
     "text": [
      "Processing class: bison:  34%|███▍      | 68/200 [08:36<12:06,  5.50s/it] "
     ]
    },
    {
     "name": "stdout",
     "output_type": "stream",
     "text": [
      "\n",
      "\n",
      "[%] Done. Downloaded 10 images.\n",
      "[%] Downloading Images to /home/sagemaker-user/Domain-Shift-Computer-Vision/imagenetA_generated/bison/a photo of bison\n",
      "[Error]Invalid image, not saving https://cdn.britannica.com/66/6666-050-1A5103B6/American-bison-plains-buffalo.jpg\n",
      "\n",
      "[!] Issue getting: https://cdn.britannica.com/66/6666-050-1A5103B6/American-bison-plains-buffalo.jpg\n",
      "[!] Error:: Invalid image, not saving https://cdn.britannica.com/66/6666-050-1A5103B6/American-bison-plains-buffalo.jpg\n",
      "\n",
      "[!] Issue getting: https://travel.home.sndimg.com/content/dam/images/travel/stock/2018/3/8/iStock-American-bison_509627206_xl.jpg.rend.hgtvcom.1280.853.suffix/1520540867712.jpeg\n",
      "[!] Error:: HTTP Error 403: Forbidden\n"
     ]
    },
    {
     "name": "stderr",
     "output_type": "stream",
     "text": [
      "Processing class: skunk:  34%|███▍      | 69/200 [08:39<09:53,  4.53s/it]"
     ]
    },
    {
     "name": "stdout",
     "output_type": "stream",
     "text": [
      "\n",
      "\n",
      "[%] Done. Downloaded 10 images.\n",
      "[%] Downloading Images to /home/sagemaker-user/Domain-Shift-Computer-Vision/imagenetA_generated/skunk/a photo of skunk\n",
      "[!] Issue getting: https://nature.mdc.mo.gov/sites/default/files/media/images/2013/03/striped_skunk_walking_03-12-13.jpg\n",
      "[!] Error:: HTTP Error 404: Not Found\n",
      "[!] Issue getting: http://greenshieldpestcontrol.com/wp-content/uploads/2013/12/skunkWC.jpg\n",
      "[!] Error:: HTTP Error 404: Not Found\n",
      "[!] Issue getting: https://www.gannett-cdn.com/presto/2019/10/17/PDTF/3f45e713-342b-4f5a-8e27-e2e5e844936a-IMG_Young_Striped_Skunk__1_.JPG?crop=2928,1647,x0,y590&amp;width=3200&amp;height=1680&amp;fit=bounds\n",
      "[!] Error:: HTTP Error 406: Not Acceptable\n",
      "[!] Issue getting: http://www.trutechinc.com/images/species/Skunk_01.jpg\n",
      "[!] Error:: HTTP Error 404: Not Found\n",
      "[Error]Invalid image, not saving https://cdn.britannica.com/66/233066-050-F2C6B697/eastern-spotted-skunk-minnesota.jpg\n",
      "\n",
      "[!] Issue getting: https://cdn.britannica.com/66/233066-050-F2C6B697/eastern-spotted-skunk-minnesota.jpg\n",
      "[!] Error:: Invalid image, not saving https://cdn.britannica.com/66/233066-050-F2C6B697/eastern-spotted-skunk-minnesota.jpg\n",
      "\n"
     ]
    },
    {
     "name": "stderr",
     "output_type": "stream",
     "text": [
      "Processing class: armadillo:  35%|███▌      | 70/200 [08:48<12:47,  5.91s/it]"
     ]
    },
    {
     "name": "stdout",
     "output_type": "stream",
     "text": [
      "\n",
      "\n",
      "[%] Done. Downloaded 10 images.\n",
      "[%] Downloading Images to /home/sagemaker-user/Domain-Shift-Computer-Vision/imagenetA_generated/armadillo/a photo of armadillo\n",
      "[!] Issue getting: http://elelur.com/data_images/mammals/armadillo/armadillo-05.jpg\n",
      "[!] Error:: HTTP Error 404: Not Found\n"
     ]
    },
    {
     "name": "stderr",
     "output_type": "stream",
     "text": [
      "Processing class: baboon:  36%|███▌      | 71/200 [08:54<12:44,  5.93s/it]   "
     ]
    },
    {
     "name": "stdout",
     "output_type": "stream",
     "text": [
      "\n",
      "\n",
      "[%] Done. Downloaded 10 images.\n",
      "[%] Downloading Images to /home/sagemaker-user/Domain-Shift-Computer-Vision/imagenetA_generated/baboon/a photo of baboon\n",
      "[!] Issue getting: https://animalia-life.com/data_images/baboon/baboon1.jpg\n",
      "[!] Error:: <urlopen error [SSL: CERTIFICATE_VERIFY_FAILED] certificate verify failed: self-signed certificate (_ssl.c:1007)>\n",
      "[!] Issue getting: https://animalia-life.com/data_images/baboon/baboon6.jpg\n",
      "[!] Error:: <urlopen error [SSL: CERTIFICATE_VERIFY_FAILED] certificate verify failed: self-signed certificate (_ssl.c:1007)>\n"
     ]
    },
    {
     "name": "stderr",
     "output_type": "stream",
     "text": [
      "Processing class: white-headed capuchin:  36%|███▌      | 72/200 [08:59<12:32,  5.88s/it]"
     ]
    },
    {
     "name": "stdout",
     "output_type": "stream",
     "text": [
      "\n",
      "\n",
      "[%] Done. Downloaded 10 images.\n",
      "[%] Downloading Images to /home/sagemaker-user/Domain-Shift-Computer-Vision/imagenetA_generated/white-headed capuchin/a photo of white-headed capuchin\n",
      "[!] Issue getting: https://www.crittersquad.com/wp-content/uploads/2018/04/9665440162_80daa58006_b.jpg\n",
      "[!] Error:: Remote end closed connection without response\n",
      "[Error]Invalid image, not saving https://cdn.britannica.com/05/181805-050-C9682415/capuchin-monkey.jpg\n",
      "\n",
      "[!] Issue getting: https://cdn.britannica.com/05/181805-050-C9682415/capuchin-monkey.jpg\n",
      "[!] Error:: Invalid image, not saving https://cdn.britannica.com/05/181805-050-C9682415/capuchin-monkey.jpg\n",
      "\n"
     ]
    },
    {
     "name": "stderr",
     "output_type": "stream",
     "text": [
      "Processing class: African bush elephant:  36%|███▋      | 73/200 [09:12<16:44,  7.91s/it]"
     ]
    },
    {
     "name": "stdout",
     "output_type": "stream",
     "text": [
      "\n",
      "\n",
      "[%] Done. Downloaded 10 images.\n",
      "[%] Downloading Images to /home/sagemaker-user/Domain-Shift-Computer-Vision/imagenetA_generated/African bush elephant/a photo of African bush elephant\n",
      "[Error]Invalid image, not saving https://www.lifeofpix.com/wp-content/uploads/2017/06/african-bush-elephant.jpg\n",
      "\n",
      "[!] Issue getting: https://www.lifeofpix.com/wp-content/uploads/2017/06/african-bush-elephant.jpg\n",
      "[!] Error:: Invalid image, not saving https://www.lifeofpix.com/wp-content/uploads/2017/06/african-bush-elephant.jpg\n",
      "\n",
      "[Error]Invalid image, not saving https://upload.wikimedia.org/wikipedia/commons/thumb/b/bf/African_Elephant_(Loxodonta_africana)_male_(17289351322).jpg/1200px-African_Elephant_(Loxodonta_africana)_male_(17289351322).jpg\n",
      "\n",
      "[!] Issue getting: https://upload.wikimedia.org/wikipedia/commons/thumb/b/bf/African_Elephant_(Loxodonta_africana)_male_(17289351322).jpg/1200px-African_Elephant_(Loxodonta_africana)_male_(17289351322).jpg\n",
      "[!] Error:: Invalid image, not saving https://upload.wikimedia.org/wikipedia/commons/thumb/b/bf/African_Elephant_(Loxodonta_africana)_male_(17289351322).jpg/1200px-African_Elephant_(Loxodonta_africana)_male_(17289351322).jpg\n",
      "\n",
      "[Error]Invalid image, not saving https://cdn.britannica.com/72/272-050-E1965E27/African-elephant-Kenya.jpg\n",
      "\n",
      "[!] Issue getting: https://cdn.britannica.com/72/272-050-E1965E27/African-elephant-Kenya.jpg\n",
      "[!] Error:: Invalid image, not saving https://cdn.britannica.com/72/272-050-E1965E27/African-elephant-Kenya.jpg\n",
      "\n"
     ]
    },
    {
     "name": "stderr",
     "output_type": "stream",
     "text": [
      "Processing class: pufferfish:  37%|███▋      | 74/200 [09:19<15:52,  7.56s/it]           "
     ]
    },
    {
     "name": "stdout",
     "output_type": "stream",
     "text": [
      "\n",
      "\n",
      "[%] Done. Downloaded 10 images.\n",
      "[%] Downloading Images to /home/sagemaker-user/Domain-Shift-Computer-Vision/imagenetA_generated/pufferfish/a photo of pufferfish\n",
      "[Error]Invalid image, not saving http://blog.nationalgeographic.org/wp-content/uploads/2013/08/70618-cb1377107371.jpg\n",
      "\n",
      "[!] Issue getting: http://blog.nationalgeographic.org/wp-content/uploads/2013/08/70618-cb1377107371.jpg\n",
      "[!] Error:: Invalid image, not saving http://blog.nationalgeographic.org/wp-content/uploads/2013/08/70618-cb1377107371.jpg\n",
      "\n",
      "[Error]Invalid image, not saving https://cdnb.artstation.com/p/assets/covers/images/007/072/415/large/ray-della-calce-pufferfish1.jpg?1503477098\n",
      "\n",
      "[!] Issue getting: https://cdnb.artstation.com/p/assets/covers/images/007/072/415/large/ray-della-calce-pufferfish1.jpg?1503477098\n",
      "[!] Error:: Invalid image, not saving https://cdnb.artstation.com/p/assets/covers/images/007/072/415/large/ray-della-calce-pufferfish1.jpg?1503477098\n",
      "\n"
     ]
    },
    {
     "name": "stderr",
     "output_type": "stream",
     "text": [
      "Processing class: academic gown:  38%|███▊      | 75/200 [09:24<14:14,  6.84s/it]"
     ]
    },
    {
     "name": "stdout",
     "output_type": "stream",
     "text": [
      "\n",
      "\n",
      "[%] Done. Downloaded 10 images.\n",
      "[%] Downloading Images to /home/sagemaker-user/Domain-Shift-Computer-Vision/imagenetA_generated/academic gown/a photo of academic gown\n"
     ]
    },
    {
     "name": "stderr",
     "output_type": "stream",
     "text": [
      "Processing class: accordion:  38%|███▊      | 76/200 [09:25<10:45,  5.21s/it]    "
     ]
    },
    {
     "name": "stdout",
     "output_type": "stream",
     "text": [
      "\n",
      "\n",
      "[%] Done. Downloaded 10 images.\n",
      "[%] Downloading Images to /home/sagemaker-user/Domain-Shift-Computer-Vision/imagenetA_generated/accordion/a photo of accordion\n",
      "[Error]Invalid image, not saving https://cdn.britannica.com/34/150934-050-AB388AF8/Piano-accordion.jpg\n",
      "\n",
      "[!] Issue getting: https://cdn.britannica.com/34/150934-050-AB388AF8/Piano-accordion.jpg\n",
      "[!] Error:: Invalid image, not saving https://cdn.britannica.com/34/150934-050-AB388AF8/Piano-accordion.jpg\n",
      "\n",
      "[Error]Invalid image, not saving https://cdn.britannica.com/35/150935-050-7666EFCD/Button-accordion.jpg\n",
      "\n",
      "[!] Issue getting: https://cdn.britannica.com/35/150935-050-7666EFCD/Button-accordion.jpg\n",
      "[!] Error:: Invalid image, not saving https://cdn.britannica.com/35/150935-050-7666EFCD/Button-accordion.jpg\n",
      "\n",
      "[!] Issue getting: http://weknowyourdreams.com/images/accordion/accordion-11.jpg\n",
      "[!] Error:: <urlopen error [SSL: CERTIFICATE_VERIFY_FAILED] certificate verify failed: unable to get local issuer certificate (_ssl.c:1007)>\n"
     ]
    },
    {
     "name": "stderr",
     "output_type": "stream",
     "text": [
      "Processing class: acoustic guitar:  38%|███▊      | 77/200 [09:31<10:52,  5.30s/it]"
     ]
    },
    {
     "name": "stdout",
     "output_type": "stream",
     "text": [
      "\n",
      "\n",
      "[%] Done. Downloaded 10 images.\n",
      "[%] Downloading Images to /home/sagemaker-user/Domain-Shift-Computer-Vision/imagenetA_generated/acoustic guitar/a photo of acoustic guitar\n"
     ]
    },
    {
     "name": "stderr",
     "output_type": "stream",
     "text": [
      "Processing class: airliner:  39%|███▉      | 78/200 [09:33<09:05,  4.47s/it]       "
     ]
    },
    {
     "name": "stdout",
     "output_type": "stream",
     "text": [
      "\n",
      "\n",
      "[%] Done. Downloaded 10 images.\n",
      "[%] Downloading Images to /home/sagemaker-user/Domain-Shift-Computer-Vision/imagenetA_generated/airliner/a photo of airliner\n",
      "[Error]Invalid image, not saving https://pro2-bar-s3-cdn-cf6.myportfolio.com/07f4514f-3c53-44bb-aa13-a919feee8d66/7d666f3f-29fe-4e0f-a67d-2c5724f21077_rw_1920.jpg?h=bd57ff75c56c34241979876d702a97b7\n",
      "\n",
      "[!] Issue getting: https://pro2-bar-s3-cdn-cf6.myportfolio.com/07f4514f-3c53-44bb-aa13-a919feee8d66/7d666f3f-29fe-4e0f-a67d-2c5724f21077_rw_1920.jpg?h=bd57ff75c56c34241979876d702a97b7\n",
      "[!] Error:: Invalid image, not saving https://pro2-bar-s3-cdn-cf6.myportfolio.com/07f4514f-3c53-44bb-aa13-a919feee8d66/7d666f3f-29fe-4e0f-a67d-2c5724f21077_rw_1920.jpg?h=bd57ff75c56c34241979876d702a97b7\n",
      "\n"
     ]
    },
    {
     "name": "stderr",
     "output_type": "stream",
     "text": [
      "Processing class: ambulance:  40%|███▉      | 79/200 [09:40<10:05,  5.00s/it]"
     ]
    },
    {
     "name": "stdout",
     "output_type": "stream",
     "text": [
      "\n",
      "\n",
      "[%] Done. Downloaded 10 images.\n",
      "[%] Downloading Images to /home/sagemaker-user/Domain-Shift-Computer-Vision/imagenetA_generated/ambulance/a photo of ambulance\n"
     ]
    },
    {
     "name": "stderr",
     "output_type": "stream",
     "text": [
      "Processing class: apron:  40%|████      | 80/200 [09:42<08:37,  4.32s/it]    "
     ]
    },
    {
     "name": "stdout",
     "output_type": "stream",
     "text": [
      "\n",
      "\n",
      "[%] Done. Downloaded 10 images.\n",
      "[%] Downloading Images to /home/sagemaker-user/Domain-Shift-Computer-Vision/imagenetA_generated/apron/a photo of apron\n"
     ]
    },
    {
     "name": "stderr",
     "output_type": "stream",
     "text": [
      "Processing class: balance beam:  40%|████      | 81/200 [09:47<08:43,  4.40s/it]"
     ]
    },
    {
     "name": "stdout",
     "output_type": "stream",
     "text": [
      "\n",
      "\n",
      "[%] Done. Downloaded 10 images.\n",
      "[%] Downloading Images to /home/sagemaker-user/Domain-Shift-Computer-Vision/imagenetA_generated/balance beam/a photo of balance beam\n",
      "[Error]Invalid image, not saving https://dancerholic.com/wp-content/uploads/2019/09/4.jpg\n",
      "\n",
      "[!] Issue getting: https://dancerholic.com/wp-content/uploads/2019/09/4.jpg\n",
      "[!] Error:: Invalid image, not saving https://dancerholic.com/wp-content/uploads/2019/09/4.jpg\n",
      "\n"
     ]
    },
    {
     "name": "stderr",
     "output_type": "stream",
     "text": [
      "Processing class: balloon:  41%|████      | 82/200 [09:55<10:40,  5.43s/it]     "
     ]
    },
    {
     "name": "stdout",
     "output_type": "stream",
     "text": [
      "\n",
      "\n",
      "[%] Done. Downloaded 10 images.\n",
      "[%] Downloading Images to /home/sagemaker-user/Domain-Shift-Computer-Vision/imagenetA_generated/balloon/a photo of balloon\n",
      "[!] Issue getting: https://d2oc0ihd6a5bt.cloudfront.net/wp-content/uploads/sites/501/2014/11/Balloons21.jpg\n",
      "[!] Error:: HTTP Error 404: Not Found\n"
     ]
    },
    {
     "name": "stderr",
     "output_type": "stream",
     "text": [
      "Processing class: banjo:  42%|████▏     | 83/200 [09:58<09:14,  4.74s/it]  "
     ]
    },
    {
     "name": "stdout",
     "output_type": "stream",
     "text": [
      "\n",
      "\n",
      "[%] Done. Downloaded 10 images.\n",
      "[%] Downloading Images to /home/sagemaker-user/Domain-Shift-Computer-Vision/imagenetA_generated/banjo/a photo of banjo\n",
      "[!] Issue getting: https://i.redd.it/x5jp4586arz11.jpg\n",
      "[!] Error:: HTTP Error 403: Blocked\n"
     ]
    },
    {
     "name": "stderr",
     "output_type": "stream",
     "text": [
      "Processing class: barn:  42%|████▏     | 84/200 [10:03<09:20,  4.83s/it] "
     ]
    },
    {
     "name": "stdout",
     "output_type": "stream",
     "text": [
      "\n",
      "\n",
      "[%] Done. Downloaded 10 images.\n",
      "[%] Downloading Images to /home/sagemaker-user/Domain-Shift-Computer-Vision/imagenetA_generated/barn/a photo of barn\n",
      "[!] Issue getting: https://cdn.onlyinyourstate.com/wp-content/uploads/2015/06/bigbarn.jpg\n",
      "[!] Error:: HTTP Error 404: Not Found\n",
      "[!] Issue getting: https://www.gannett-cdn.com/-mm-/cdb8e3f0889a8d6fcc4ca196cd24741cd9a74cb3/c=0-74-799-526/local/-/media/2015/09/24/IAGroup/DesMoines/635786874901128325-Purviance1.jpg?width=3200&amp;height=1680&amp;fit=crop\n",
      "[!] Error:: HTTP Error 406: Not Acceptable\n",
      "[!] Issue getting: https://www.readersdigest.ca/wp-content/uploads/2018/04/barns-theme-pic-challenge-christy-turner.jpg\n",
      "[!] Error:: HTTP Error 403: Forbidden\n"
     ]
    },
    {
     "name": "stderr",
     "output_type": "stream",
     "text": [
      "Processing class: wheelbarrow:  42%|████▎     | 85/200 [10:09<09:44,  5.08s/it]"
     ]
    },
    {
     "name": "stdout",
     "output_type": "stream",
     "text": [
      "\n",
      "\n",
      "[%] Done. Downloaded 10 images.\n",
      "[%] Downloading Images to /home/sagemaker-user/Domain-Shift-Computer-Vision/imagenetA_generated/wheelbarrow/a photo of wheelbarrow\n",
      "[Error]Invalid image, not saving https://smithshire.com/wp-content/uploads/2016/01/mucker-plastic-wheelbarrow-90-litre-120kg-capacity-p13217-466005_zoom.jpg\n",
      "\n",
      "[!] Issue getting: https://smithshire.com/wp-content/uploads/2016/01/mucker-plastic-wheelbarrow-90-litre-120kg-capacity-p13217-466005_zoom.jpg\n",
      "[!] Error:: Invalid image, not saving https://smithshire.com/wp-content/uploads/2016/01/mucker-plastic-wheelbarrow-90-litre-120kg-capacity-p13217-466005_zoom.jpg\n",
      "\n"
     ]
    },
    {
     "name": "stderr",
     "output_type": "stream",
     "text": [
      "Processing class: basketball:  43%|████▎     | 86/200 [10:15<10:28,  5.51s/it] "
     ]
    },
    {
     "name": "stdout",
     "output_type": "stream",
     "text": [
      "[!] Issue getting: https://images.esellerpro.com/3164/I/204/77/GWB102-80L-Wheel-Barrow_OD_001.png\n",
      "[!] Error:: HTTP Error 403: Forbidden\n",
      "\n",
      "\n",
      "[%] Done. Downloaded 10 images.\n",
      "[%] Downloading Images to /home/sagemaker-user/Domain-Shift-Computer-Vision/imagenetA_generated/basketball/a photo of basketball\n"
     ]
    },
    {
     "name": "stderr",
     "output_type": "stream",
     "text": [
      "Processing class: lighthouse:  44%|████▎     | 87/200 [10:19<09:28,  5.03s/it]"
     ]
    },
    {
     "name": "stdout",
     "output_type": "stream",
     "text": [
      "\n",
      "\n",
      "[%] Done. Downloaded 10 images.\n",
      "[%] Downloading Images to /home/sagemaker-user/Domain-Shift-Computer-Vision/imagenetA_generated/lighthouse/a photo of lighthouse\n",
      "[!] Issue getting: https://www.rd.com/wp-content/uploads/2020/04/GettyImages-1153369684.jpg\n",
      "[!] Error:: HTTP Error 403: Forbidden\n",
      "[!] Issue getting: https://www.rd.com/wp-content/uploads/2019/06/COUonpc16_Eva-Hickman_005-scaled.jpg?w=1920\n",
      "[!] Error:: HTTP Error 403: Forbidden\n",
      "[!] Issue getting: https://www.rd.com/wp-content/uploads/2019/06/shutterstock_1207985407.jpg\n",
      "[!] Error:: HTTP Error 403: Forbidden\n",
      "[Error]Invalid image, not saving https://windows10spotlight.com/wp-content/uploads/2023/06/648711be71feec58a22a488edac96b2f.jpg\n",
      "\n",
      "[!] Issue getting: https://windows10spotlight.com/wp-content/uploads/2023/06/648711be71feec58a22a488edac96b2f.jpg\n",
      "[!] Error:: Invalid image, not saving https://windows10spotlight.com/wp-content/uploads/2023/06/648711be71feec58a22a488edac96b2f.jpg\n",
      "\n"
     ]
    },
    {
     "name": "stderr",
     "output_type": "stream",
     "text": [
      "Processing class: beaker:  44%|████▍     | 88/200 [10:25<09:48,  5.25s/it]    "
     ]
    },
    {
     "name": "stdout",
     "output_type": "stream",
     "text": [
      "\n",
      "\n",
      "[%] Done. Downloaded 10 images.\n",
      "[%] Downloading Images to /home/sagemaker-user/Domain-Shift-Computer-Vision/imagenetA_generated/beaker/a photo of beaker\n",
      "[!] Issue getting: https://chemyosupplies.com/wp-content/uploads/2019/08/beaker_basic_6.jpg\n",
      "[!] Error:: Remote end closed connection without response\n",
      "[Error]Invalid image, not saving https://labsuppliesusa.com/wp-content/uploads/2018/07/25mlbeaker-1-scaled.jpg\n",
      "\n",
      "[!] Issue getting: https://labsuppliesusa.com/wp-content/uploads/2018/07/25mlbeaker-1-scaled.jpg\n",
      "[!] Error:: Invalid image, not saving https://labsuppliesusa.com/wp-content/uploads/2018/07/25mlbeaker-1-scaled.jpg\n",
      "\n",
      "[!] Issue getting: http://www.thelostogle.com/wp-content/uploads/2013/07/beaker.png\n",
      "[!] Error:: HTTP Error 404: Not Found\n"
     ]
    },
    {
     "name": "stderr",
     "output_type": "stream",
     "text": [
      "Processing class: bikini:  44%|████▍     | 89/200 [10:30<09:49,  5.31s/it]"
     ]
    },
    {
     "name": "stdout",
     "output_type": "stream",
     "text": [
      "\n",
      "\n",
      "[%] Done. Downloaded 10 images.\n",
      "[%] Downloading Images to /home/sagemaker-user/Domain-Shift-Computer-Vision/imagenetA_generated/bikini/a photo of bikini\n"
     ]
    },
    {
     "name": "stderr",
     "output_type": "stream",
     "text": [
      "Processing class: bow:  45%|████▌     | 90/200 [10:33<08:08,  4.44s/it]   "
     ]
    },
    {
     "name": "stdout",
     "output_type": "stream",
     "text": [
      "\n",
      "\n",
      "[%] Done. Downloaded 10 images.\n",
      "[%] Downloading Images to /home/sagemaker-user/Domain-Shift-Computer-Vision/imagenetA_generated/bow/a photo of bow\n"
     ]
    },
    {
     "name": "stderr",
     "output_type": "stream",
     "text": [
      "Processing class: bow tie:  46%|████▌     | 91/200 [10:36<07:11,  3.96s/it]"
     ]
    },
    {
     "name": "stdout",
     "output_type": "stream",
     "text": [
      "\n",
      "\n",
      "[%] Done. Downloaded 10 images.\n",
      "[%] Downloading Images to /home/sagemaker-user/Domain-Shift-Computer-Vision/imagenetA_generated/bow tie/a photo of bow tie\n",
      "[Error]Invalid image, not saving https://www.ties.com/assets/img/how-to-tie-a-tie/thumbs/bow-tie-knot.jpg\n",
      "\n",
      "[!] Issue getting: https://www.ties.com/assets/img/how-to-tie-a-tie/thumbs/bow-tie-knot.jpg\n",
      "[!] Error:: Invalid image, not saving https://www.ties.com/assets/img/how-to-tie-a-tie/thumbs/bow-tie-knot.jpg\n",
      "\n"
     ]
    },
    {
     "name": "stderr",
     "output_type": "stream",
     "text": [
      "Processing class: breastplate:  46%|████▌     | 92/200 [10:40<07:13,  4.02s/it]"
     ]
    },
    {
     "name": "stdout",
     "output_type": "stream",
     "text": [
      "\n",
      "\n",
      "[%] Done. Downloaded 10 images.\n",
      "[%] Downloading Images to /home/sagemaker-user/Domain-Shift-Computer-Vision/imagenetA_generated/breastplate/a photo of breastplate\n",
      "[Error]Invalid image, not saving https://images.metmuseum.org/CRDImages/aa/original/sfeah48-149-32BTS1.JPG\n",
      "\n",
      "[!] Issue getting: https://images.metmuseum.org/CRDImages/aa/original/sfeah48-149-32BTS1.JPG\n",
      "[!] Error:: Invalid image, not saving https://images.metmuseum.org/CRDImages/aa/original/sfeah48-149-32BTS1.JPG\n",
      "\n",
      "[!] Issue getting: https://i0.wp.com/www.emeryhorvath.com/wp-content/uploads/2023/03/R.3c94fffcf154cbf35c82cceaacc5a22c.png?fit=760%2C760&amp;ssl=1\n",
      "[!] Error:: HTTP Error 404: Not Found\n"
     ]
    },
    {
     "name": "stderr",
     "output_type": "stream",
     "text": [
      "Processing class: broom:  46%|████▋     | 93/200 [10:47<08:46,  4.92s/it]      "
     ]
    },
    {
     "name": "stdout",
     "output_type": "stream",
     "text": [
      "\n",
      "\n",
      "[%] Done. Downloaded 10 images.\n",
      "[%] Downloading Images to /home/sagemaker-user/Domain-Shift-Computer-Vision/imagenetA_generated/broom/a photo of broom\n",
      "[!] Issue getting: http://www.pingconmarketing.com/wp-content/uploads/2018/01/JU0117P-Soft-broom-large.jpg\n",
      "[!] Error:: Remote end closed connection without response\n",
      "[!] Issue getting: https://s3-production.bobvila.com/articles/wp-content/uploads/2020/04/best-broom-options.jpg\n",
      "[!] Error:: <urlopen error [SSL: CERTIFICATE_VERIFY_FAILED] certificate verify failed: Hostname mismatch, certificate is not valid for 's3-production.bobvila.com'. (_ssl.c:1007)>\n"
     ]
    },
    {
     "name": "stderr",
     "output_type": "stream",
     "text": [
      "Processing class: candle:  47%|████▋     | 94/200 [10:54<09:56,  5.63s/it]"
     ]
    },
    {
     "name": "stdout",
     "output_type": "stream",
     "text": [
      "\n",
      "\n",
      "[%] Done. Downloaded 10 images.\n",
      "[%] Downloading Images to /home/sagemaker-user/Domain-Shift-Computer-Vision/imagenetA_generated/candle/a photo of candle\n",
      "[!] Issue getting: https://societyforpsychotherapy.org/wp-content/uploads/2019/10/iStock-912083688-e1562939016298.jpg\n",
      "[!] Error:: Remote end closed connection without response\n",
      "[!] Issue getting: https://blog.mountainroseherbs.com/hubfs/Blog images/Candles - BANNER.jpg#keepProtocol\n",
      "[!] Error:: URL can't contain control characters. '/hubfs/Blog images/Candles - BANNER.jpg' (found at least ' ')\n"
     ]
    },
    {
     "name": "stderr",
     "output_type": "stream",
     "text": [
      "Processing class: canoe:  48%|████▊     | 95/200 [11:01<10:26,  5.97s/it] "
     ]
    },
    {
     "name": "stdout",
     "output_type": "stream",
     "text": [
      "\n",
      "\n",
      "[%] Done. Downloaded 10 images.\n",
      "[%] Downloading Images to /home/sagemaker-user/Domain-Shift-Computer-Vision/imagenetA_generated/canoe/a photo of canoe\n",
      "[Error]Invalid image, not saving https://canoeguybc.files.wordpress.com/2012/05/proudfoot-15.jpg\n",
      "\n",
      "[!] Issue getting: https://canoeguybc.files.wordpress.com/2012/05/proudfoot-15.jpg\n",
      "[!] Error:: Invalid image, not saving https://canoeguybc.files.wordpress.com/2012/05/proudfoot-15.jpg\n",
      "\n",
      "[Error]Invalid image, not saving https://images.squarespace-cdn.com/content/v1/52bb5c7be4b089a76bb43f01/1679789806333-QFWCMAD5EMZBFG5GGZQM/Egret+16'+Navarro+Canoe+IMG_0376e.JPG\n",
      "\n",
      "[!] Issue getting: https://images.squarespace-cdn.com/content/v1/52bb5c7be4b089a76bb43f01/1679789806333-QFWCMAD5EMZBFG5GGZQM/Egret+16'+Navarro+Canoe+IMG_0376e.JPG\n",
      "[!] Error:: Invalid image, not saving https://images.squarespace-cdn.com/content/v1/52bb5c7be4b089a76bb43f01/1679789806333-QFWCMAD5EMZBFG5GGZQM/Egret+16'+Navarro+Canoe+IMG_0376e.JPG\n",
      "\n",
      "[Error]Invalid image, not saving https://northernwilds.com/wp-content/uploads/2018/06/IMG_1530_opt.jpeg\n",
      "\n",
      "[!] Issue getting: https://northernwilds.com/wp-content/uploads/2018/06/IMG_1530_opt.jpeg\n",
      "[!] Error:: Invalid image, not saving https://northernwilds.com/wp-content/uploads/2018/06/IMG_1530_opt.jpeg\n",
      "\n",
      "[Error]Invalid image, not saving http://campbellpost.files.wordpress.com/2012/01/johansen-10.jpg\n",
      "\n",
      "[!] Issue getting: http://campbellpost.files.wordpress.com/2012/01/johansen-10.jpg\n",
      "[!] Error:: Invalid image, not saving http://campbellpost.files.wordpress.com/2012/01/johansen-10.jpg\n",
      "\n",
      "[Error]Invalid image, not saving https://cdn.britannica.com/69/155969-050-CF4B71FA/kayaker-ocean-waves.jpg\n",
      "\n",
      "[!] Issue getting: https://cdn.britannica.com/69/155969-050-CF4B71FA/kayaker-ocean-waves.jpg\n",
      "[!] Error:: Invalid image, not saving https://cdn.britannica.com/69/155969-050-CF4B71FA/kayaker-ocean-waves.jpg\n",
      "\n",
      "[Error]Invalid image, not saving https://www.activeoutdoorpursuits.com/wp-content/uploads/2017/04/learn-to-canoe.jpg\n",
      "\n",
      "[!] Issue getting: https://www.activeoutdoorpursuits.com/wp-content/uploads/2017/04/learn-to-canoe.jpg\n",
      "[!] Error:: Invalid image, not saving https://www.activeoutdoorpursuits.com/wp-content/uploads/2017/04/learn-to-canoe.jpg\n",
      "\n"
     ]
    },
    {
     "name": "stderr",
     "output_type": "stream",
     "text": [
      "Processing class: castle:  48%|████▊     | 96/200 [11:12<13:13,  7.63s/it]"
     ]
    },
    {
     "name": "stdout",
     "output_type": "stream",
     "text": [
      "\n",
      "\n",
      "[%] Done. Downloaded 10 images.\n",
      "[%] Downloading Images to /home/sagemaker-user/Domain-Shift-Computer-Vision/imagenetA_generated/castle/a photo of castle\n",
      "[Error]Invalid image, not saving https://www.shutterbulky.com/wp-content/uploads/2021/08/HohenzollernC2A0castle.jpg\n",
      "\n",
      "[!] Issue getting: https://www.shutterbulky.com/wp-content/uploads/2021/08/HohenzollernC2A0castle.jpg\n",
      "[!] Error:: Invalid image, not saving https://www.shutterbulky.com/wp-content/uploads/2021/08/HohenzollernC2A0castle.jpg\n",
      "\n",
      "[!] Issue getting: http://allhdwallpapers.com/wp-content/uploads/2015/06/Neuschwanstein-Castle-101.jpg\n",
      "[!] Error:: Remote end closed connection without response\n",
      "[!] Issue getting: https://www.easyplanettravel.com/wp-content/uploads/2014/12/7-united-kingdom_bodiam-castle.jpg\n",
      "[!] Error:: Remote end closed connection without response\n"
     ]
    },
    {
     "name": "stderr",
     "output_type": "stream",
     "text": [
      "Processing class: cello:  48%|████▊     | 97/200 [11:18<12:17,  7.16s/it] "
     ]
    },
    {
     "name": "stdout",
     "output_type": "stream",
     "text": [
      "\n",
      "\n",
      "[%] Done. Downloaded 10 images.\n",
      "[%] Downloading Images to /home/sagemaker-user/Domain-Shift-Computer-Vision/imagenetA_generated/cello/a photo of cello\n",
      "[Error]Invalid image, not saving https://cdn.britannica.com/70/129670-050-01FEC5FE/Cello.jpg\n",
      "\n",
      "[!] Issue getting: https://cdn.britannica.com/70/129670-050-01FEC5FE/Cello.jpg\n",
      "[!] Error:: Invalid image, not saving https://cdn.britannica.com/70/129670-050-01FEC5FE/Cello.jpg\n",
      "\n",
      "[!] Issue getting: https://i1.wp.com/clarkloanandjewelry.net/wp-content/uploads/2020/03/cello2.jpg?fit=1653%2C3384&amp;ssl=1\n",
      "[!] Error:: HTTP Error 404: Not Found\n"
     ]
    },
    {
     "name": "stderr",
     "output_type": "stream",
     "text": [
      "Processing class: chain:  49%|████▉     | 98/200 [11:24<11:33,  6.80s/it]"
     ]
    },
    {
     "name": "stdout",
     "output_type": "stream",
     "text": [
      "\n",
      "\n",
      "[%] Done. Downloaded 10 images.\n",
      "[%] Downloading Images to /home/sagemaker-user/Domain-Shift-Computer-Vision/imagenetA_generated/chain/a photo of chain\n",
      "[!] Issue getting: https://www.e-rigging.com/assets/images/p/75/Stainless-Steel-Chain.jpg\n",
      "[!] Error:: HTTP Error 404: Not Found\n",
      "[!] Issue getting: http://www.profkrg.com/wp-content/uploads/2011/06/chain.jpg\n",
      "[!] Error:: HTTP Error 404: Not Found\n"
     ]
    },
    {
     "name": "stderr",
     "output_type": "stream",
     "text": [
      "Processing class: chest:  50%|████▉     | 99/200 [11:29<10:32,  6.26s/it]"
     ]
    },
    {
     "name": "stdout",
     "output_type": "stream",
     "text": [
      "\n",
      "\n",
      "[%] Done. Downloaded 10 images.\n",
      "[%] Downloading Images to /home/sagemaker-user/Domain-Shift-Computer-Vision/imagenetA_generated/chest/a photo of chest\n"
     ]
    },
    {
     "name": "stderr",
     "output_type": "stream",
     "text": [
      "Processing class: Christmas stocking:  50%|█████     | 100/200 [11:33<09:02,  5.43s/it]"
     ]
    },
    {
     "name": "stdout",
     "output_type": "stream",
     "text": [
      "\n",
      "\n",
      "[%] Done. Downloaded 10 images.\n",
      "[%] Downloading Images to /home/sagemaker-user/Domain-Shift-Computer-Vision/imagenetA_generated/Christmas stocking/a photo of Christmas stocking\n",
      "[Error]Invalid image, not saving https://www.touchofclass.com/images/xxl/Q318-001.jpg?v=101470543747-3\n",
      "\n",
      "[!] Issue getting: https://www.touchofclass.com/images/xxl/Q318-001.jpg?v=101470543747-3\n",
      "[!] Error:: Invalid image, not saving https://www.touchofclass.com/images/xxl/Q318-001.jpg?v=101470543747-3\n",
      "\n"
     ]
    },
    {
     "name": "stderr",
     "output_type": "stream",
     "text": [
      "Processing class: cowboy boot:  50%|█████     | 101/200 [11:36<08:01,  4.87s/it]       "
     ]
    },
    {
     "name": "stdout",
     "output_type": "stream",
     "text": [
      "\n",
      "\n",
      "[%] Done. Downloaded 10 images.\n",
      "[%] Downloading Images to /home/sagemaker-user/Domain-Shift-Computer-Vision/imagenetA_generated/cowboy boot/a photo of cowboy boot\n",
      "[!] Issue getting: https://i2.wp.com/ihearthorses.com/wp-content/uploads/2019/11/Canva-Cowboy-boots-with-spurs-scaled.jpg\n",
      "[!] Error:: HTTP Error 404: Not Found\n"
     ]
    },
    {
     "name": "stderr",
     "output_type": "stream",
     "text": [
      "Processing class: cradle:  51%|█████     | 102/200 [11:41<08:02,  4.92s/it]     "
     ]
    },
    {
     "name": "stdout",
     "output_type": "stream",
     "text": [
      "\n",
      "\n",
      "[%] Done. Downloaded 10 images.\n",
      "[%] Downloading Images to /home/sagemaker-user/Domain-Shift-Computer-Vision/imagenetA_generated/cradle/a photo of cradle\n",
      "[Error]Invalid image, not saving https://cdn.britannica.com/46/136646-050-53ED1BC5/cradle.jpg\n",
      "\n",
      "[!] Issue getting: https://cdn.britannica.com/46/136646-050-53ED1BC5/cradle.jpg\n",
      "[!] Error:: Invalid image, not saving https://cdn.britannica.com/46/136646-050-53ED1BC5/cradle.jpg\n",
      "\n"
     ]
    },
    {
     "name": "stderr",
     "output_type": "stream",
     "text": [
      "Processing class: rotary dial telephone:  52%|█████▏    | 103/200 [11:48<08:45,  5.42s/it]"
     ]
    },
    {
     "name": "stdout",
     "output_type": "stream",
     "text": [
      "\n",
      "\n",
      "[%] Done. Downloaded 10 images.\n",
      "[%] Downloading Images to /home/sagemaker-user/Domain-Shift-Computer-Vision/imagenetA_generated/rotary dial telephone/a photo of rotary dial telephone\n"
     ]
    },
    {
     "name": "stderr",
     "output_type": "stream",
     "text": [
      "Processing class: digital clock:  52%|█████▏    | 104/200 [11:52<07:58,  4.98s/it]        "
     ]
    },
    {
     "name": "stdout",
     "output_type": "stream",
     "text": [
      "\n",
      "\n",
      "[%] Done. Downloaded 10 images.\n",
      "[%] Downloading Images to /home/sagemaker-user/Domain-Shift-Computer-Vision/imagenetA_generated/digital clock/a photo of digital clock\n"
     ]
    },
    {
     "name": "stderr",
     "output_type": "stream",
     "text": [
      "Processing class: doormat:  52%|█████▎    | 105/200 [11:56<07:34,  4.79s/it]      "
     ]
    },
    {
     "name": "stdout",
     "output_type": "stream",
     "text": [
      "\n",
      "\n",
      "[%] Done. Downloaded 10 images.\n",
      "[%] Downloading Images to /home/sagemaker-user/Domain-Shift-Computer-Vision/imagenetA_generated/doormat/a photo of doormat\n"
     ]
    },
    {
     "name": "stderr",
     "output_type": "stream",
     "text": [
      "Processing class: drumstick:  53%|█████▎    | 106/200 [12:01<07:22,  4.70s/it]"
     ]
    },
    {
     "name": "stdout",
     "output_type": "stream",
     "text": [
      "\n",
      "\n",
      "[%] Done. Downloaded 10 images.\n",
      "[%] Downloading Images to /home/sagemaker-user/Domain-Shift-Computer-Vision/imagenetA_generated/drumstick/a photo of drumstick\n",
      "[!] Issue getting: https://ultracarepro.in/wp-content/uploads/2019/08/d4b7984f4b77cbad8a5b218108563888.jpg\n",
      "[!] Error:: Remote end closed connection without response\n",
      "[Error]Invalid image, not saving https://manmatters.com/blog/content/images/2021/12/Untitled-design---2021-12-22T200554.600.jpg\n",
      "\n",
      "[!] Issue getting: https://manmatters.com/blog/content/images/2021/12/Untitled-design---2021-12-22T200554.600.jpg\n",
      "[!] Error:: Invalid image, not saving https://manmatters.com/blog/content/images/2021/12/Untitled-design---2021-12-22T200554.600.jpg\n",
      "\n",
      "[Error]Invalid image, not saving https://amardesheshop.com/media/catalog/product/cache/1/image/9df78eab33525d08d6e5fb8d27136e95/d/r/drumstick-.jpg\n",
      "\n",
      "[!] Issue getting: https://amardesheshop.com/media/catalog/product/cache/1/image/9df78eab33525d08d6e5fb8d27136e95/d/r/drumstick-.jpg\n",
      "[!] Error:: Invalid image, not saving https://amardesheshop.com/media/catalog/product/cache/1/image/9df78eab33525d08d6e5fb8d27136e95/d/r/drumstick-.jpg\n",
      "\n",
      "[!] Issue getting: https://drumalert.com/wp-content/uploads/2021/06/best-drumsticks-for-beginners.jpg\n",
      "[!] Error:: Remote end closed connection without response\n"
     ]
    },
    {
     "name": "stderr",
     "output_type": "stream",
     "text": [
      "Processing class: dumbbell:  54%|█████▎    | 107/200 [12:20<13:57,  9.01s/it] "
     ]
    },
    {
     "name": "stdout",
     "output_type": "stream",
     "text": [
      "\n",
      "\n",
      "[%] Done. Downloaded 10 images.\n",
      "[%] Downloading Images to /home/sagemaker-user/Domain-Shift-Computer-Vision/imagenetA_generated/dumbbell/a photo of dumbbell\n"
     ]
    },
    {
     "name": "stderr",
     "output_type": "stream",
     "text": [
      "Processing class: envelope:  54%|█████▍    | 108/200 [12:23<11:13,  7.32s/it]"
     ]
    },
    {
     "name": "stdout",
     "output_type": "stream",
     "text": [
      "\n",
      "\n",
      "[%] Done. Downloaded 10 images.\n",
      "[%] Downloading Images to /home/sagemaker-user/Domain-Shift-Computer-Vision/imagenetA_generated/envelope/a photo of envelope\n"
     ]
    },
    {
     "name": "stderr",
     "output_type": "stream",
     "text": [
      "Processing class: feather boa:  55%|█████▍    | 109/200 [12:27<09:42,  6.40s/it]"
     ]
    },
    {
     "name": "stdout",
     "output_type": "stream",
     "text": [
      "\n",
      "\n",
      "[%] Done. Downloaded 10 images.\n",
      "[%] Downloading Images to /home/sagemaker-user/Domain-Shift-Computer-Vision/imagenetA_generated/feather boa/a photo of feather boa\n"
     ]
    },
    {
     "name": "stderr",
     "output_type": "stream",
     "text": [
      "Processing class: flagpole:  55%|█████▌    | 110/200 [12:31<08:24,  5.60s/it]   "
     ]
    },
    {
     "name": "stdout",
     "output_type": "stream",
     "text": [
      "\n",
      "\n",
      "[%] Done. Downloaded 10 images.\n",
      "[%] Downloading Images to /home/sagemaker-user/Domain-Shift-Computer-Vision/imagenetA_generated/flagpole/a photo of flagpole\n",
      "[!] Issue getting: https://tele-pole.com/assets/images/images/products/secondary/16_ classic nautical flagpole-1.jpg\n",
      "[!] Error:: URL can't contain control characters. '/assets/images/images/products/secondary/16_ classic nautical flagpole-1.jpg' (found at least ' ')\n",
      "[!] Issue getting: https://www.customflagcompany.com/wp-content/uploads/2020/11/flagpoles-external-satin-06b-SS20TS.jpg\n",
      "[!] Error:: Remote end closed connection without response\n"
     ]
    },
    {
     "name": "stderr",
     "output_type": "stream",
     "text": [
      "Processing class: forklift:  56%|█████▌    | 111/200 [12:37<08:37,  5.82s/it]"
     ]
    },
    {
     "name": "stdout",
     "output_type": "stream",
     "text": [
      "\n",
      "\n",
      "[%] Done. Downloaded 10 images.\n",
      "[%] Downloading Images to /home/sagemaker-user/Domain-Shift-Computer-Vision/imagenetA_generated/forklift/a photo of forklift\n"
     ]
    },
    {
     "name": "stderr",
     "output_type": "stream",
     "text": [
      "Processing class: fountain:  56%|█████▌    | 112/200 [12:43<08:25,  5.74s/it]"
     ]
    },
    {
     "name": "stdout",
     "output_type": "stream",
     "text": [
      "\n",
      "\n",
      "[%] Done. Downloaded 10 images.\n",
      "[%] Downloading Images to /home/sagemaker-user/Domain-Shift-Computer-Vision/imagenetA_generated/fountain/a photo of fountain\n",
      "[!] Issue getting: http://rosehillgardens.com/wp-content/uploads/2014/03/fountain-5.jpg\n",
      "[!] Error:: HTTP Error 404: Not Found\n",
      "[!] Issue getting: https://discount-pumps.biz/arch-new.jpg\n",
      "[!] Error:: Remote end closed connection without response\n"
     ]
    },
    {
     "name": "stderr",
     "output_type": "stream",
     "text": [
      "Processing class: garbage truck:  56%|█████▋    | 113/200 [12:49<08:29,  5.85s/it]"
     ]
    },
    {
     "name": "stdout",
     "output_type": "stream",
     "text": [
      "\n",
      "\n",
      "[%] Done. Downloaded 10 images.\n",
      "[%] Downloading Images to /home/sagemaker-user/Domain-Shift-Computer-Vision/imagenetA_generated/garbage truck/a photo of garbage truck\n",
      "[Error]Invalid image, not saving https://cdn.geekwire.com/wp-content/uploads/2019/05/recology.jpg\n",
      "\n",
      "[!] Issue getting: https://cdn.geekwire.com/wp-content/uploads/2019/05/recology.jpg\n",
      "[!] Error:: Invalid image, not saving https://cdn.geekwire.com/wp-content/uploads/2019/05/recology.jpg\n",
      "\n",
      "[!] Issue getting: https://www.globalhealthnow.org/sites/default/files/styles/embedded_image/public/images/2016-09/garbage trucks.jpg?itok=mSew7oAs\n",
      "[!] Error:: URL can't contain control characters. '/sites/default/files/styles/embedded_image/public/images/2016-09/garbage trucks.jpg?itok=mSew7oAs' (found at least ' ')\n",
      "[!] Issue getting: https://assets.wired.com/photos/w_2064/wp-content/uploads/2016/07/Garbagetruck3.jpg\n",
      "[!] Error:: HTTP Error 404: Not Found\n"
     ]
    },
    {
     "name": "stderr",
     "output_type": "stream",
     "text": [
      "Processing class: goblet:  57%|█████▋    | 114/200 [12:53<07:35,  5.30s/it]       "
     ]
    },
    {
     "name": "stdout",
     "output_type": "stream",
     "text": [
      "[Error]Invalid image, not saving https://mawaste.com/wp-content/uploads/2021/10/multipack-rearload-garbage-truck-hero.jpg\n",
      "\n",
      "[!] Issue getting: https://mawaste.com/wp-content/uploads/2021/10/multipack-rearload-garbage-truck-hero.jpg\n",
      "[!] Error:: Invalid image, not saving https://mawaste.com/wp-content/uploads/2021/10/multipack-rearload-garbage-truck-hero.jpg\n",
      "\n",
      "\n",
      "\n",
      "[%] Done. Downloaded 10 images.\n",
      "[%] Downloading Images to /home/sagemaker-user/Domain-Shift-Computer-Vision/imagenetA_generated/goblet/a photo of goblet\n",
      "[!] Issue getting: https://beverlybremersilver.files.wordpress.com/2010/01/goblets3.jpg\n",
      "[!] Error:: HTTP Error 410: Gone\n"
     ]
    },
    {
     "name": "stderr",
     "output_type": "stream",
     "text": [
      "Processing class: go-kart:  57%|█████▊    | 115/200 [13:01<08:28,  5.98s/it]"
     ]
    },
    {
     "name": "stdout",
     "output_type": "stream",
     "text": [
      "\n",
      "\n",
      "[%] Done. Downloaded 10 images.\n",
      "[%] Downloading Images to /home/sagemaker-user/Domain-Shift-Computer-Vision/imagenetA_generated/go-kart/a photo of go-kart\n",
      "[Error]Invalid image, not saving https://shop.advanceautoparts.com/r/sites/default/files/articles/2015/07/Go-kart-2.jpg\n",
      "\n",
      "[!] Issue getting: https://shop.advanceautoparts.com/r/sites/default/files/articles/2015/07/Go-kart-2.jpg\n",
      "[!] Error:: Invalid image, not saving https://shop.advanceautoparts.com/r/sites/default/files/articles/2015/07/Go-kart-2.jpg\n",
      "\n",
      "[!] Issue getting: https://blog.radioflyer.com/content/sites/default/files/Go Kart 2.jpg\n",
      "[!] Error:: URL can't contain control characters. '/content/sites/default/files/Go Kart 2.jpg' (found at least ' ')\n",
      "[Error]Invalid image, not saving http://theworkingparent.com/wp-content/uploads/2013/08/shutterstock_5480791.jpg\n",
      "\n",
      "[!] Issue getting: http://theworkingparent.com/wp-content/uploads/2013/08/shutterstock_5480791.jpg\n",
      "[!] Error:: Invalid image, not saving http://theworkingparent.com/wp-content/uploads/2013/08/shutterstock_5480791.jpg\n",
      "\n",
      "[!] Issue getting: https://cdn.eftm.com/wp-content/uploads/2016/04/13090715_10153777984773051_1434348857_o.jpg\n",
      "[!] Error:: <urlopen error [SSL: CERTIFICATE_VERIFY_FAILED] certificate verify failed: unable to get local issuer certificate (_ssl.c:1007)>\n",
      "[!] Issue getting: https://www.team-sport.co.uk/media/1038/fast-shot-2.jpg\n",
      "[!] Error:: HTTP Error 404: Not Found\n"
     ]
    },
    {
     "name": "stderr",
     "output_type": "stream",
     "text": [
      "Processing class: golf cart:  58%|█████▊    | 116/200 [13:09<09:14,  6.61s/it]"
     ]
    },
    {
     "name": "stdout",
     "output_type": "stream",
     "text": [
      "\n",
      "\n",
      "[%] Done. Downloaded 10 images.\n",
      "[%] Downloading Images to /home/sagemaker-user/Domain-Shift-Computer-Vision/imagenetA_generated/golf cart/a photo of golf cart\n",
      "[Error]Invalid image, not saving http://www.publicdomainpictures.net/pictures/30000/velka/golf-cart.jpg\n",
      "\n",
      "[!] Issue getting: http://www.publicdomainpictures.net/pictures/30000/velka/golf-cart.jpg\n",
      "[!] Error:: Invalid image, not saving http://www.publicdomainpictures.net/pictures/30000/velka/golf-cart.jpg\n",
      "\n",
      "[!] Issue getting: https://cleantechnica.com/files/2021/07/Club-Car-cart.jpg\n",
      "[!] Error:: HTTP Error 404: Not Found\n",
      "[Error]Invalid image, not saving https://www.bintelli.com/wp-content/uploads/2023/04/bintelli-beyond-4-titanium-lifted.jpg\n",
      "\n",
      "[!] Issue getting: https://www.bintelli.com/wp-content/uploads/2023/04/bintelli-beyond-4-titanium-lifted.jpg\n",
      "[!] Error:: Invalid image, not saving https://www.bintelli.com/wp-content/uploads/2023/04/bintelli-beyond-4-titanium-lifted.jpg\n",
      "\n",
      "[!] Issue getting: https://streetlegalgolfcarts.com/wp-content/uploads/2022/09/2022-Hydro-Lifted-Vivid-EV-Street-Legal-Golf-Carts.jpg\n",
      "[!] Error:: Remote end closed connection without response\n",
      "[!] Issue getting: https://midfloridacarts.com/wp-content/uploads/2022/08/Photo-Apr-04-3-27-03-PM.jpg\n",
      "[!] Error:: Remote end closed connection without response\n"
     ]
    },
    {
     "name": "stderr",
     "output_type": "stream",
     "text": [
      "Processing class: grand piano:  58%|█████▊    | 117/200 [13:15<09:05,  6.57s/it]"
     ]
    },
    {
     "name": "stdout",
     "output_type": "stream",
     "text": [
      "\n",
      "\n",
      "[%] Done. Downloaded 10 images.\n",
      "[%] Downloading Images to /home/sagemaker-user/Domain-Shift-Computer-Vision/imagenetA_generated/grand piano/a photo of grand piano\n",
      "[!] Issue getting: https://usa.yamaha.com/files/BB8CF2BADB954E0C97C33E0832E90DEC_12073_2719x3128_6a4f647a3932292883a3659920fff895.jpg\n",
      "[!] Error:: HTTP Error 404: Not Found\n",
      "[Error]Invalid image, not saving http://www.chuppspianos.com/wp-content/uploads/2015/03/Steinway-Model-D-Concert-Grand-Piano-233201.jpg\n",
      "\n",
      "[!] Issue getting: http://www.chuppspianos.com/wp-content/uploads/2015/03/Steinway-Model-D-Concert-Grand-Piano-233201.jpg\n",
      "[!] Error:: Invalid image, not saving http://www.chuppspianos.com/wp-content/uploads/2015/03/Steinway-Model-D-Concert-Grand-Piano-233201.jpg\n",
      "\n"
     ]
    },
    {
     "name": "stderr",
     "output_type": "stream",
     "text": [
      "Processing class: hair dryer:  59%|█████▉    | 118/200 [13:22<09:03,  6.63s/it] "
     ]
    },
    {
     "name": "stdout",
     "output_type": "stream",
     "text": [
      "\n",
      "\n",
      "[%] Done. Downloaded 10 images.\n",
      "[%] Downloading Images to /home/sagemaker-user/Domain-Shift-Computer-Vision/imagenetA_generated/hair dryer/a photo of hair dryer\n"
     ]
    },
    {
     "name": "stderr",
     "output_type": "stream",
     "text": [
      "Processing class: clothes iron:  60%|█████▉    | 119/200 [13:24<07:08,  5.29s/it]"
     ]
    },
    {
     "name": "stdout",
     "output_type": "stream",
     "text": [
      "\n",
      "\n",
      "[%] Done. Downloaded 10 images.\n",
      "[%] Downloading Images to /home/sagemaker-user/Domain-Shift-Computer-Vision/imagenetA_generated/clothes iron/a photo of clothes iron\n",
      "[!] Issue getting: https://imagesvc.meredithcorp.io/v3/mm/image?url=https:%2F%2Fstatic.onecms.io%2Fwp-content%2Fuploads%2Fsites%2F24%2F2020%2F09%2F11%2Frowenta-dw9280-digital-display-steam-iron.jpg\n",
      "[!] Error:: HTTP Error 400: Bad Request\n"
     ]
    },
    {
     "name": "stderr",
     "output_type": "stream",
     "text": [
      "Processing class: jack-o'-lantern:  60%|██████    | 120/200 [13:29<06:39,  4.99s/it]"
     ]
    },
    {
     "name": "stdout",
     "output_type": "stream",
     "text": [
      "\n",
      "\n",
      "[%] Done. Downloaded 10 images.\n",
      "[%] Downloading Images to /home/sagemaker-user/Domain-Shift-Computer-Vision/imagenetA_generated/jack-o'-lantern/a photo of jack-o'-lantern\n"
     ]
    },
    {
     "name": "stderr",
     "output_type": "stream",
     "text": [
      "Processing class: jeep:  60%|██████    | 121/200 [13:33<06:21,  4.83s/it]           "
     ]
    },
    {
     "name": "stdout",
     "output_type": "stream",
     "text": [
      "\n",
      "\n",
      "[%] Done. Downloaded 10 images.\n",
      "[%] Downloading Images to /home/sagemaker-user/Domain-Shift-Computer-Vision/imagenetA_generated/jeep/a photo of jeep\n",
      "[!] Issue getting: https://moparinsiders.com/wp-content/uploads/2022/09/2023-Jeep®-Wrangler-Unlimited-Willys-4xe.-Jeep-1-scaled.jpg\n",
      "[!] Error:: 'ascii' codec can't encode character '\\xae' in position 41: ordinal not in range(128)\n",
      "[!] Issue getting: http://upload.wikimedia.org/wikipedia/commons/1/16/Jeep_Grand_Cherokee_3.0_CRD_S-Limited_(WK)_–_Frontansicht,_31._Dezember_2012,_Düsseldorf.jpg\n",
      "[!] Error:: 'ascii' codec can't encode character '\\u2013' in position 71: ordinal not in range(128)\n",
      "[Error]Invalid image, not saving https://www.thedrive.com/uploads/2023/06/28/Rubicon-Hero.jpg?auto=webp&amp;crop=16:9&amp;auto=webp&amp;optimize=high&amp;quality=70&amp;width=1440\n",
      "\n",
      "[!] Issue getting: https://www.thedrive.com/uploads/2023/06/28/Rubicon-Hero.jpg?auto=webp&amp;crop=16:9&amp;auto=webp&amp;optimize=high&amp;quality=70&amp;width=1440\n",
      "[!] Error:: Invalid image, not saving https://www.thedrive.com/uploads/2023/06/28/Rubicon-Hero.jpg?auto=webp&amp;crop=16:9&amp;auto=webp&amp;optimize=high&amp;quality=70&amp;width=1440\n",
      "\n",
      "[!] Issue getting: https://i0.wp.com/moparinsiders.com/wp-content/uploads/2023/04/JP024_023WR.jpeg?fit=2205%2C1240&amp;ssl=1\n",
      "[!] Error:: HTTP Error 404: Not Found\n",
      "[!] Issue getting: https://www.motortrend.com/uploads/2022/09/2023-Jeep-Grand-Cherokee-4xe-30th-Anniversary-Edition-2.jpg\n",
      "[!] Error:: HTTP Error 403: Forbidden\n",
      "[!] Issue getting: https://moparinsiders.com/wp-content/uploads/2023/02/2023-Jeep®-Wrangler-Unlimited-Rubicon-392-20th-Anniversary-Edition.-Jeep.-7-scaled.jpeg\n",
      "[!] Error:: 'ascii' codec can't encode character '\\xae' in position 41: ordinal not in range(128)\n",
      "[!] Issue getting: https://images.caricos.com/j/jeep/2024_jeep_wrangler_4xe/images/2560x1440/2024_jeep_wrangler_4xe_1_2560x1440.jpg\n",
      "[!] Error:: HTTP Error 403: Forbidden\n"
     ]
    },
    {
     "name": "stderr",
     "output_type": "stream",
     "text": [
      "Processing class: kimono:  61%|██████    | 122/200 [13:40<07:04,  5.44s/it]"
     ]
    },
    {
     "name": "stdout",
     "output_type": "stream",
     "text": [
      "\n",
      "\n",
      "[%] Done. Downloaded 10 images.\n",
      "[%] Downloading Images to /home/sagemaker-user/Domain-Shift-Computer-Vision/imagenetA_generated/kimono/a photo of kimono\n"
     ]
    },
    {
     "name": "stderr",
     "output_type": "stream",
     "text": [
      "Processing class: lighter:  62%|██████▏   | 123/200 [13:52<09:31,  7.42s/it]"
     ]
    },
    {
     "name": "stdout",
     "output_type": "stream",
     "text": [
      "\n",
      "\n",
      "[%] Done. Downloaded 10 images.\n",
      "[%] Downloading Images to /home/sagemaker-user/Domain-Shift-Computer-Vision/imagenetA_generated/lighter/a photo of lighter\n"
     ]
    },
    {
     "name": "stderr",
     "output_type": "stream",
     "text": [
      "Processing class: limousine:  62%|██████▏   | 124/200 [13:55<07:39,  6.05s/it]"
     ]
    },
    {
     "name": "stdout",
     "output_type": "stream",
     "text": [
      "\n",
      "\n",
      "[%] Done. Downloaded 10 images.\n",
      "[%] Downloading Images to /home/sagemaker-user/Domain-Shift-Computer-Vision/imagenetA_generated/limousine/a photo of limousine\n"
     ]
    },
    {
     "name": "stderr",
     "output_type": "stream",
     "text": [
      "Processing class: manhole cover:  62%|██████▎   | 125/200 [14:04<08:37,  6.90s/it]"
     ]
    },
    {
     "name": "stdout",
     "output_type": "stream",
     "text": [
      "\n",
      "\n",
      "[%] Done. Downloaded 10 images.\n",
      "[%] Downloading Images to /home/sagemaker-user/Domain-Shift-Computer-Vision/imagenetA_generated/manhole cover/a photo of manhole cover\n",
      "[!] Issue getting: https://amercast.com/wp-content/uploads/2020/12/Custom-Manhole-Cover-Lettering.jpeg\n",
      "[!] Error:: HTTP Error 520: \n",
      "[!] Issue getting: https://terrafirmapitlids.com/wp-content/uploads/2021/04/1200px-Open_Manhole_and_Cover_Mid-City_New_Orleans.jpg\n",
      "[!] Error:: Remote end closed connection without response\n",
      "[!] Issue getting: https://amercast.com/wp-content/uploads/2020/12/Custom-Writing-Manhole-Frame-and-Cover-scaled.jpeg\n",
      "[!] Error:: HTTP Error 520: \n"
     ]
    },
    {
     "name": "stderr",
     "output_type": "stream",
     "text": [
      "Processing class: maraca:  63%|██████▎   | 126/200 [14:12<08:59,  7.28s/it]       "
     ]
    },
    {
     "name": "stdout",
     "output_type": "stream",
     "text": [
      "\n",
      "\n",
      "[%] Done. Downloaded 10 images.\n",
      "[%] Downloading Images to /home/sagemaker-user/Domain-Shift-Computer-Vision/imagenetA_generated/maraca/a photo of maraca\n",
      "[Error]Invalid image, not saving https://amols-images.s3.amazonaws.com/2021/07/16/18/11/08/2f2caf17-9f38-47c8-b952-003d17968a2a/57897.jpg\n",
      "\n",
      "[!] Issue getting: https://amols-images.s3.amazonaws.com/2021/07/16/18/11/08/2f2caf17-9f38-47c8-b952-003d17968a2a/57897.jpg\n",
      "[!] Error:: Invalid image, not saving https://amols-images.s3.amazonaws.com/2021/07/16/18/11/08/2f2caf17-9f38-47c8-b952-003d17968a2a/57897.jpg\n",
      "\n"
     ]
    },
    {
     "name": "stderr",
     "output_type": "stream",
     "text": [
      "Processing class: marimba:  64%|██████▎   | 127/200 [14:19<08:45,  7.19s/it]"
     ]
    },
    {
     "name": "stdout",
     "output_type": "stream",
     "text": [
      "\n",
      "\n",
      "[%] Done. Downloaded 10 images.\n",
      "[%] Downloading Images to /home/sagemaker-user/Domain-Shift-Computer-Vision/imagenetA_generated/marimba/a photo of marimba\n",
      "[Error]Invalid image, not saving https://cdn.britannica.com/17/143817-050-EF9855EB/Marimba.jpg\n",
      "\n",
      "[!] Issue getting: https://cdn.britannica.com/17/143817-050-EF9855EB/Marimba.jpg\n",
      "[!] Error:: Invalid image, not saving https://cdn.britannica.com/17/143817-050-EF9855EB/Marimba.jpg\n",
      "\n",
      "[!] Issue getting: https://goldenperc.com/wp-content/uploads/2017/12/Marimba-Bergerault-MCB.jpg\n",
      "[!] Error:: Remote end closed connection without response\n"
     ]
    },
    {
     "name": "stderr",
     "output_type": "stream",
     "text": [
      "Processing class: mask:  64%|██████▍   | 128/200 [14:23<07:43,  6.43s/it]   "
     ]
    },
    {
     "name": "stdout",
     "output_type": "stream",
     "text": [
      "\n",
      "\n",
      "[%] Done. Downloaded 10 images.\n",
      "[%] Downloading Images to /home/sagemaker-user/Domain-Shift-Computer-Vision/imagenetA_generated/mask/a photo of mask\n",
      "[Error]Invalid image, not saving https://cdn.britannica.com/24/154124-050-266B50F7/Woman-mask-Carnival-celebrations-Venice-Italy.jpg\n",
      "\n",
      "[!] Issue getting: https://cdn.britannica.com/24/154124-050-266B50F7/Woman-mask-Carnival-celebrations-Venice-Italy.jpg\n",
      "[!] Error:: Invalid image, not saving https://cdn.britannica.com/24/154124-050-266B50F7/Woman-mask-Carnival-celebrations-Venice-Italy.jpg\n",
      "\n"
     ]
    },
    {
     "name": "stderr",
     "output_type": "stream",
     "text": [
      "Processing class: mitten:  64%|██████▍   | 129/200 [14:28<06:46,  5.73s/it]"
     ]
    },
    {
     "name": "stdout",
     "output_type": "stream",
     "text": [
      "\n",
      "\n",
      "[%] Done. Downloaded 10 images.\n",
      "[%] Downloading Images to /home/sagemaker-user/Domain-Shift-Computer-Vision/imagenetA_generated/mitten/a photo of mitten\n",
      "[!] Issue getting: https://preview.redd.it/just-finished-my-first-pair-of-mittens-v0-scdyqwcmiw8a1.jpg?width=2695&amp;format=pjpg&amp;auto=webp&amp;s=8e754238f135875378747aabfdcad6d4e3becc56\n",
      "[!] Error:: HTTP Error 403: Blocked\n",
      "[!] Issue getting: https://image.sportsmansguide.com/adimgs/l/7/731336_ts.jpg\n",
      "[!] Error:: HTTP Error 403: Forbidden\n"
     ]
    },
    {
     "name": "stderr",
     "output_type": "stream",
     "text": [
      "Processing class: mosque:  65%|██████▌   | 130/200 [14:31<05:47,  4.97s/it]"
     ]
    },
    {
     "name": "stdout",
     "output_type": "stream",
     "text": [
      "\n",
      "\n",
      "[%] Done. Downloaded 10 images.\n",
      "[%] Downloading Images to /home/sagemaker-user/Domain-Shift-Computer-Vision/imagenetA_generated/mosque/a photo of mosque\n",
      "[Error]Invalid image, not saving https://cdn.britannica.com/82/133582-050-1B2986D4/Badshahi-Mosque-Lahore-Pakistan.jpg\n",
      "\n",
      "[!] Issue getting: https://cdn.britannica.com/82/133582-050-1B2986D4/Badshahi-Mosque-Lahore-Pakistan.jpg\n",
      "[!] Error:: Invalid image, not saving https://cdn.britannica.com/82/133582-050-1B2986D4/Badshahi-Mosque-Lahore-Pakistan.jpg\n",
      "\n"
     ]
    },
    {
     "name": "stderr",
     "output_type": "stream",
     "text": [
      "Processing class: nail:  66%|██████▌   | 131/200 [14:37<06:13,  5.42s/it]  "
     ]
    },
    {
     "name": "stdout",
     "output_type": "stream",
     "text": [
      "\n",
      "\n",
      "[%] Done. Downloaded 10 images.\n",
      "[%] Downloading Images to /home/sagemaker-user/Domain-Shift-Computer-Vision/imagenetA_generated/nail/a photo of nail\n"
     ]
    },
    {
     "name": "stderr",
     "output_type": "stream",
     "text": [
      "Processing class: obelisk:  66%|██████▌   | 132/200 [14:41<05:41,  5.01s/it]"
     ]
    },
    {
     "name": "stdout",
     "output_type": "stream",
     "text": [
      "\n",
      "\n",
      "[%] Done. Downloaded 10 images.\n",
      "[%] Downloading Images to /home/sagemaker-user/Domain-Shift-Computer-Vision/imagenetA_generated/obelisk/a photo of obelisk\n",
      "[Error]Invalid image, not saving https://cdn.britannica.com/79/189879-050-23825175/Luxor-Obelisk-Egypt-Place-de-la-Concorde-1831.jpg\n",
      "\n",
      "[!] Issue getting: https://cdn.britannica.com/79/189879-050-23825175/Luxor-Obelisk-Egypt-Place-de-la-Concorde-1831.jpg\n",
      "[!] Error:: Invalid image, not saving https://cdn.britannica.com/79/189879-050-23825175/Luxor-Obelisk-Egypt-Place-de-la-Concorde-1831.jpg\n",
      "\n",
      "[Error]Invalid image, not saving https://images.squarespace-cdn.com/content/v1/626a3e2c3e96e84c4b6db2fb/e781a33b-e051-4eec-84c6-531900ef0b3f/italy-rome-obelisk-4479.jpg\n",
      "\n",
      "[!] Issue getting: https://images.squarespace-cdn.com/content/v1/626a3e2c3e96e84c4b6db2fb/e781a33b-e051-4eec-84c6-531900ef0b3f/italy-rome-obelisk-4479.jpg\n",
      "[!] Error:: Invalid image, not saving https://images.squarespace-cdn.com/content/v1/626a3e2c3e96e84c4b6db2fb/e781a33b-e051-4eec-84c6-531900ef0b3f/italy-rome-obelisk-4479.jpg\n",
      "\n"
     ]
    },
    {
     "name": "stderr",
     "output_type": "stream",
     "text": [
      "Processing class: ocarina:  66%|██████▋   | 133/200 [14:47<05:55,  5.31s/it]"
     ]
    },
    {
     "name": "stdout",
     "output_type": "stream",
     "text": [
      "\n",
      "\n",
      "[%] Done. Downloaded 10 images.\n",
      "[%] Downloading Images to /home/sagemaker-user/Domain-Shift-Computer-Vision/imagenetA_generated/ocarina/a photo of ocarina\n",
      "[Error]Invalid image, not saving https://cdn.britannica.com/18/143818-050-3E42A5BE/Ocarina.jpg\n",
      "\n",
      "[!] Issue getting: https://cdn.britannica.com/18/143818-050-3E42A5BE/Ocarina.jpg\n",
      "[!] Error:: Invalid image, not saving https://cdn.britannica.com/18/143818-050-3E42A5BE/Ocarina.jpg\n",
      "\n",
      "[Error]Invalid image, not saving https://upload.wikimedia.org/wikipedia/commons/thumb/3/34/2016-01_Ocarina_front.jpg/1200px-2016-01_Ocarina_front.jpg\n",
      "\n",
      "[!] Issue getting: https://upload.wikimedia.org/wikipedia/commons/thumb/3/34/2016-01_Ocarina_front.jpg/1200px-2016-01_Ocarina_front.jpg\n",
      "[!] Error:: Invalid image, not saving https://upload.wikimedia.org/wikipedia/commons/thumb/3/34/2016-01_Ocarina_front.jpg/1200px-2016-01_Ocarina_front.jpg\n",
      "\n",
      "[!] Issue getting: https://i0.wp.com/musictomywallet.com/wp-content/uploads/2018/10/ocarina-2614469_1920.jpg?fit=1920%2C1280&amp;ssl=1\n",
      "[!] Error:: HTTP Error 404: Not Found\n"
     ]
    },
    {
     "name": "stderr",
     "output_type": "stream",
     "text": [
      "Processing class: organ:  67%|██████▋   | 134/200 [14:54<06:18,  5.74s/it]  "
     ]
    },
    {
     "name": "stdout",
     "output_type": "stream",
     "text": [
      "\n",
      "\n",
      "[%] Done. Downloaded 10 images.\n",
      "[%] Downloading Images to /home/sagemaker-user/Domain-Shift-Computer-Vision/imagenetA_generated/organ/a photo of organ\n",
      "[Error]Invalid image, not saving https://cdn.britannica.com/18/129118-050-BF48319E/organ.jpg\n",
      "\n",
      "[!] Issue getting: https://cdn.britannica.com/18/129118-050-BF48319E/organ.jpg\n",
      "[!] Error:: Invalid image, not saving https://cdn.britannica.com/18/129118-050-BF48319E/organ.jpg\n",
      "\n",
      "[!] Issue getting: https://www.epianos.co.uk/wp-content/uploads/2022/10/IMG_2700-2048x1536.jpg\n",
      "[!] Error:: HTTP Error 502: Bad Gateway\n",
      "[!] Issue getting: https://wrapthatcar.com/wp-content/uploads/2022/08/BthanyChurch-organ.jpg\n",
      "[!] Error:: Remote end closed connection without response\n"
     ]
    },
    {
     "name": "stderr",
     "output_type": "stream",
     "text": [
      "Processing class: parachute:  68%|██████▊   | 135/200 [14:58<05:44,  5.30s/it]"
     ]
    },
    {
     "name": "stdout",
     "output_type": "stream",
     "text": [
      "\n",
      "\n",
      "[%] Done. Downloaded 10 images.\n",
      "[%] Downloading Images to /home/sagemaker-user/Domain-Shift-Computer-Vision/imagenetA_generated/parachute/a photo of parachute\n",
      "[Error]Invalid image, not saving https://www.fxcguardian.com/wp-content/uploads/2020/02/fallschime-4773221-scaled.jpg\n",
      "\n",
      "[!] Issue getting: https://www.fxcguardian.com/wp-content/uploads/2020/02/fallschime-4773221-scaled.jpg\n",
      "[!] Error:: Invalid image, not saving https://www.fxcguardian.com/wp-content/uploads/2020/02/fallschime-4773221-scaled.jpg\n",
      "\n"
     ]
    },
    {
     "name": "stderr",
     "output_type": "stream",
     "text": [
      "Processing class: parking meter:  68%|██████▊   | 136/200 [15:05<05:57,  5.59s/it]"
     ]
    },
    {
     "name": "stdout",
     "output_type": "stream",
     "text": [
      "\n",
      "\n",
      "[%] Done. Downloaded 10 images.\n",
      "[%] Downloading Images to /home/sagemaker-user/Domain-Shift-Computer-Vision/imagenetA_generated/parking meter/a photo of parking meter\n",
      "[!] Issue getting: http://mediad.publicbroadcasting.net/p/kbia/files/styles/x_large/public/201612/Los_Angeles_parking_meter.jpg\n",
      "[!] Error:: HTTP Error 404: Not Found\n"
     ]
    },
    {
     "name": "stderr",
     "output_type": "stream",
     "text": [
      "Processing class: piggy bank:  68%|██████▊   | 137/200 [15:15<07:24,  7.06s/it]   "
     ]
    },
    {
     "name": "stdout",
     "output_type": "stream",
     "text": [
      "\n",
      "\n",
      "[%] Done. Downloaded 10 images.\n",
      "[%] Downloading Images to /home/sagemaker-user/Domain-Shift-Computer-Vision/imagenetA_generated/piggy bank/a photo of piggy bank\n",
      "[!] Issue getting: https://roryokeeffe.com/wp-content/uploads/2016/01/5737823348_0a6626606c_o.jpg\n",
      "[!] Error:: HTTP Error 404: Not Found\n"
     ]
    },
    {
     "name": "stderr",
     "output_type": "stream",
     "text": [
      "Processing class: billiard table:  69%|██████▉   | 138/200 [15:20<06:35,  6.38s/it]"
     ]
    },
    {
     "name": "stdout",
     "output_type": "stream",
     "text": [
      "\n",
      "\n",
      "[%] Done. Downloaded 10 images.\n",
      "[%] Downloading Images to /home/sagemaker-user/Domain-Shift-Computer-Vision/imagenetA_generated/billiard table/a photo of billiard table\n"
     ]
    },
    {
     "name": "stderr",
     "output_type": "stream",
     "text": [
      "Processing class: hockey puck:  70%|██████▉   | 139/200 [15:24<05:56,  5.85s/it]   "
     ]
    },
    {
     "name": "stdout",
     "output_type": "stream",
     "text": [
      "\n",
      "\n",
      "[%] Done. Downloaded 10 images.\n",
      "[%] Downloading Images to /home/sagemaker-user/Domain-Shift-Computer-Vision/imagenetA_generated/hockey puck/a photo of hockey puck\n"
     ]
    },
    {
     "name": "stderr",
     "output_type": "stream",
     "text": [
      "Processing class: quill:  70%|███████   | 140/200 [15:28<05:10,  5.17s/it]      "
     ]
    },
    {
     "name": "stdout",
     "output_type": "stream",
     "text": [
      "\n",
      "\n",
      "[%] Done. Downloaded 10 images.\n",
      "[%] Downloading Images to /home/sagemaker-user/Domain-Shift-Computer-Vision/imagenetA_generated/quill/a photo of quill\n",
      "[!] Issue getting: https://upload.wikimedia.org/wikipedia/commons/thumb/b/b9/קלף%2C_נוצה_ודיו.jpg/1200px-קלף%2C_נוצה_ודיו.jpg\n",
      "[!] Error:: 'ascii' codec can't encode characters in position 34-36: ordinal not in range(128)\n",
      "[!] Issue getting: https://cmkt-image-prd.global.ssl.fastly.net/0.1.0/ps/2119233/1360/906/m1/fpnw/wm1/ny5rigfky55qhjapqyzxoe7nh5fagi4jw9rup8zypldgmyir4jpb6043nlkguvmz-.jpg?1484208871&amp;s=373c6095cc07d2ae4bdf172c1fe29e1d\n",
      "[!] Error:: HTTP Error 403: Forbidden\n",
      "[!] Issue getting: https://images.creativemarket.com/0.1.0/ps/1798984/1360/2040/m1/fpnw/wm1/hren24zkegzuievrh4mfxhhnw1nwpngqdj3dsn2kyzpjt5xcemjdv1quvou1zxlm-.jpg?1477366535&amp;s=4baf269f9a821a07be8014b871b6b863\n",
      "[!] Error:: HTTP Error 403: Forbidden\n",
      "[Error]Invalid image, not saving http://www.freakingnews.com/images/app_images/quill.jpg\n",
      "\n",
      "[!] Issue getting: http://www.freakingnews.com/images/app_images/quill.jpg\n",
      "[!] Error:: Invalid image, not saving http://www.freakingnews.com/images/app_images/quill.jpg\n",
      "\n",
      "[!] Issue getting: http://gallery.nen.gov.uk/assets/0802/0000/0122/image_3.jpg\n",
      "[!] Error:: HTTP Error 403: Forbidden\n",
      "[Error]Invalid image, not saving http://static1.squarespace.com/static/6287b013fe7e4402c2cdac21/6287b52f06b7004a5ff15b5d/62e14f66152f147d8b5d39b8/1660920719804/Carly%2BDrew%2BNib%2BPens%2B10.jpeg?format=1500w\n",
      "\n",
      "[!] Issue getting: http://static1.squarespace.com/static/6287b013fe7e4402c2cdac21/6287b52f06b7004a5ff15b5d/62e14f66152f147d8b5d39b8/1660920719804/Carly%2BDrew%2BNib%2BPens%2B10.jpeg?format=1500w\n",
      "[!] Error:: Invalid image, not saving http://static1.squarespace.com/static/6287b013fe7e4402c2cdac21/6287b52f06b7004a5ff15b5d/62e14f66152f147d8b5d39b8/1660920719804/Carly%2BDrew%2BNib%2BPens%2B10.jpeg?format=1500w\n",
      "\n"
     ]
    },
    {
     "name": "stderr",
     "output_type": "stream",
     "text": [
      "Processing class: racket:  70%|███████   | 141/200 [15:34<05:14,  5.34s/it]"
     ]
    },
    {
     "name": "stdout",
     "output_type": "stream",
     "text": [
      "\n",
      "\n",
      "[%] Done. Downloaded 10 images.\n",
      "[%] Downloading Images to /home/sagemaker-user/Domain-Shift-Computer-Vision/imagenetA_generated/racket/a photo of racket\n"
     ]
    },
    {
     "name": "stderr",
     "output_type": "stream",
     "text": [
      "Processing class: reel:  71%|███████   | 142/200 [15:40<05:30,  5.69s/it]  "
     ]
    },
    {
     "name": "stdout",
     "output_type": "stream",
     "text": [
      "\n",
      "\n",
      "[%] Done. Downloaded 10 images.\n",
      "[%] Downloading Images to /home/sagemaker-user/Domain-Shift-Computer-Vision/imagenetA_generated/reel/a photo of reel\n"
     ]
    },
    {
     "name": "stderr",
     "output_type": "stream",
     "text": [
      "Processing class: revolver:  72%|███████▏  | 143/200 [15:49<06:22,  6.71s/it]"
     ]
    },
    {
     "name": "stdout",
     "output_type": "stream",
     "text": [
      "\n",
      "\n",
      "[%] Done. Downloaded 10 images.\n",
      "[%] Downloading Images to /home/sagemaker-user/Domain-Shift-Computer-Vision/imagenetA_generated/revolver/a photo of revolver\n",
      "[Error]Invalid image, not saving https://cdn.britannica.com/95/176195-050-D0FA0BC1/Smith-Wesson-revolver.jpg\n",
      "\n",
      "[!] Issue getting: https://cdn.britannica.com/95/176195-050-D0FA0BC1/Smith-Wesson-revolver.jpg\n",
      "[!] Error:: Invalid image, not saving https://cdn.britannica.com/95/176195-050-D0FA0BC1/Smith-Wesson-revolver.jpg\n",
      "\n"
     ]
    },
    {
     "name": "stderr",
     "output_type": "stream",
     "text": [
      "Processing class: rocking chair:  72%|███████▏  | 144/200 [15:53<05:29,  5.89s/it]"
     ]
    },
    {
     "name": "stdout",
     "output_type": "stream",
     "text": [
      "\n",
      "\n",
      "[%] Done. Downloaded 10 images.\n",
      "[%] Downloading Images to /home/sagemaker-user/Domain-Shift-Computer-Vision/imagenetA_generated/rocking chair/a photo of rocking chair\n",
      "[!] Issue getting: http://images.hayneedle.com/mgen/master:RM029.jpg\n",
      "[!] Error:: <urlopen error [Errno -2] Name or service not known>\n",
      "[!] Issue getting: http://weknowyourdreams.com/images/rocking-chair/rocking-chair-04.jpg\n",
      "[!] Error:: <urlopen error [SSL: CERTIFICATE_VERIFY_FAILED] certificate verify failed: unable to get local issuer certificate (_ssl.c:1007)>\n"
     ]
    },
    {
     "name": "stderr",
     "output_type": "stream",
     "text": [
      "Processing class: rugby ball:  72%|███████▎  | 145/200 [15:58<05:08,  5.62s/it]   "
     ]
    },
    {
     "name": "stdout",
     "output_type": "stream",
     "text": [
      "\n",
      "\n",
      "[%] Done. Downloaded 10 images.\n",
      "[%] Downloading Images to /home/sagemaker-user/Domain-Shift-Computer-Vision/imagenetA_generated/rugby ball/a photo of rugby ball\n"
     ]
    },
    {
     "name": "stderr",
     "output_type": "stream",
     "text": [
      "Processing class: salt shaker:  73%|███████▎  | 146/200 [16:02<04:25,  4.92s/it]"
     ]
    },
    {
     "name": "stdout",
     "output_type": "stream",
     "text": [
      "\n",
      "\n",
      "[%] Done. Downloaded 10 images.\n",
      "[%] Downloading Images to /home/sagemaker-user/Domain-Shift-Computer-Vision/imagenetA_generated/salt shaker/a photo of salt shaker\n",
      "[!] Issue getting: https://media.istockphoto.com/photos/salt-shaker-picture-id489011760?k=6&amp;m=489011760&amp;s=612x612&amp;w=0&amp;h=NdyAuO4K4nL8x-a9j2oreQ3SRugArq1AcMBwnyAXP6o=\n",
      "[!] Error:: HTTP Error 400: Bad Request\n"
     ]
    },
    {
     "name": "stderr",
     "output_type": "stream",
     "text": [
      "Processing class: sandal:  74%|███████▎  | 147/200 [16:06<04:07,  4.66s/it]     "
     ]
    },
    {
     "name": "stdout",
     "output_type": "stream",
     "text": [
      "\n",
      "\n",
      "[%] Done. Downloaded 10 images.\n",
      "[%] Downloading Images to /home/sagemaker-user/Domain-Shift-Computer-Vision/imagenetA_generated/sandal/a photo of sandal\n"
     ]
    },
    {
     "name": "stderr",
     "output_type": "stream",
     "text": [
      "Processing class: saxophone:  74%|███████▍  | 148/200 [16:10<03:57,  4.56s/it]"
     ]
    },
    {
     "name": "stdout",
     "output_type": "stream",
     "text": [
      "\n",
      "\n",
      "[%] Done. Downloaded 10 images.\n",
      "[%] Downloading Images to /home/sagemaker-user/Domain-Shift-Computer-Vision/imagenetA_generated/saxophone/a photo of saxophone\n",
      "[!] Issue getting: https://i0.wp.com/bassic-sax.info/blog/wp-content/uploads/2008/11/saxgourmet_tenor12.jpg\n",
      "[!] Error:: HTTP Error 404: Not Found\n"
     ]
    },
    {
     "name": "stderr",
     "output_type": "stream",
     "text": [
      "Processing class: school bus:  74%|███████▍  | 149/200 [16:15<03:59,  4.70s/it]"
     ]
    },
    {
     "name": "stdout",
     "output_type": "stream",
     "text": [
      "\n",
      "\n",
      "[%] Done. Downloaded 10 images.\n",
      "[%] Downloading Images to /home/sagemaker-user/Domain-Shift-Computer-Vision/imagenetA_generated/school bus/a photo of school bus\n"
     ]
    },
    {
     "name": "stderr",
     "output_type": "stream",
     "text": [
      "Processing class: schooner:  75%|███████▌  | 150/200 [16:20<04:06,  4.94s/it]  "
     ]
    },
    {
     "name": "stdout",
     "output_type": "stream",
     "text": [
      "\n",
      "\n",
      "[%] Done. Downloaded 10 images.\n",
      "[%] Downloading Images to /home/sagemaker-user/Domain-Shift-Computer-Vision/imagenetA_generated/schooner/a photo of schooner\n",
      "[!] Issue getting: http://newimages.yachtworld.com/resize/1/99/57/5779957_20160417220240130_1_XLARGE.jpg?f=/1/99/57/5779957_20160417220240130_1_XLARGE.jpg&amp;w=3975&amp;h=2655&amp;t=1461579972000\n",
      "[!] Error:: HTTP Error 400: Bad Request\n"
     ]
    },
    {
     "name": "stderr",
     "output_type": "stream",
     "text": [
      "Processing class: sewing machine:  76%|███████▌  | 151/200 [16:28<04:42,  5.76s/it]"
     ]
    },
    {
     "name": "stdout",
     "output_type": "stream",
     "text": [
      "\n",
      "\n",
      "[%] Done. Downloaded 10 images.\n",
      "[%] Downloading Images to /home/sagemaker-user/Domain-Shift-Computer-Vision/imagenetA_generated/sewing machine/a photo of sewing machine\n",
      "[!] Issue getting: http://www.bhg.com.au/media/24027/sewing-machine.jpg\n",
      "[!] Error:: HTTP Error 404: Not Found\n",
      "[Error]Invalid image, not saving https://cdn.britannica.com/16/121216-050-E419A1FC/Singer-sewing-machine.jpg\n",
      "\n",
      "[!] Issue getting: https://cdn.britannica.com/16/121216-050-E419A1FC/Singer-sewing-machine.jpg\n",
      "[!] Error:: Invalid image, not saving https://cdn.britannica.com/16/121216-050-E419A1FC/Singer-sewing-machine.jpg\n",
      "\n"
     ]
    },
    {
     "name": "stderr",
     "output_type": "stream",
     "text": [
      "Processing class: shovel:  76%|███████▌  | 152/200 [16:35<04:58,  6.22s/it]        "
     ]
    },
    {
     "name": "stdout",
     "output_type": "stream",
     "text": [
      "\n",
      "\n",
      "[%] Done. Downloaded 10 images.\n",
      "[%] Downloading Images to /home/sagemaker-user/Domain-Shift-Computer-Vision/imagenetA_generated/shovel/a photo of shovel\n",
      "[!] Issue getting: https://i1.wp.com/theprudentgarden.com/wp-content/uploads/2015/07/SHOVELS.jpg?w=1748\n",
      "[!] Error:: HTTP Error 404: Not Found\n"
     ]
    },
    {
     "name": "stderr",
     "output_type": "stream",
     "text": [
      "Processing class: sleeping bag:  76%|███████▋  | 153/200 [16:41<04:39,  5.94s/it]"
     ]
    },
    {
     "name": "stdout",
     "output_type": "stream",
     "text": [
      "\n",
      "\n",
      "[%] Done. Downloaded 10 images.\n",
      "[%] Downloading Images to /home/sagemaker-user/Domain-Shift-Computer-Vision/imagenetA_generated/sleeping bag/a photo of sleeping bag\n",
      "[!] Issue getting: https://i0.wp.com/letstraveluk.com/wp-content/uploads/2021/05/felix-m-dorn-hcti0k5E2Iw-unsplash-scaled.jpg?w=2400&amp;ssl=1\n",
      "[!] Error:: HTTP Error 404: Not Found\n",
      "[!] Issue getting: https://vikingtrek.com/wp-content/uploads/2017/05/1.png\n",
      "[!] Error:: Remote end closed connection without response\n"
     ]
    },
    {
     "name": "stderr",
     "output_type": "stream",
     "text": [
      "Processing class: snowmobile:  77%|███████▋  | 154/200 [16:47<04:31,  5.89s/it]  "
     ]
    },
    {
     "name": "stdout",
     "output_type": "stream",
     "text": [
      "\n",
      "\n",
      "[%] Done. Downloaded 10 images.\n",
      "[%] Downloading Images to /home/sagemaker-user/Domain-Shift-Computer-Vision/imagenetA_generated/snowmobile/a photo of snowmobile\n",
      "[Error]Invalid image, not saving https://cdn.britannica.com/76/116576-050-1B35C79A/Man-snowmobile-Bighorn-Mountains-Montana.jpg\n",
      "\n",
      "[!] Issue getting: https://cdn.britannica.com/76/116576-050-1B35C79A/Man-snowmobile-Bighorn-Mountains-Montana.jpg\n",
      "[!] Error:: Invalid image, not saving https://cdn.britannica.com/76/116576-050-1B35C79A/Man-snowmobile-Bighorn-Mountains-Montana.jpg\n",
      "\n"
     ]
    },
    {
     "name": "stderr",
     "output_type": "stream",
     "text": [
      "Processing class: snowplow:  78%|███████▊  | 155/200 [16:54<04:51,  6.47s/it]  "
     ]
    },
    {
     "name": "stdout",
     "output_type": "stream",
     "text": [
      "\n",
      "\n",
      "[%] Done. Downloaded 10 images.\n",
      "[%] Downloading Images to /home/sagemaker-user/Domain-Shift-Computer-Vision/imagenetA_generated/snowplow/a photo of snowplow\n",
      "[!] Issue getting: https://www.rd.com/wp-content/uploads/2020/02/GettyImages-641403166-e1582578901345-scaled.jpg\n",
      "[!] Error:: HTTP Error 403: Forbidden\n"
     ]
    },
    {
     "name": "stderr",
     "output_type": "stream",
     "text": [
      "Processing class: soap dispenser:  78%|███████▊  | 156/200 [17:02<04:53,  6.68s/it]"
     ]
    },
    {
     "name": "stdout",
     "output_type": "stream",
     "text": [
      "\n",
      "\n",
      "[%] Done. Downloaded 10 images.\n",
      "[%] Downloading Images to /home/sagemaker-user/Domain-Shift-Computer-Vision/imagenetA_generated/soap dispenser/a photo of soap dispenser\n",
      "[!] Issue getting: https://designjournalmag.com/assets/stash/4457-b4449d8ae1/6562 soap dispenser_Standard Series.jpg\n",
      "[!] Error:: URL can't contain control characters. '/assets/stash/4457-b4449d8ae1/6562 soap dispenser_Standard Series.jpg' (found at least ' ')\n",
      "[!] Issue getting: https://www.bathroomsdirectyorkshire.co.uk/storage/app/uploads/public/5a6/5d5/1a5/5a65d51a5536f934058352.jpg\n",
      "[!] Error:: HTTP Error 404: Not Found\n"
     ]
    },
    {
     "name": "stderr",
     "output_type": "stream",
     "text": [
      "Processing class: spatula:  78%|███████▊  | 157/200 [17:05<04:12,  5.86s/it]       "
     ]
    },
    {
     "name": "stdout",
     "output_type": "stream",
     "text": [
      "\n",
      "\n",
      "[%] Done. Downloaded 10 images.\n",
      "[%] Downloading Images to /home/sagemaker-user/Domain-Shift-Computer-Vision/imagenetA_generated/spatula/a photo of spatula\n"
     ]
    },
    {
     "name": "stderr",
     "output_type": "stream",
     "text": [
      "Processing class: spider web:  79%|███████▉  | 158/200 [17:09<03:31,  5.04s/it]"
     ]
    },
    {
     "name": "stdout",
     "output_type": "stream",
     "text": [
      "\n",
      "\n",
      "[%] Done. Downloaded 10 images.\n",
      "[%] Downloading Images to /home/sagemaker-user/Domain-Shift-Computer-Vision/imagenetA_generated/spider web/a photo of spider web\n",
      "[!] Issue getting: https://www.rd.com/wp-content/uploads/2018/05/shutterstock_64005883.jpg\n",
      "[!] Error:: HTTP Error 403: Forbidden\n",
      "[Error]Invalid image, not saving https://upload.wikimedia.org/wikipedia/commons/thumb/2/24/A_classic_circular_form_spider's_web.jpg/1200px-A_classic_circular_form_spider's_web.jpg\n",
      "\n",
      "[!] Issue getting: https://upload.wikimedia.org/wikipedia/commons/thumb/2/24/A_classic_circular_form_spider's_web.jpg/1200px-A_classic_circular_form_spider's_web.jpg\n",
      "[!] Error:: Invalid image, not saving https://upload.wikimedia.org/wikipedia/commons/thumb/2/24/A_classic_circular_form_spider's_web.jpg/1200px-A_classic_circular_form_spider's_web.jpg\n",
      "\n"
     ]
    },
    {
     "name": "stderr",
     "output_type": "stream",
     "text": [
      "Processing class: steam locomotive:  80%|███████▉  | 159/200 [17:14<03:26,  5.04s/it]"
     ]
    },
    {
     "name": "stdout",
     "output_type": "stream",
     "text": [
      "\n",
      "\n",
      "[%] Done. Downloaded 10 images.\n",
      "[%] Downloading Images to /home/sagemaker-user/Domain-Shift-Computer-Vision/imagenetA_generated/steam locomotive/a photo of steam locomotive\n",
      "[!] Issue getting: https://i1.wp.com/www.friscoheritage.org/wp-content/uploads/2010/09/Restored-Steam-Engine.jpg\n",
      "[!] Error:: HTTP Error 404: Not Found\n",
      "[!] Issue getting: https://i2.wp.com/www.railwayblogger.com/wp-content/uploads/2017/01/DSC01210.jpg?fit=1936%2C1296&amp;ssl=1\n",
      "[!] Error:: HTTP Error 404: Not Found\n",
      "[!] Issue getting: https://external-preview.redd.it/VD6lMywDISenMTLWXuFenfdSlJvJuc9wJg2DguHYTpM.jpg?auto=webp&amp;s=c824c30eab50e264e0ba6383ca3e4a9596f599cb\n",
      "[!] Error:: HTTP Error 403: Blocked\n",
      "[!] Issue getting: https://get.wallhere.com/photo/tvrm-ga-Georgia-train-railroad-railway-steam-engine-locomotive-smoke-fire-metal-steel-iron-historic-history-restored-coal-southern-Tennessee-valley-museum-753537.jpg\n",
      "[!] Error:: HTTP Error 403: Forbidden\n",
      "[!] Issue getting: https://www.ft.com/__origami/service/image/v2/images/raw/https://s3-eu-west-1.amazonaws.com/htsi-ez-prod/ez/images/3/7/3/6/1176373-1-eng-GB/main_25caae9c-746f-4ec2-b1b4-965ea0af622a.jpg?height=930&amp;format=jpg&amp;dpr=2&amp;source=htsi\n",
      "[!] Error:: HTTP Error 400: Bad Request\n",
      "[!] Issue getting: https://cdn.apollo.audio/one/media/6492/ada5/b7dd/8706/3fbd/ca6c/T3 No. 563 restoration progress June 2023 PHIL ANDERSON (1).jpg?quality=80&amp;format=jpg&amp;crop=121,456,3730,6878&amp;resize=crop\n",
      "[!] Error:: URL can't contain control characters. '/one/media/6492/ada5/b7dd/8706/3fbd/ca6c/T3 No. 563 restoration progress June 2023 PHIL ANDERSON (1).jpg?quality=80&amp;format=jpg&amp;crop=121,456,3730,6878&amp;resize=crop' (found at least ' ')\n"
     ]
    },
    {
     "name": "stderr",
     "output_type": "stream",
     "text": [
      "Processing class: tank:  80%|████████  | 160/200 [17:23<04:10,  6.25s/it]            "
     ]
    },
    {
     "name": "stdout",
     "output_type": "stream",
     "text": [
      "\n",
      "\n",
      "[%] Done. Downloaded 10 images.\n",
      "[%] Downloading Images to /home/sagemaker-user/Domain-Shift-Computer-Vision/imagenetA_generated/tank/a photo of tank\n",
      "[!] Issue getting: https://assets.wired.com/photos/w_1800/wp-content/uploads/2015/06/42-71085728.jpg\n",
      "[!] Error:: HTTP Error 404: Not Found\n"
     ]
    },
    {
     "name": "stderr",
     "output_type": "stream",
     "text": [
      "Processing class: stethoscope:  80%|████████  | 161/200 [17:27<03:46,  5.80s/it]"
     ]
    },
    {
     "name": "stdout",
     "output_type": "stream",
     "text": [
      "\n",
      "\n",
      "[%] Done. Downloaded 10 images.\n",
      "[%] Downloading Images to /home/sagemaker-user/Domain-Shift-Computer-Vision/imagenetA_generated/stethoscope/a photo of stethoscope\n",
      "[Error]Invalid image, not saving https://cdn.britannica.com/29/123229-050-4EE13335/stethoscopes-rubber-tubing-sounds-patient-ears-physician.jpg\n",
      "\n",
      "[!] Issue getting: https://cdn.britannica.com/29/123229-050-4EE13335/stethoscopes-rubber-tubing-sounds-patient-ears-physician.jpg\n",
      "[!] Error:: Invalid image, not saving https://cdn.britannica.com/29/123229-050-4EE13335/stethoscopes-rubber-tubing-sounds-patient-ears-physician.jpg\n",
      "\n"
     ]
    },
    {
     "name": "stderr",
     "output_type": "stream",
     "text": [
      "Processing class: couch:  81%|████████  | 162/200 [17:35<03:55,  6.21s/it]      "
     ]
    },
    {
     "name": "stdout",
     "output_type": "stream",
     "text": [
      "\n",
      "\n",
      "[%] Done. Downloaded 10 images.\n",
      "[%] Downloading Images to /home/sagemaker-user/Domain-Shift-Computer-Vision/imagenetA_generated/couch/a photo of couch\n"
     ]
    },
    {
     "name": "stderr",
     "output_type": "stream",
     "text": [
      "Processing class: submarine:  82%|████████▏ | 163/200 [17:39<03:31,  5.73s/it]"
     ]
    },
    {
     "name": "stdout",
     "output_type": "stream",
     "text": [
      "\n",
      "\n",
      "[%] Done. Downloaded 10 images.\n",
      "[%] Downloading Images to /home/sagemaker-user/Domain-Shift-Computer-Vision/imagenetA_generated/submarine/a photo of submarine\n"
     ]
    },
    {
     "name": "stderr",
     "output_type": "stream",
     "text": [
      "Processing class: sundial:  82%|████████▏ | 164/200 [17:48<03:59,  6.66s/it]  "
     ]
    },
    {
     "name": "stdout",
     "output_type": "stream",
     "text": [
      "\n",
      "\n",
      "[%] Done. Downloaded 10 images.\n",
      "[%] Downloading Images to /home/sagemaker-user/Domain-Shift-Computer-Vision/imagenetA_generated/sundial/a photo of sundial\n",
      "[!] Issue getting: https://www.farmersalmanac.com/wp-content/uploads/2020/11/sundial.jpg\n",
      "[!] Error:: HTTP Error 404: Not Found\n"
     ]
    },
    {
     "name": "stderr",
     "output_type": "stream",
     "text": [
      "Processing class: suspension bridge:  82%|████████▎ | 165/200 [17:53<03:30,  6.01s/it]"
     ]
    },
    {
     "name": "stdout",
     "output_type": "stream",
     "text": [
      "[Error]Invalid image, not saving https://cdn.britannica.com/03/92903-050-762B0836/sundial-gnomon-Islamic-shadow-north-sky-east.jpg\n",
      "\n",
      "[!] Issue getting: https://cdn.britannica.com/03/92903-050-762B0836/sundial-gnomon-Islamic-shadow-north-sky-east.jpg\n",
      "[!] Error:: Invalid image, not saving https://cdn.britannica.com/03/92903-050-762B0836/sundial-gnomon-Islamic-shadow-north-sky-east.jpg\n",
      "\n",
      "\n",
      "\n",
      "[%] Done. Downloaded 10 images.\n",
      "[%] Downloading Images to /home/sagemaker-user/Domain-Shift-Computer-Vision/imagenetA_generated/suspension bridge/a photo of suspension bridge\n",
      "[Error]Invalid image, not saving http://scihi.org/wp-content/uploads/2013/12/2560px-Clifton_Suspension_Bridge_Bristol_2016.jpg\n",
      "\n",
      "[!] Issue getting: http://scihi.org/wp-content/uploads/2013/12/2560px-Clifton_Suspension_Bridge_Bristol_2016.jpg\n",
      "[!] Error:: Invalid image, not saving http://scihi.org/wp-content/uploads/2013/12/2560px-Clifton_Suspension_Bridge_Bristol_2016.jpg\n",
      "\n",
      "[Error]Invalid image, not saving https://cdn.britannica.com/68/170868-050-8DDE8263/Golden-Gate-Bridge-San-Francisco.jpg\n",
      "\n",
      "[!] Issue getting: https://cdn.britannica.com/68/170868-050-8DDE8263/Golden-Gate-Bridge-San-Francisco.jpg\n",
      "[!] Error:: Invalid image, not saving https://cdn.britannica.com/68/170868-050-8DDE8263/Golden-Gate-Bridge-San-Francisco.jpg\n",
      "\n",
      "[!] Issue getting: https://i2.wp.com/thepointsguy.com/wp-content/uploads/2019/05/SkyBridge-04648.jpg?fit=4000%2C2667px&amp;ssl=1\n",
      "[!] Error:: HTTP Error 404: Not Found\n",
      "[!] Issue getting: https://preview.redd.it/nf190tvpw0az.jpg?auto=webp&amp;s=6d19b7a9f232e7add1b78ebf41abe4995e4ee3ba\n",
      "[!] Error:: HTTP Error 403: Blocked\n",
      "[Error]Invalid image, not saving https://cdn.britannica.com/87/887-050-04408E86/George-Washington-Bridge-New-Jersey-York-City.jpg\n",
      "\n",
      "[!] Issue getting: https://cdn.britannica.com/87/887-050-04408E86/George-Washington-Bridge-New-Jersey-York-City.jpg\n",
      "[!] Error:: Invalid image, not saving https://cdn.britannica.com/87/887-050-04408E86/George-Washington-Bridge-New-Jersey-York-City.jpg\n",
      "\n"
     ]
    },
    {
     "name": "stderr",
     "output_type": "stream",
     "text": [
      "Processing class: syringe:  83%|████████▎ | 166/200 [18:00<03:40,  6.50s/it]          "
     ]
    },
    {
     "name": "stdout",
     "output_type": "stream",
     "text": [
      "\n",
      "\n",
      "[%] Done. Downloaded 10 images.\n",
      "[%] Downloading Images to /home/sagemaker-user/Domain-Shift-Computer-Vision/imagenetA_generated/syringe/a photo of syringe\n",
      "[!] Issue getting: https://cdn.medisave.co.uk/media/catalog/product/cache/1/image/1500x/9df78eab33525d08d6e5fb8d27136e95/b/d/bd_emerald_syringe_307728_press.jpg\n",
      "[!] Error:: <urlopen error [Errno -2] Name or service not known>\n",
      "[!] Issue getting: https://www.saintyco.com/wp-content/uploads/2020/04/Figure-2-Disposable-syringes.jpg\n",
      "[!] Error:: Remote end closed connection without response\n"
     ]
    },
    {
     "name": "stderr",
     "output_type": "stream",
     "text": [
      "Processing class: teddy bear:  84%|████████▎ | 167/200 [18:08<03:51,  7.01s/it]"
     ]
    },
    {
     "name": "stdout",
     "output_type": "stream",
     "text": [
      "\n",
      "\n",
      "[%] Done. Downloaded 10 images.\n",
      "[%] Downloading Images to /home/sagemaker-user/Domain-Shift-Computer-Vision/imagenetA_generated/teddy bear/a photo of teddy bear\n",
      "[!] Issue getting: https://cdn.sayitwithbears.co.uk/wp-content/uploads/2017/02/giant-teddy-bear-harry-honey.jpg\n",
      "[!] Error:: <urlopen error [Errno -3] Temporary failure in name resolution>\n",
      "[!] Issue getting: https://e7.pngegg.com/pngimages/191/471/png-clipart-teddy-bear-teddy-bear-kind-toy-bear-teddy-bear.png\n",
      "[!] Error:: HTTP Error 403: Forbidden\n",
      "[Error]Invalid image, not saving http://festivityhub.com/wp-content/uploads/2015/12/Images-of-Teddy-Bears-9.jpg\n",
      "\n",
      "[!] Issue getting: http://festivityhub.com/wp-content/uploads/2015/12/Images-of-Teddy-Bears-9.jpg\n",
      "[!] Error:: Invalid image, not saving http://festivityhub.com/wp-content/uploads/2015/12/Images-of-Teddy-Bears-9.jpg\n",
      "\n"
     ]
    },
    {
     "name": "stderr",
     "output_type": "stream",
     "text": [
      "Processing class: toaster:  84%|████████▍ | 168/200 [18:25<05:13,  9.78s/it]   "
     ]
    },
    {
     "name": "stdout",
     "output_type": "stream",
     "text": [
      "\n",
      "\n",
      "[%] Done. Downloaded 10 images.\n",
      "[%] Downloading Images to /home/sagemaker-user/Domain-Shift-Computer-Vision/imagenetA_generated/toaster/a photo of toaster\n",
      "[!] Issue getting: http://demandware.edgesuite.net/aamb_prd/on/demandware.static/-/Sites-master-catalog/default/dw5a5535e5/images/highres/TSSTTRWF2S-001-1.jpg\n",
      "[!] Error:: HTTP Error 504: Gateway Time-out\n"
     ]
    },
    {
     "name": "stderr",
     "output_type": "stream",
     "text": [
      "Processing class: torch:  84%|████████▍ | 169/200 [19:04<09:36, 18.58s/it]  "
     ]
    },
    {
     "name": "stdout",
     "output_type": "stream",
     "text": [
      "\n",
      "\n",
      "[%] Done. Downloaded 10 images.\n",
      "[%] Downloading Images to /home/sagemaker-user/Domain-Shift-Computer-Vision/imagenetA_generated/torch/a photo of torch\n",
      "[!] Issue getting: https://media.istockphoto.com/photos/torch-picture-id480218332?k=6&amp;m=480218332&amp;s=612x612&amp;w=0&amp;h=iUDVg_lAANM-vXCpCKtCmZwQv9dv61NzTFgyVvZWCbQ=\n",
      "[!] Error:: HTTP Error 400: Bad Request\n",
      "[Error]Invalid image, not saving https://static.vecteezy.com/system/resources/previews/000/427/233/original/torch-illustration-icon-poster-vector.jpg\n",
      "\n",
      "[!] Issue getting: https://static.vecteezy.com/system/resources/previews/000/427/233/original/torch-illustration-icon-poster-vector.jpg\n",
      "[!] Error:: Invalid image, not saving https://static.vecteezy.com/system/resources/previews/000/427/233/original/torch-illustration-icon-poster-vector.jpg\n",
      "\n",
      "[Error]Invalid image, not saving https://www.shutterstock.com/image-photo/ancient-wooden-torch-isolated-on-600w-2196884883.jpg\n",
      "\n",
      "[!] Issue getting: https://www.shutterstock.com/image-photo/ancient-wooden-torch-isolated-on-600w-2196884883.jpg\n",
      "[!] Error:: Invalid image, not saving https://www.shutterstock.com/image-photo/ancient-wooden-torch-isolated-on-600w-2196884883.jpg\n",
      "\n",
      "[!] Issue getting: https://images.creativemarket.com/0.1.0/ps/12504160/3640/2410/m1/fpnw/wm1/medieval_torch-03-.jpg?1654358500&amp;s=d9b50457ef1eefec92985dd1fec0b36c\n",
      "[!] Error:: HTTP Error 403: Forbidden\n"
     ]
    },
    {
     "name": "stderr",
     "output_type": "stream",
     "text": [
      "Processing class: tricycle:  85%|████████▌ | 170/200 [19:07<07:02, 14.09s/it]"
     ]
    },
    {
     "name": "stdout",
     "output_type": "stream",
     "text": [
      "\n",
      "\n",
      "[%] Done. Downloaded 10 images.\n",
      "[%] Downloading Images to /home/sagemaker-user/Domain-Shift-Computer-Vision/imagenetA_generated/tricycle/a photo of tricycle\n",
      "[!] Issue getting: https://images.ctfassets.net/ogr4ifihl2yh/1eKACXgB4IHCC4OtCRjFFv/2a96f7270dc8c69ccfe42d14f7f824a8/Folding_Electric_Tricycle_Profile_630616.jpg?w=2000&amp;h=1394&amp;q=85\n",
      "[!] Error:: HTTP Error 400: Bad Request\n"
     ]
    },
    {
     "name": "stderr",
     "output_type": "stream",
     "text": [
      "Processing class: umbrella:  86%|████████▌ | 171/200 [19:13<05:34, 11.54s/it]"
     ]
    },
    {
     "name": "stdout",
     "output_type": "stream",
     "text": [
      "\n",
      "\n",
      "[%] Done. Downloaded 10 images.\n",
      "[%] Downloading Images to /home/sagemaker-user/Domain-Shift-Computer-Vision/imagenetA_generated/umbrella/a photo of umbrella\n"
     ]
    },
    {
     "name": "stderr",
     "output_type": "stream",
     "text": [
      "Processing class: unicycle:  86%|████████▌ | 172/200 [19:17<04:20,  9.30s/it]"
     ]
    },
    {
     "name": "stdout",
     "output_type": "stream",
     "text": [
      "\n",
      "\n",
      "[%] Done. Downloaded 10 images.\n",
      "[%] Downloading Images to /home/sagemaker-user/Domain-Shift-Computer-Vision/imagenetA_generated/unicycle/a photo of unicycle\n",
      "[!] Issue getting: https://wheelryder.com/wp-content/uploads/2021/01/girl-riding-unicycle-980x653.jpg\n",
      "[!] Error:: Remote end closed connection without response\n",
      "[!] Issue getting: https://wheelryder.com/wp-content/uploads/2021/02/types-of-unicycles-980x653.jpg\n",
      "[!] Error:: Remote end closed connection without response\n"
     ]
    },
    {
     "name": "stderr",
     "output_type": "stream",
     "text": [
      "Processing class: viaduct:  86%|████████▋ | 173/200 [19:23<03:44,  8.32s/it] "
     ]
    },
    {
     "name": "stdout",
     "output_type": "stream",
     "text": [
      "\n",
      "\n",
      "[%] Done. Downloaded 10 images.\n",
      "[%] Downloading Images to /home/sagemaker-user/Domain-Shift-Computer-Vision/imagenetA_generated/viaduct/a photo of viaduct\n",
      "[Error]Invalid image, not saving https://dynamic-media-cdn.tripadvisor.com/media/photo-o/16/c2/fe/65/ribblehead-viaduct-on.jpg?w=1200&amp;h=1200&amp;s=1\n",
      "\n",
      "[!] Issue getting: https://dynamic-media-cdn.tripadvisor.com/media/photo-o/16/c2/fe/65/ribblehead-viaduct-on.jpg?w=1200&amp;h=1200&amp;s=1\n",
      "[!] Error:: Invalid image, not saving https://dynamic-media-cdn.tripadvisor.com/media/photo-o/16/c2/fe/65/ribblehead-viaduct-on.jpg?w=1200&amp;h=1200&amp;s=1\n",
      "\n",
      "[!] Issue getting: https://i.redd.it/h78hccy1ba951.jpg\n",
      "[!] Error:: HTTP Error 403: Blocked\n",
      "[Error]Invalid image, not saving https://www.mortgage-medics.com/wp-content/uploads/Balcombe-Viaduct-1.jpg\n",
      "\n",
      "[!] Issue getting: https://www.mortgage-medics.com/wp-content/uploads/Balcombe-Viaduct-1.jpg\n",
      "[!] Error:: Invalid image, not saving https://www.mortgage-medics.com/wp-content/uploads/Balcombe-Viaduct-1.jpg\n",
      "\n",
      "[Error]Invalid image, not saving https://cdn.britannica.com/33/103233-050-109A82AB/Tassagh-railway-viaduct-Keady-Armagh.jpg\n",
      "\n",
      "[!] Issue getting: https://cdn.britannica.com/33/103233-050-109A82AB/Tassagh-railway-viaduct-Keady-Armagh.jpg\n",
      "[!] Error:: Invalid image, not saving https://cdn.britannica.com/33/103233-050-109A82AB/Tassagh-railway-viaduct-Keady-Armagh.jpg\n",
      "\n",
      "[!] Issue getting: https://www.hawthornscaravanpark.co.uk/wp-content/uploads/2018/10/ribblehead-viaduct.jpg\n",
      "[!] Error:: Remote end closed connection without response\n",
      "[!] Issue getting: https://preview.redd.it/zz4yaehsbk591.jpg?auto=webp&amp;s=313365a49fc950fc7f742531283512741f5314c3\n",
      "[!] Error:: HTTP Error 403: Blocked\n",
      "[!] Issue getting: https://preview.redd.it/qmhscefsqb151.jpg?width=1080&amp;crop=smart&amp;auto=webp&amp;s=ae580127db9c8894da8ce59a89ca6deab22e7e25\n",
      "[!] Error:: HTTP Error 403: Blocked\n",
      "[Error]Invalid image, not saving https://www.shutterstock.com/shutterstock/photos/2212329281/display_1500/stock-photo-aerial-view-of-garabit-viaduct-railway-arch-bridge-spanning-truyere-river-in-summer-cantal-france-2212329281.jpg\n",
      "\n",
      "[!] Issue getting: https://www.shutterstock.com/shutterstock/photos/2212329281/display_1500/stock-photo-aerial-view-of-garabit-viaduct-railway-arch-bridge-spanning-truyere-river-in-summer-cantal-france-2212329281.jpg\n",
      "[!] Error:: Invalid image, not saving https://www.shutterstock.com/shutterstock/photos/2212329281/display_1500/stock-photo-aerial-view-of-garabit-viaduct-railway-arch-bridge-spanning-truyere-river-in-summer-cantal-france-2212329281.jpg\n",
      "\n",
      "[Error]Invalid image, not saving https://windows10spotlight.com/wp-content/uploads/2023/02/b444a5c3d23280553bb549c727a5c7ff.jpg\n",
      "\n",
      "[!] Issue getting: https://windows10spotlight.com/wp-content/uploads/2023/02/b444a5c3d23280553bb549c727a5c7ff.jpg\n",
      "[!] Error:: Invalid image, not saving https://windows10spotlight.com/wp-content/uploads/2023/02/b444a5c3d23280553bb549c727a5c7ff.jpg\n",
      "\n"
     ]
    },
    {
     "name": "stderr",
     "output_type": "stream",
     "text": [
      "Processing class: volleyball:  87%|████████▋ | 174/200 [19:29<03:19,  7.67s/it]"
     ]
    },
    {
     "name": "stdout",
     "output_type": "stream",
     "text": [
      "[!] Issue getting: http://www.droneadventure.co.uk/wp-content/uploads/2023/04/ben4.jpg\n",
      "[!] Error:: HTTP Error 308: Permanent Redirect\n",
      "\n",
      "\n",
      "[%] Done. Downloaded 10 images.\n",
      "[%] Downloading Images to /home/sagemaker-user/Domain-Shift-Computer-Vision/imagenetA_generated/volleyball/a photo of volleyball\n",
      "[Error]Invalid image, not saving https://cdn.britannica.com/81/198481-050-10CED2D9/Gilberto-Godoy-Filho-ball-Brazil-Argentina-volleyball-2007.jpg\n",
      "\n",
      "[!] Issue getting: https://cdn.britannica.com/81/198481-050-10CED2D9/Gilberto-Godoy-Filho-ball-Brazil-Argentina-volleyball-2007.jpg\n",
      "[!] Error:: Invalid image, not saving https://cdn.britannica.com/81/198481-050-10CED2D9/Gilberto-Godoy-Filho-ball-Brazil-Argentina-volleyball-2007.jpg\n",
      "\n",
      "[!] Issue getting: http://teamfenom.com/wp-content/uploads/2012/10/USA-Volleyball.jpg\n",
      "[!] Error:: HTTP Error 503: Service Unavailable\n"
     ]
    },
    {
     "name": "stderr",
     "output_type": "stream",
     "text": [
      "Processing class: washing machine:  88%|████████▊ | 175/200 [19:37<03:12,  7.69s/it]"
     ]
    },
    {
     "name": "stdout",
     "output_type": "stream",
     "text": [
      "\n",
      "\n",
      "[%] Done. Downloaded 10 images.\n",
      "[%] Downloading Images to /home/sagemaker-user/Domain-Shift-Computer-Vision/imagenetA_generated/washing machine/a photo of washing machine\n"
     ]
    },
    {
     "name": "stderr",
     "output_type": "stream",
     "text": [
      "Processing class: water tower:  88%|████████▊ | 176/200 [19:41<02:37,  6.56s/it]    "
     ]
    },
    {
     "name": "stdout",
     "output_type": "stream",
     "text": [
      "\n",
      "\n",
      "[%] Done. Downloaded 10 images.\n",
      "[%] Downloading Images to /home/sagemaker-user/Domain-Shift-Computer-Vision/imagenetA_generated/water tower/a photo of water tower\n",
      "[!] Issue getting: https://www.gilbertaz.gov/home/showpublishedimage/20525/637619318462030000\n",
      "[!] Error:: HTTP Error 403: Forbidden\n",
      "[Error]Invalid image, not saving https://www.ocala-news.com/wp-content/uploads/2021/06/Ocala-Water-Tower-circa-1965.jpeg\n",
      "\n",
      "[!] Issue getting: https://www.ocala-news.com/wp-content/uploads/2021/06/Ocala-Water-Tower-circa-1965.jpeg\n",
      "[!] Error:: Invalid image, not saving https://www.ocala-news.com/wp-content/uploads/2021/06/Ocala-Water-Tower-circa-1965.jpeg\n",
      "\n"
     ]
    },
    {
     "name": "stderr",
     "output_type": "stream",
     "text": [
      "Processing class: wine bottle:  88%|████████▊ | 177/200 [19:48<02:32,  6.64s/it]"
     ]
    },
    {
     "name": "stdout",
     "output_type": "stream",
     "text": [
      "\n",
      "\n",
      "[%] Done. Downloaded 10 images.\n",
      "[%] Downloading Images to /home/sagemaker-user/Domain-Shift-Computer-Vision/imagenetA_generated/wine bottle/a photo of wine bottle\n",
      "[Error]Invalid image, not saving http://www.ves-pta.org/wp-content/uploads/2015/03/red-wine-bottles-wallpaper.jpg\n",
      "\n",
      "[!] Issue getting: http://www.ves-pta.org/wp-content/uploads/2015/03/red-wine-bottles-wallpaper.jpg\n",
      "[!] Error:: Invalid image, not saving http://www.ves-pta.org/wp-content/uploads/2015/03/red-wine-bottles-wallpaper.jpg\n",
      "\n",
      "[Error]Invalid image, not saving https://www.publicdomainpictures.net/pictures/20000/velka/bottles-of-wine.jpg\n",
      "\n",
      "[!] Issue getting: https://www.publicdomainpictures.net/pictures/20000/velka/bottles-of-wine.jpg\n",
      "[!] Error:: Invalid image, not saving https://www.publicdomainpictures.net/pictures/20000/velka/bottles-of-wine.jpg\n",
      "\n"
     ]
    },
    {
     "name": "stderr",
     "output_type": "stream",
     "text": [
      "Processing class: shipwreck:  89%|████████▉ | 178/200 [19:55<02:28,  6.73s/it]  "
     ]
    },
    {
     "name": "stdout",
     "output_type": "stream",
     "text": [
      "\n",
      "\n",
      "[%] Done. Downloaded 10 images.\n",
      "[%] Downloading Images to /home/sagemaker-user/Domain-Shift-Computer-Vision/imagenetA_generated/shipwreck/a photo of shipwreck\n",
      "[!] Issue getting: https://www.gannett-cdn.com/presto/2019/05/31/USAT/31a3b1ef-f8a7-4b1b-99f6-ce0100a15b3a-hull-hires.jpg?crop=1919,1079,x0,y0&amp;width=1919&amp;height=1079&amp;format=pjpg&amp;auto=webp\n",
      "[!] Error:: HTTP Error 406: Not Acceptable\n"
     ]
    },
    {
     "name": "stderr",
     "output_type": "stream",
     "text": [
      "Processing class: guacamole:  90%|████████▉ | 179/200 [20:00<02:11,  6.28s/it]"
     ]
    },
    {
     "name": "stdout",
     "output_type": "stream",
     "text": [
      "[Error]Invalid image, not saving https://e3.365dm.com/16/07/2048x1152/5-shipwreck-1_3647256.jpg?20160706055259\n",
      "\n",
      "[!] Issue getting: https://e3.365dm.com/16/07/2048x1152/5-shipwreck-1_3647256.jpg?20160706055259\n",
      "[!] Error:: Invalid image, not saving https://e3.365dm.com/16/07/2048x1152/5-shipwreck-1_3647256.jpg?20160706055259\n",
      "\n",
      "\n",
      "\n",
      "[%] Done. Downloaded 10 images.\n",
      "[%] Downloading Images to /home/sagemaker-user/Domain-Shift-Computer-Vision/imagenetA_generated/guacamole/a photo of guacamole\n"
     ]
    },
    {
     "name": "stderr",
     "output_type": "stream",
     "text": [
      "Processing class: pretzel:  90%|█████████ | 180/200 [20:03<01:44,  5.24s/it]  "
     ]
    },
    {
     "name": "stdout",
     "output_type": "stream",
     "text": [
      "\n",
      "\n",
      "[%] Done. Downloaded 10 images.\n",
      "[%] Downloading Images to /home/sagemaker-user/Domain-Shift-Computer-Vision/imagenetA_generated/pretzel/a photo of pretzel\n"
     ]
    },
    {
     "name": "stderr",
     "output_type": "stream",
     "text": [
      "Processing class: cheeseburger:  90%|█████████ | 181/200 [20:12<02:01,  6.39s/it]"
     ]
    },
    {
     "name": "stdout",
     "output_type": "stream",
     "text": [
      "\n",
      "\n",
      "[%] Done. Downloaded 10 images.\n",
      "[%] Downloading Images to /home/sagemaker-user/Domain-Shift-Computer-Vision/imagenetA_generated/cheeseburger/a photo of cheeseburger\n",
      "[!] Issue getting: https://preview.redd.it/5nqcsrbcrh011.jpg?auto=webp&amp;s=0fdaff6bffe06957cb9477555df6a19f3f09956b\n",
      "[!] Error:: HTTP Error 403: Blocked\n"
     ]
    },
    {
     "name": "stderr",
     "output_type": "stream",
     "text": [
      "Processing class: hot dog:  91%|█████████ | 182/200 [20:16<01:41,  5.66s/it]     "
     ]
    },
    {
     "name": "stdout",
     "output_type": "stream",
     "text": [
      "\n",
      "\n",
      "[%] Done. Downloaded 10 images.\n",
      "[%] Downloading Images to /home/sagemaker-user/Domain-Shift-Computer-Vision/imagenetA_generated/hot dog/a photo of hot dog\n",
      "[!] Issue getting: http://mojosavings.com/wp-content/uploads/2013/07/hot-dog.jpg\n",
      "[!] Error:: HTTP Error 404: Not Found\n"
     ]
    },
    {
     "name": "stderr",
     "output_type": "stream",
     "text": [
      "Processing class: broccoli:  92%|█████████▏| 183/200 [20:30<02:19,  8.20s/it]"
     ]
    },
    {
     "name": "stdout",
     "output_type": "stream",
     "text": [
      "\n",
      "\n",
      "[%] Done. Downloaded 10 images.\n",
      "[%] Downloading Images to /home/sagemaker-user/Domain-Shift-Computer-Vision/imagenetA_generated/broccoli/a photo of broccoli\n",
      "[Error]Invalid image, not saving https://cdn.britannica.com/25/78225-050-1781F6B7/broccoli-florets.jpg\n",
      "\n",
      "[!] Issue getting: https://cdn.britannica.com/25/78225-050-1781F6B7/broccoli-florets.jpg\n",
      "[!] Error:: Invalid image, not saving https://cdn.britannica.com/25/78225-050-1781F6B7/broccoli-florets.jpg\n",
      "\n",
      "[!] Issue getting: http://www.rivieraproduce.eu/wp-content/uploads/2011/08/image_riviera_broccoli.jpg\n",
      "[!] Error:: HTTP Error 403: Forbidden\n",
      "[!] Issue getting: http://agrifarming.in/wp-content/uploads/2015/03/Harvested-Broccoli.jpg?x73645\n",
      "[!] Error:: HTTP Error 404: Not Found\n"
     ]
    },
    {
     "name": "stderr",
     "output_type": "stream",
     "text": [
      "Processing class: cucumber:  92%|█████████▏| 184/200 [20:38<02:11,  8.23s/it]"
     ]
    },
    {
     "name": "stdout",
     "output_type": "stream",
     "text": [
      "\n",
      "\n",
      "[%] Done. Downloaded 10 images.\n",
      "[%] Downloading Images to /home/sagemaker-user/Domain-Shift-Computer-Vision/imagenetA_generated/cucumber/a photo of cucumber\n",
      "[!] Issue getting: https://i1.wp.com/www.naturalfoodseries.com/wp-content/uploads/2017/12/Cucumber.jpg?fit=1000%2C667&amp;ssl=1\n",
      "[!] Error:: HTTP Error 404: Not Found\n"
     ]
    },
    {
     "name": "stderr",
     "output_type": "stream",
     "text": [
      "Processing class: bell pepper:  92%|█████████▎| 185/200 [20:42<01:42,  6.82s/it]"
     ]
    },
    {
     "name": "stdout",
     "output_type": "stream",
     "text": [
      "\n",
      "\n",
      "[%] Done. Downloaded 10 images.\n",
      "[%] Downloading Images to /home/sagemaker-user/Domain-Shift-Computer-Vision/imagenetA_generated/bell pepper/a photo of bell pepper\n",
      "[!] Issue getting: https://ethnicfoodsrus.com/wp-content/uploads/2015/03/Bell-Peppers.jpg\n",
      "[!] Error:: HTTP Error 404: Not Found\n"
     ]
    },
    {
     "name": "stderr",
     "output_type": "stream",
     "text": [
      "Processing class: mushroom:  93%|█████████▎| 186/200 [20:48<01:35,  6.80s/it]   "
     ]
    },
    {
     "name": "stdout",
     "output_type": "stream",
     "text": [
      "\n",
      "\n",
      "[%] Done. Downloaded 10 images.\n",
      "[%] Downloading Images to /home/sagemaker-user/Domain-Shift-Computer-Vision/imagenetA_generated/mushroom/a photo of mushroom\n",
      "[!] Issue getting: https://i2.wp.com/www.healthfitnessrevolution.com/wp-content/uploads/2016/09/set-of-twenty-six-edible-mushrooms-isolated-on-white-000051671308_Medium.jpg?fit=1675%2C1146\n",
      "[!] Error:: HTTP Error 404: Not Found\n",
      "[Error]Invalid image, not saving https://www.sidechef.com/article/f0d135ed-912e-4a2b-85f2-7860035ee311.jpg?d=1408x1120\n",
      "\n",
      "[!] Issue getting: https://www.sidechef.com/article/f0d135ed-912e-4a2b-85f2-7860035ee311.jpg?d=1408x1120\n",
      "[!] Error:: Invalid image, not saving https://www.sidechef.com/article/f0d135ed-912e-4a2b-85f2-7860035ee311.jpg?d=1408x1120\n",
      "\n",
      "[Error]Invalid image, not saving https://cdn.britannica.com/66/180666-050-FED69BBD/webcaps-Europe-Ingestion-mushrooms-symptoms.jpg\n",
      "\n",
      "[!] Issue getting: https://cdn.britannica.com/66/180666-050-FED69BBD/webcaps-Europe-Ingestion-mushrooms-symptoms.jpg\n",
      "[!] Error:: Invalid image, not saving https://cdn.britannica.com/66/180666-050-FED69BBD/webcaps-Europe-Ingestion-mushrooms-symptoms.jpg\n",
      "\n",
      "[Error]Invalid image, not saving https://cdn.britannica.com/90/236590-050-27422B8D/Close-up-of-mushroom-growing-on-field.jpg\n",
      "\n",
      "[!] Issue getting: https://cdn.britannica.com/90/236590-050-27422B8D/Close-up-of-mushroom-growing-on-field.jpg\n",
      "[!] Error:: Invalid image, not saving https://cdn.britannica.com/90/236590-050-27422B8D/Close-up-of-mushroom-growing-on-field.jpg\n",
      "\n",
      "[!] Issue getting: https://mushroomheadquarters.com/wp-content/uploads/2023/02/death-cap-mushroom-scaled.jpeg\n",
      "[!] Error:: Remote end closed connection without response\n"
     ]
    },
    {
     "name": "stderr",
     "output_type": "stream",
     "text": [
      "Processing class: lemon:  94%|█████████▎| 187/200 [20:54<01:25,  6.54s/it]   "
     ]
    },
    {
     "name": "stdout",
     "output_type": "stream",
     "text": [
      "\n",
      "\n",
      "[%] Done. Downloaded 10 images.\n",
      "[%] Downloading Images to /home/sagemaker-user/Domain-Shift-Computer-Vision/imagenetA_generated/lemon/a photo of lemon\n",
      "[!] Issue getting: http://www.pam-exotic.com/wp-content/uploads/2015/10/24822300_xl.jpg\n",
      "[!] Error:: <urlopen error [Errno -2] Name or service not known>\n",
      "[Error]Invalid image, not saving https://cdn.britannica.com/84/188484-050-F27B0049/lemons-tree.jpg\n",
      "\n",
      "[!] Issue getting: https://cdn.britannica.com/84/188484-050-F27B0049/lemons-tree.jpg\n",
      "[!] Error:: Invalid image, not saving https://cdn.britannica.com/84/188484-050-F27B0049/lemons-tree.jpg\n",
      "\n"
     ]
    },
    {
     "name": "stderr",
     "output_type": "stream",
     "text": [
      "Processing class: banana:  94%|█████████▍| 188/200 [21:00<01:16,  6.33s/it]"
     ]
    },
    {
     "name": "stdout",
     "output_type": "stream",
     "text": [
      "\n",
      "\n",
      "[%] Done. Downloaded 10 images.\n",
      "[%] Downloading Images to /home/sagemaker-user/Domain-Shift-Computer-Vision/imagenetA_generated/banana/a photo of banana\n",
      "[!] Issue getting: https://groomsfarm.co.uk/wp-content/uploads/2020/04/bunch-of-bananas-on-wooden-background-GN6YMF7-2048x1367.jpg\n",
      "[!] Error:: Remote end closed connection without response\n"
     ]
    },
    {
     "name": "stderr",
     "output_type": "stream",
     "text": [
      "Processing class: custard apple:  94%|█████████▍| 189/200 [21:03<00:57,  5.25s/it]"
     ]
    },
    {
     "name": "stdout",
     "output_type": "stream",
     "text": [
      "\n",
      "\n",
      "[%] Done. Downloaded 10 images.\n",
      "[%] Downloading Images to /home/sagemaker-user/Domain-Shift-Computer-Vision/imagenetA_generated/custard apple/a photo of custard apple\n",
      "[Error]Invalid image, not saving https://swikblog.com/wp-content/uploads/2017/10/custard-apple-2.jpg\n",
      "\n",
      "[!] Issue getting: https://swikblog.com/wp-content/uploads/2017/10/custard-apple-2.jpg\n",
      "[!] Error:: Invalid image, not saving https://swikblog.com/wp-content/uploads/2017/10/custard-apple-2.jpg\n",
      "\n"
     ]
    },
    {
     "name": "stderr",
     "output_type": "stream",
     "text": [
      "Processing class: pomegranate:  95%|█████████▌| 190/200 [21:11<01:01,  6.10s/it]  "
     ]
    },
    {
     "name": "stdout",
     "output_type": "stream",
     "text": [
      "\n",
      "\n",
      "[%] Done. Downloaded 10 images.\n",
      "[%] Downloading Images to /home/sagemaker-user/Domain-Shift-Computer-Vision/imagenetA_generated/pomegranate/a photo of pomegranate\n",
      "[!] Issue getting: http://www.gorasiyafarm.com/wp-content/uploads/2013/12/318629-blackangel.jpg\n",
      "[!] Error:: HTTP Error 404: Not Found\n",
      "[Error]Invalid image, not saving https://upload.wikimedia.org/wikipedia/commons/7/72/Pomegranate_DSW.JPG\n",
      "\n",
      "[!] Issue getting: https://upload.wikimedia.org/wikipedia/commons/7/72/Pomegranate_DSW.JPG\n",
      "[!] Error:: Invalid image, not saving https://upload.wikimedia.org/wikipedia/commons/7/72/Pomegranate_DSW.JPG\n",
      "\n",
      "[!] Issue getting: https://www.farmersalmanac.com/wp-content/uploads/2020/11/pomegranate-as_239075380.jpeg\n",
      "[!] Error:: HTTP Error 404: Not Found\n",
      "[!] Issue getting: https://www.washingtonpost.com/rf/image_1484w/2010-2019/WashingtonPost/2014/01/10/Production/Health/Images/bigstock-Half-of-pomegranate-on-a-white-12359999.jpg?t=20170517\n",
      "[!] Error:: The read operation timed out\n",
      "[Error]Invalid image, not saving https://cdn.britannica.com/96/201196-050-C0441508/Batch-pomegranate-fruits.jpg\n",
      "\n",
      "[!] Issue getting: https://cdn.britannica.com/96/201196-050-C0441508/Batch-pomegranate-fruits.jpg\n",
      "[!] Error:: Invalid image, not saving https://cdn.britannica.com/96/201196-050-C0441508/Batch-pomegranate-fruits.jpg\n",
      "\n",
      "[Error]Invalid image, not saving https://cdn.britannica.com/56/118656-050-D9C68EDE/Pomegranate.jpg\n",
      "\n",
      "[!] Issue getting: https://cdn.britannica.com/56/118656-050-D9C68EDE/Pomegranate.jpg\n",
      "[!] Error:: Invalid image, not saving https://cdn.britannica.com/56/118656-050-D9C68EDE/Pomegranate.jpg\n",
      "\n",
      "[!] Issue getting: https://www.kew.org/sites/default/files/2019-12/Pomegranate fruit (1).jpg\n",
      "[!] Error:: URL can't contain control characters. '/sites/default/files/2019-12/Pomegranate fruit (1).jpg' (found at least ' ')\n"
     ]
    },
    {
     "name": "stderr",
     "output_type": "stream",
     "text": [
      "Processing class: carbonara:  96%|█████████▌| 191/200 [22:19<03:41, 24.60s/it]  "
     ]
    },
    {
     "name": "stdout",
     "output_type": "stream",
     "text": [
      "\n",
      "\n",
      "[%] Done. Downloaded 10 images.\n",
      "[%] Downloading Images to /home/sagemaker-user/Domain-Shift-Computer-Vision/imagenetA_generated/carbonara/a photo of carbonara\n",
      "[Error]Invalid image, not saving https://platedcravings.com/wp-content/uploads/2018/11/Pasta-Carbonara-Plated-Cravings-5.jpg\n",
      "\n",
      "[!] Issue getting: https://platedcravings.com/wp-content/uploads/2018/11/Pasta-Carbonara-Plated-Cravings-5.jpg\n",
      "[!] Error:: Invalid image, not saving https://platedcravings.com/wp-content/uploads/2018/11/Pasta-Carbonara-Plated-Cravings-5.jpg\n",
      "\n",
      "[Error]Invalid image, not saving https://img.taste.com.au/-m9mNTLu/taste/2016/11/creamy-bacon-carbonara-98843-1.jpeg\n",
      "\n",
      "[!] Issue getting: https://img.taste.com.au/-m9mNTLu/taste/2016/11/creamy-bacon-carbonara-98843-1.jpeg\n",
      "[!] Error:: Invalid image, not saving https://img.taste.com.au/-m9mNTLu/taste/2016/11/creamy-bacon-carbonara-98843-1.jpeg\n",
      "\n",
      "[!] Issue getting: https://i.redd.it/3ig62pl2zp131.jpg\n",
      "[!] Error:: HTTP Error 403: Blocked\n"
     ]
    },
    {
     "name": "stderr",
     "output_type": "stream",
     "text": [
      "Processing class: bubble:  96%|█████████▌| 192/200 [22:22<02:25, 18.16s/it]   "
     ]
    },
    {
     "name": "stdout",
     "output_type": "stream",
     "text": [
      "\n",
      "\n",
      "[%] Done. Downloaded 10 images.\n",
      "[%] Downloading Images to /home/sagemaker-user/Domain-Shift-Computer-Vision/imagenetA_generated/bubble/a photo of bubble\n",
      "[Error]Invalid image, not saving http://ahfdchief.files.wordpress.com/2011/09/bubbles.jpg\n",
      "\n",
      "[!] Issue getting: http://ahfdchief.files.wordpress.com/2011/09/bubbles.jpg\n",
      "[!] Error:: Invalid image, not saving http://ahfdchief.files.wordpress.com/2011/09/bubbles.jpg\n",
      "\n",
      "[Error]Invalid image, not saving https://wallpapers.com/images/file/bubble-pictures-1500-x-1000-nqycibodye1r5mgc.jpg\n",
      "\n",
      "[!] Issue getting: https://wallpapers.com/images/file/bubble-pictures-1500-x-1000-nqycibodye1r5mgc.jpg\n",
      "[!] Error:: Invalid image, not saving https://wallpapers.com/images/file/bubble-pictures-1500-x-1000-nqycibodye1r5mgc.jpg\n",
      "\n",
      "[!] Issue getting: https://artful-kids.com/wp-content/uploads/2012/02/BubblesS.jpg\n",
      "[!] Error:: Remote end closed connection without response\n",
      "[Error]Invalid image, not saving https://cdn-7.nikon-cdn.com/Images/Learn-Explore/Photography-Techniques/2022/Tom-Bol-bubbles-macro/Media/Tom-Bol-bubbles-macro-colorful.jpg\n",
      "\n",
      "[!] Issue getting: https://cdn-7.nikon-cdn.com/Images/Learn-Explore/Photography-Techniques/2022/Tom-Bol-bubbles-macro/Media/Tom-Bol-bubbles-macro-colorful.jpg\n",
      "[!] Error:: Invalid image, not saving https://cdn-7.nikon-cdn.com/Images/Learn-Explore/Photography-Techniques/2022/Tom-Bol-bubbles-macro/Media/Tom-Bol-bubbles-macro-colorful.jpg\n",
      "\n"
     ]
    },
    {
     "name": "stderr",
     "output_type": "stream",
     "text": [
      "Processing class: cliff:  96%|█████████▋| 193/200 [22:26<01:37, 13.93s/it] "
     ]
    },
    {
     "name": "stdout",
     "output_type": "stream",
     "text": [
      "[Error]Invalid image, not saving http://7-themes.com/data_images/out/59/6972422-bubbles-photography.jpg\n",
      "\n",
      "[!] Issue getting: http://7-themes.com/data_images/out/59/6972422-bubbles-photography.jpg\n",
      "[!] Error:: Invalid image, not saving http://7-themes.com/data_images/out/59/6972422-bubbles-photography.jpg\n",
      "\n",
      "\n",
      "\n",
      "[%] Done. Downloaded 10 images.\n",
      "[%] Downloading Images to /home/sagemaker-user/Domain-Shift-Computer-Vision/imagenetA_generated/cliff/a photo of cliff\n",
      "[Error]Invalid image, not saving https://www.beaches.com/blog/content/images/2022/06/Ricks-Restaurant-Cliff.jpg\n",
      "\n",
      "[!] Issue getting: https://www.beaches.com/blog/content/images/2022/06/Ricks-Restaurant-Cliff.jpg\n",
      "[!] Error:: Invalid image, not saving https://www.beaches.com/blog/content/images/2022/06/Ricks-Restaurant-Cliff.jpg\n",
      "\n"
     ]
    },
    {
     "name": "stderr",
     "output_type": "stream",
     "text": [
      "Processing class: volcano:  97%|█████████▋| 194/200 [22:31<01:07, 11.26s/it]"
     ]
    },
    {
     "name": "stdout",
     "output_type": "stream",
     "text": [
      "\n",
      "\n",
      "[%] Done. Downloaded 10 images.\n",
      "[%] Downloading Images to /home/sagemaker-user/Domain-Shift-Computer-Vision/imagenetA_generated/volcano/a photo of volcano\n",
      "[Error]Invalid image, not saving https://s.w-x.co/GettyImages-1231828924.jpg\n",
      "\n",
      "[!] Issue getting: https://s.w-x.co/GettyImages-1231828924.jpg\n",
      "[!] Error:: Invalid image, not saving https://s.w-x.co/GettyImages-1231828924.jpg\n",
      "\n",
      "[!] Issue getting: https://www.skymetweather.com/content/wp-content/uploads/2015/03/8829408-volcano-eruption-28034-Cropped-1.jpg\n",
      "[!] Error:: <urlopen error [SSL: CERTIFICATE_VERIFY_FAILED] certificate verify failed: self-signed certificate (_ssl.c:1007)>\n",
      "[!] Issue getting: https://www.almrsal.com/wp-content/uploads/2015/05/The-volcano-was-dormant-for-hundreds-of-years-and-exhibited-a-single-crater-at-its-summit.jpg\n",
      "[!] Error:: HTTP Error 403: Forbidden\n",
      "[Error]Invalid image, not saving https://wallpapers-clan.com/wp-content/uploads/2023/01/volcano-eruption-wallpaper.jpg\n",
      "\n",
      "[!] Issue getting: https://wallpapers-clan.com/wp-content/uploads/2023/01/volcano-eruption-wallpaper.jpg\n",
      "[!] Error:: Invalid image, not saving https://wallpapers-clan.com/wp-content/uploads/2023/01/volcano-eruption-wallpaper.jpg\n",
      "\n",
      "[!] Issue getting: https://img.washingtonpost.com/wp-apps/imrs.php?src=https://arc-anglerfish-washpost-prod-washpost.s3.amazonaws.com/public/RXQ2YIO3CYYNKBOARHUJPVPILU.jpg&amp;w=1200\n",
      "[!] Error:: The read operation timed out\n",
      "[!] Issue getting: http://www.desicomments.com/wallpapers/wp-content/uploads/2014/12/Amazing-Volcano.jpg\n",
      "[!] Error:: HTTP Error 404: Not Found\n",
      "[!] Issue getting: https://efe.com/wp-content/uploads/2023/07/rss-efe10156d8a2428d533fc24a09542c316bbf86c928aw.jpg\n",
      "[!] Error:: HTTP Error 429: Too Many Requests\n"
     ]
    },
    {
     "name": "stderr",
     "output_type": "stream",
     "text": [
      "Processing class: baseball player:  98%|█████████▊| 195/200 [23:37<02:18, 27.73s/it]"
     ]
    },
    {
     "name": "stdout",
     "output_type": "stream",
     "text": [
      "[Error]Invalid image, not saving https://cdn.britannica.com/34/231234-050-5B2280BB/volcanic-eruption-Antigua-Guatemala-volcano.jpg\n",
      "\n",
      "[!] Issue getting: https://cdn.britannica.com/34/231234-050-5B2280BB/volcanic-eruption-Antigua-Guatemala-volcano.jpg\n",
      "[!] Error:: Invalid image, not saving https://cdn.britannica.com/34/231234-050-5B2280BB/volcanic-eruption-Antigua-Guatemala-volcano.jpg\n",
      "\n",
      "\n",
      "\n",
      "[%] Done. Downloaded 10 images.\n",
      "[%] Downloading Images to /home/sagemaker-user/Domain-Shift-Computer-Vision/imagenetA_generated/baseball player/a photo of baseball player\n",
      "[!] Issue getting: https://images2.minutemediacdn.com/image/fetch/c_fill,g_auto,f_auto,h_2298,w_3200/https://calltothepen.com/wp-content/uploads/getty-images/2016/04/1176454882.jpeg\n",
      "[!] Error:: HTTP Error 400: Bad Request\n"
     ]
    },
    {
     "name": "stderr",
     "output_type": "stream",
     "text": [
      "Processing class: rapeseed:  98%|█████████▊| 196/200 [23:45<01:26, 21.66s/it]       "
     ]
    },
    {
     "name": "stdout",
     "output_type": "stream",
     "text": [
      "\n",
      "\n",
      "[%] Done. Downloaded 10 images.\n",
      "[%] Downloading Images to /home/sagemaker-user/Domain-Shift-Computer-Vision/imagenetA_generated/rapeseed/a photo of rapeseed\n"
     ]
    },
    {
     "name": "stderr",
     "output_type": "stream",
     "text": [
      "Processing class: yellow lady's slipper:  98%|█████████▊| 197/200 [23:53<00:52, 17.64s/it]"
     ]
    },
    {
     "name": "stdout",
     "output_type": "stream",
     "text": [
      "\n",
      "\n",
      "[%] Done. Downloaded 10 images.\n",
      "[%] Downloading Images to /home/sagemaker-user/Domain-Shift-Computer-Vision/imagenetA_generated/yellow lady's slipper/a photo of yellow lady's slipper\n",
      "[!] Issue getting: https://www.calhort.org/wp-content/uploads/IMG_1751-1152x1536.jpg\n",
      "[!] Error:: Remote end closed connection without response\n"
     ]
    },
    {
     "name": "stderr",
     "output_type": "stream",
     "text": [
      "Processing class: corn:  99%|█████████▉| 198/200 [23:58<00:27, 13.93s/it]                 "
     ]
    },
    {
     "name": "stdout",
     "output_type": "stream",
     "text": [
      "\n",
      "\n",
      "[%] Done. Downloaded 10 images.\n",
      "[%] Downloading Images to /home/sagemaker-user/Domain-Shift-Computer-Vision/imagenetA_generated/corn/a photo of corn\n"
     ]
    },
    {
     "name": "stderr",
     "output_type": "stream",
     "text": [
      "Processing class: acorn: 100%|█████████▉| 199/200 [24:04<00:11, 11.61s/it]"
     ]
    },
    {
     "name": "stdout",
     "output_type": "stream",
     "text": [
      "\n",
      "\n",
      "[%] Done. Downloaded 10 images.\n",
      "[%] Downloading Images to /home/sagemaker-user/Domain-Shift-Computer-Vision/imagenetA_generated/acorn/a photo of acorn\n"
     ]
    },
    {
     "name": "stderr",
     "output_type": "stream",
     "text": [
      "Processing class: acorn: 100%|██████████| 200/200 [24:08<00:00,  7.24s/it]"
     ]
    },
    {
     "name": "stdout",
     "output_type": "stream",
     "text": [
      "\n",
      "\n",
      "[%] Done. Downloaded 10 images.\n"
     ]
    },
    {
     "name": "stderr",
     "output_type": "stream",
     "text": [
      "\n"
     ]
    }
   ],
   "source": [
    "scrape_images_imagenetA(img_style = \"a photo of\", \n",
    "                        imgenetA_gen_path = \"/home/sagemaker-user/Domain-Shift-Computer-Vision/imagenetA_generated\", \n",
    "                        limit = 10)"
   ]
  }
 ],
 "metadata": {
  "kernelspec": {
   "display_name": "Python 3 (ipykernel)",
   "language": "python",
   "name": "python3"
  },
  "language_info": {
   "codemirror_mode": {
    "name": "ipython",
    "version": 3
   },
   "file_extension": ".py",
   "mimetype": "text/x-python",
   "name": "python",
   "nbconvert_exporter": "python",
   "pygments_lexer": "ipython3",
   "version": "3.10.14"
  }
 },
 "nbformat": 4,
 "nbformat_minor": 5
}
