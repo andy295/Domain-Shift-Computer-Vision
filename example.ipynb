{
 "cells": [
  {
   "cell_type": "markdown",
   "id": "b1ddb39b-484b-40a8-a6e1-763d3071ddb9",
   "metadata": {},
   "source": [
    "# MEMO"
   ]
  },
  {
   "cell_type": "code",
   "execution_count": 1,
   "id": "1851005d-1fc7-4abd-a04f-5550b7067939",
   "metadata": {},
   "outputs": [
    {
     "name": "stdout",
     "output_type": "stream",
     "text": [
      "Warning: the working directory was changed to /home/sagemaker-user/Domain-Shift-Computer-Vision\n"
     ]
    },
    {
     "name": "stderr",
     "output_type": "stream",
     "text": [
      "2024-08-07 11:06:17.387903: I tensorflow/core/util/port.cc:111] oneDNN custom operations are on. You may see slightly different numerical results due to floating-point round-off errors from different computation orders. To turn them off, set the environment variable `TF_ENABLE_ONEDNN_OPTS=0`.\n",
      "2024-08-07 11:06:17.433759: E tensorflow/compiler/xla/stream_executor/cuda/cuda_dnn.cc:9342] Unable to register cuDNN factory: Attempting to register factory for plugin cuDNN when one has already been registered\n",
      "2024-08-07 11:06:17.433794: E tensorflow/compiler/xla/stream_executor/cuda/cuda_fft.cc:609] Unable to register cuFFT factory: Attempting to register factory for plugin cuFFT when one has already been registered\n",
      "2024-08-07 11:06:17.433803: E tensorflow/compiler/xla/stream_executor/cuda/cuda_blas.cc:1518] Unable to register cuBLAS factory: Attempting to register factory for plugin cuBLAS when one has already been registered\n",
      "2024-08-07 11:06:17.440950: I tensorflow/core/platform/cpu_feature_guard.cc:182] This TensorFlow binary is optimized to use available CPU instructions in performance-critical operations.\n",
      "To enable the following instructions: SSE4.1 SSE4.2 AVX AVX2 AVX512F AVX512_VNNI FMA, in other operations, rebuild TensorFlow with the appropriate compiler flags.\n"
     ]
    }
   ],
   "source": [
    "import torch\n",
    "import torchvision.transforms as T\n",
    "import torch.nn as nn\n",
    "import torch.nn.functional as F\n",
    "from train_test.train import Trainer\n",
    "import torchvision.models as models\n",
    "import torchvision"
   ]
  },
  {
   "cell_type": "code",
   "execution_count": 2,
   "id": "e146ddd9-1245-4760-9342-6b73d90fd9b9",
   "metadata": {},
   "outputs": [],
   "source": [
    "from MEMO.MEMO import MEMO"
   ]
  },
  {
   "cell_type": "code",
   "execution_count": 3,
   "id": "990934cc-7795-415b-adbd-17227bed3510",
   "metadata": {},
   "outputs": [],
   "source": [
    "imagenet_a_path = \"imagenet-a\"\n",
    "imagenet_b_path = \"imagenetv2-matched-frequency-format-val/\""
   ]
  },
  {
   "cell_type": "code",
   "execution_count": 4,
   "id": "5ace4045-d733-4897-95fd-f667a42acc60",
   "metadata": {},
   "outputs": [],
   "source": [
    "device = torch.device(\"cuda\") if torch.cuda.is_available() else torch.device(\"cpu\")"
   ]
  },
  {
   "cell_type": "code",
   "execution_count": 5,
   "id": "31a14b6b-c730-4fd5-a9a9-6607e098ddb3",
   "metadata": {},
   "outputs": [],
   "source": [
    "import torchvision.transforms as T\n",
    "\n",
    "augmentations = [\n",
    "    T.RandomHorizontalFlip(p=1),\n",
    "    T.RandomVerticalFlip(p=1),\n",
    "    T.RandomRotation(degrees=30),\n",
    "    T.RandomRotation(degrees=60),\n",
    "    T.ColorJitter(brightness=0.2),\n",
    "    T.ColorJitter(contrast=0.2),\n",
    "    T.ColorJitter(saturation=0.2),\n",
    "    T.ColorJitter(hue=0.2),\n",
    "    T.RandomAffine(degrees=0, translate=(0.1, 0.1)),\n",
    "    T.RandomRotation(degrees=15),\n",
    "    T.RandomAdjustSharpness(sharpness_factor=2, p=1),\n",
    "    T.RandomGrayscale(p=1),\n",
    "    T.RandomInvert(p=1),\n",
    "    T.RandomAutocontrast(p=1),\n",
    "    T.GaussianBlur(kernel_size=5),\n",
    "]\n",
    "\n",
    "augmix_augmentations = [\n",
    "    T.AugMix(severity=3, mixture_width=3, chain_depth=-1, alpha=1.0),\n",
    "    T.AugMix(severity=2, mixture_width=2, chain_depth=-1, alpha=1.0),\n",
    "    T.AugMix(severity=4, mixture_width=4, chain_depth=-1, alpha=1.0),\n",
    "    T.AugMix(severity=3, mixture_width=3, chain_depth=-1, alpha=1.0),\n",
    "    T.AugMix(severity=2, mixture_width=2, chain_depth=-1, alpha=1.0),\n",
    "    T.AugMix(severity=4, mixture_width=4, chain_depth=-1, alpha=1.0),\n",
    "    T.AugMix(severity=3, mixture_width=3, chain_depth=-1, alpha=1.0),\n",
    "    T.AugMix(severity=2, mixture_width=2, chain_depth=-1, alpha=1.0),\n",
    "    T.AugMix(severity=4, mixture_width=4, chain_depth=-1, alpha=1.0),\n",
    "    T.AugMix(severity=3, mixture_width=3, chain_depth=-1, alpha=1.0),\n",
    "    T.AugMix(severity=2, mixture_width=2, chain_depth=-1, alpha=1.0),\n",
    "    T.AugMix(severity=4, mixture_width=4, chain_depth=-1, alpha=1.0),\n",
    "    T.AugMix(severity=3, mixture_width=3, chain_depth=-1, alpha=1.0),\n",
    "    T.AugMix(severity=2, mixture_width=2, chain_depth=-1, alpha=1.0),\n",
    "    T.AugMix(severity=4, mixture_width=4, chain_depth=-1, alpha=1.0),\n",
    "    T.AugMix(severity=3, mixture_width=3, chain_depth=-1, alpha=1.0),\n",
    "    T.AugMix(severity=2, mixture_width=2, chain_depth=-1, alpha=1.0),\n",
    "    T.AugMix(severity=4, mixture_width=4, chain_depth=-1, alpha=1.0)\n",
    "]"
   ]
  },
  {
   "cell_type": "markdown",
   "id": "08b444fa-d1e4-412d-814f-36ba12981ff0",
   "metadata": {},
   "source": [
    "## Resnet50"
   ]
  },
  {
   "cell_type": "code",
   "execution_count": 6,
   "id": "3e752756-e914-48e7-a203-21ae62dba5ac",
   "metadata": {},
   "outputs": [],
   "source": [
    "exp_path_a = \"/home/sagemaker-user/Domain-Shift-Computer-Vision/experiments/Resnet50_ImagenetA_SGD\""
   ]
  },
  {
   "cell_type": "code",
   "execution_count": 7,
   "id": "9c522c6a-84b6-453d-8921-5a9af1e9453e",
   "metadata": {},
   "outputs": [],
   "source": [
    "MEMO_resnet50 = MEMO(\n",
    "    model = models.resnet50,\n",
    "    optimizer = torch.optim.SGD,  \n",
    "    exp_path = exp_path_a, \n",
    "    device = device\n",
    ")"
   ]
  },
  {
   "cell_type": "code",
   "execution_count": 8,
   "id": "7c6041ec-e1e3-4d1a-a419-f86a79c1ac79",
   "metadata": {},
   "outputs": [],
   "source": [
    "lr_setting = [0.00025]"
   ]
  },
  {
   "cell_type": "code",
   "execution_count": 9,
   "id": "f1bb98e4-9b44-40b6-b343-3599f1eaff9f",
   "metadata": {},
   "outputs": [
    {
     "name": "stdout",
     "output_type": "stream",
     "text": [
      "Batch 234/235, Accuracy: 12.69%\r"
     ]
    },
    {
     "ename": "NameError",
     "evalue": "name 'accuracy' is not defined",
     "output_type": "error",
     "traceback": [
      "\u001b[0;31m---------------------------------------------------------------------------\u001b[0m",
      "\u001b[0;31mNameError\u001b[0m                                 Traceback (most recent call last)",
      "Cell \u001b[0;32mIn[9], line 1\u001b[0m\n\u001b[0;32m----> 1\u001b[0m \u001b[43mMEMO_resnet50\u001b[49m\u001b[38;5;241;43m.\u001b[39;49m\u001b[43mtest_MEMO\u001b[49m\u001b[43m(\u001b[49m\n\u001b[1;32m      2\u001b[0m \u001b[43m     \u001b[49m\u001b[43maugmentations\u001b[49m\u001b[43m \u001b[49m\u001b[38;5;241;43m=\u001b[39;49m\u001b[43m \u001b[49m\u001b[43maugmix_augmentations\u001b[49m\u001b[43m,\u001b[49m\u001b[43m \u001b[49m\n\u001b[1;32m      3\u001b[0m \u001b[43m     \u001b[49m\u001b[43mnum_augmentations\u001b[49m\u001b[43m \u001b[49m\u001b[38;5;241;43m=\u001b[39;49m\u001b[43m \u001b[49m\u001b[38;5;241;43m8\u001b[39;49m\u001b[43m,\u001b[49m\n\u001b[1;32m      4\u001b[0m \u001b[43m     \u001b[49m\u001b[43mseed_augmentations\u001b[49m\u001b[43m \u001b[49m\u001b[38;5;241;43m=\u001b[39;49m\u001b[43m \u001b[49m\u001b[38;5;241;43m22\u001b[39;49m\u001b[43m,\u001b[49m\n\u001b[1;32m      5\u001b[0m \u001b[43m     \u001b[49m\u001b[43mbatch_size\u001b[49m\u001b[43m \u001b[49m\u001b[38;5;241;43m=\u001b[39;49m\u001b[43m \u001b[49m\u001b[38;5;241;43m32\u001b[39;49m\u001b[43m,\u001b[49m\u001b[43m \u001b[49m\n\u001b[1;32m      6\u001b[0m \u001b[43m     \u001b[49m\u001b[43mimg_root\u001b[49m\u001b[43m \u001b[49m\u001b[38;5;241;43m=\u001b[39;49m\u001b[43m \u001b[49m\u001b[43mimagenet_a_path\u001b[49m\u001b[43m,\u001b[49m\n\u001b[1;32m      7\u001b[0m \u001b[43m     \u001b[49m\u001b[43mMEMO\u001b[49m\u001b[43m \u001b[49m\u001b[38;5;241;43m=\u001b[39;49m\u001b[43m \u001b[49m\u001b[38;5;28;43;01mFalse\u001b[39;49;00m\u001b[43m,\u001b[49m\n\u001b[1;32m      8\u001b[0m \u001b[43m     \u001b[49m\u001b[43mlr_setting\u001b[49m\u001b[43m \u001b[49m\u001b[38;5;241;43m=\u001b[39;49m\u001b[43m \u001b[49m\u001b[43mlr_setting\u001b[49m\u001b[43m,\u001b[49m\n\u001b[1;32m      9\u001b[0m \u001b[43m     \u001b[49m\u001b[43mtop_augmentations\u001b[49m\u001b[43m \u001b[49m\u001b[38;5;241;43m=\u001b[39;49m\u001b[43m \u001b[49m\u001b[38;5;241;43m0\u001b[39;49m\u001b[43m,\u001b[49m\n\u001b[1;32m     10\u001b[0m \u001b[43m     \u001b[49m\u001b[43mweights_imagenet\u001b[49m\u001b[43m \u001b[49m\u001b[38;5;241;43m=\u001b[39;49m\u001b[43m \u001b[49m\u001b[43mmodels\u001b[49m\u001b[38;5;241;43m.\u001b[39;49m\u001b[43mResNet50_Weights\u001b[49m\u001b[38;5;241;43m.\u001b[39;49m\u001b[43mIMAGENET1K_V2\u001b[49m\n\u001b[1;32m     11\u001b[0m \u001b[43m)\u001b[49m\n",
      "File \u001b[0;32m~/Domain-Shift-Computer-Vision/MEMO/MEMO.py:175\u001b[0m, in \u001b[0;36mMEMO.test_MEMO\u001b[0;34m(self, augmentations, num_augmentations, seed_augmentations, img_root, weights_imagenet, lr_setting, dataset, batch_size, MEMO, top_augmentations, verbose, log_interval)\u001b[0m\n\u001b[1;32m    172\u001b[0m         current_accuracy \u001b[38;5;241m=\u001b[39m cumulative_accuracy \u001b[38;5;241m/\u001b[39m samples \u001b[38;5;241m*\u001b[39m \u001b[38;5;241m100\u001b[39m\n\u001b[1;32m    173\u001b[0m         \u001b[38;5;28mprint\u001b[39m(\u001b[38;5;124mf\u001b[39m\u001b[38;5;124m'\u001b[39m\u001b[38;5;124mBatch \u001b[39m\u001b[38;5;132;01m{\u001b[39;00mbatch_idx\u001b[38;5;132;01m}\u001b[39;00m\u001b[38;5;124m/\u001b[39m\u001b[38;5;132;01m{\u001b[39;00m\u001b[38;5;28mlen\u001b[39m(test_loader)\u001b[38;5;132;01m}\u001b[39;00m\u001b[38;5;124m, Accuracy: \u001b[39m\u001b[38;5;132;01m{\u001b[39;00mcurrent_accuracy\u001b[38;5;132;01m:\u001b[39;00m\u001b[38;5;124m.2f\u001b[39m\u001b[38;5;132;01m}\u001b[39;00m\u001b[38;5;124m%\u001b[39m\u001b[38;5;124m'\u001b[39m, end\u001b[38;5;241m=\u001b[39m\u001b[38;5;124m'\u001b[39m\u001b[38;5;130;01m\\r\u001b[39;00m\u001b[38;5;124m'\u001b[39m)\n\u001b[0;32m--> 175\u001b[0m \u001b[38;5;28mself\u001b[39m\u001b[38;5;241m.\u001b[39msave_result(accuracy \u001b[38;5;241m=\u001b[39m \u001b[43maccuracy\u001b[49m, \n\u001b[1;32m    176\u001b[0m                  path_result \u001b[38;5;241m=\u001b[39m path_result, \n\u001b[1;32m    177\u001b[0m                  seed_augmentations \u001b[38;5;241m=\u001b[39m seed_augmentations, \n\u001b[1;32m    178\u001b[0m                  num_augmentations \u001b[38;5;241m=\u001b[39m num_augmentations, \n\u001b[1;32m    179\u001b[0m                  augmentations \u001b[38;5;241m=\u001b[39m augmentations, \n\u001b[1;32m    180\u001b[0m                  top_augmentations \u001b[38;5;241m=\u001b[39m top_augmentations, \n\u001b[1;32m    181\u001b[0m                  MEMO \u001b[38;5;241m=\u001b[39m MEMO, \n\u001b[1;32m    182\u001b[0m                  lr_setting \u001b[38;5;241m=\u001b[39m lr_setting,\n\u001b[1;32m    183\u001b[0m                  weights_imagenet \u001b[38;5;241m=\u001b[39m weights_imagenet)\n\u001b[1;32m    185\u001b[0m \u001b[38;5;28;01mreturn\u001b[39;00m accuracy\n",
      "\u001b[0;31mNameError\u001b[0m: name 'accuracy' is not defined"
     ]
    }
   ],
   "source": [
    "MEMO_resnet50.test_MEMO(\n",
    "     augmentations = augmix_augmentations, \n",
    "     num_augmentations = 8,\n",
    "     seed_augmentations = 22,\n",
    "     batch_size = 64, \n",
    "     img_root = imagenet_a_path,\n",
    "     MEMO = False,\n",
    "     lr_setting = lr_setting,\n",
    "     top_augmentations = 0,\n",
    "     weights_imagenet = models.ResNet50_Weights.IMAGENET1K_V2\n",
    ")"
   ]
  },
  {
   "cell_type": "markdown",
   "id": "0e967996-68b2-4e4e-bfda-85a05489c491",
   "metadata": {},
   "source": [
    "## test pipeline"
   ]
  },
  {
   "cell_type": "code",
   "execution_count": 4,
   "id": "36f027aa-0597-4c74-9f70-580b41e0ab7a",
   "metadata": {},
   "outputs": [],
   "source": [
    "from utility.get_data import get_data"
   ]
  },
  {
   "cell_type": "code",
   "execution_count": 5,
   "id": "a81b9b83-e918-4c4d-bbcb-b0c8d7c103da",
   "metadata": {},
   "outputs": [],
   "source": [
    "transform_loader = T.Compose([\n",
    "            T.Resize((224, 224)),\n",
    "            T.ToTensor()\n",
    "        ])\n",
    "\n",
    "test_loader = get_data(batch_size=64, img_root=imagenet_a_path, transform = transform_loader, split_data=False)"
   ]
  },
  {
   "cell_type": "code",
   "execution_count": 78,
   "id": "466001dc-093b-41a4-a7f5-a93b29af5c2c",
   "metadata": {},
   "outputs": [],
   "source": [
    "def get_model(weights_imagenet):\n",
    "    model = models.resnet50(weights=\"DEFAULT\")\n",
    "    model.eval()\n",
    "    model.to(device)\n",
    "    return model"
   ]
  },
  {
   "cell_type": "code",
   "execution_count": 7,
   "id": "f4941e40-2faf-4d44-8653-b0ba7bd60831",
   "metadata": {},
   "outputs": [],
   "source": [
    "import json\n",
    "def get_imagenetA_masking():\n",
    "    imagenetA_masking_path = \"/home/sagemaker-user/Domain-Shift-Computer-Vision/MEMO/imagenetA_masking.json\"\n",
    "    with open(imagenetA_masking_path, 'r') as json_file:\n",
    "        imagenetA_masking = json.load(json_file)\n",
    "    indices_in_1k = [int(k) for k in imagenetA_masking if imagenetA_masking[k] != -1]\n",
    "    return indices_in_1k"
   ]
  },
  {
   "cell_type": "code",
   "execution_count": 8,
   "id": "c3d7b5fe-42bd-41d0-be18-44bf5b7bc81c",
   "metadata": {},
   "outputs": [],
   "source": [
    "import tqdm"
   ]
  },
  {
   "cell_type": "code",
   "execution_count": 79,
   "id": "b368866e-6149-4cba-9e49-7d492eb1c1ea",
   "metadata": {
    "scrolled": true
   },
   "outputs": [
    {
     "name": "stdout",
     "output_type": "stream",
     "text": [
      "Batch 117/118\r"
     ]
    }
   ],
   "source": [
    "verbose = True\n",
    "log_interval = 1\n",
    "samples = 0.0\n",
    "cumulative_accuracy = 0.0\n",
    "imagenetA_masking = get_imagenetA_masking()\n",
    "\n",
    "all_logits = torch.zeros(1,1000, device=device)\n",
    "all_targets = torch.zeros(1, device = device)\n",
    "model = get_model(models.ResNet50_Weights.IMAGENET1K_V2)\n",
    "for batch_idx, (inputs, targets) in enumerate(test_loader):\n",
    "    inputs, targets = inputs.to(device), targets.to(device)\n",
    "    all_targets = torch.cat((all_targets, targets)) \n",
    "    with torch.no_grad():\n",
    "        normalize_input = T.Compose([\n",
    "            T.Normalize(mean=[0.485, 0.456, 0.406], std=[0.229, 0.224, 0.225])\n",
    "        ])\n",
    "        inputs = normalize_input(inputs)\n",
    "        logits = model(inputs)\n",
    "        all_logits = torch.cat((all_logits, logits), dim=0)\n",
    "        #logits = logits[:,imagenetA_masking]\n",
    "        #predicted = torch.argmax(logits, dim=1)\n",
    "        #cumulative_accuracy += (predicted == targets).sum().item()\n",
    "                        \n",
    "    #samples += inputs.shape[0]\n",
    "    if verbose and batch_idx % log_interval == 0:\n",
    "        current_accuracy = cumulative_accuracy / samples * 100\n",
    "        print(f\"Batch {batch_idx}/{len(test_loader)}\", end='\\r')"
   ]
  },
  {
   "cell_type": "code",
   "execution_count": 80,
   "id": "6796becf-7264-4498-8b8b-bc5c8e0aa89e",
   "metadata": {},
   "outputs": [],
   "source": [
    "actual_logits = all_logits[1:,:]\n",
    "actual_targets = all_targets[1:]"
   ]
  },
  {
   "cell_type": "code",
   "execution_count": 84,
   "id": "c60344ae-b416-42e7-863e-b50dc2753571",
   "metadata": {},
   "outputs": [],
   "source": [
    "actual_logits_imagenetA = actual_logits[:,imagenetA_masking]"
   ]
  },
  {
   "cell_type": "code",
   "execution_count": 85,
   "id": "ca9bc7ec-6bb8-4986-a2ea-9c78be54b37c",
   "metadata": {},
   "outputs": [
    {
     "data": {
      "text/plain": [
       "tensor(12.6933, device='cuda:0')"
      ]
     },
     "execution_count": 85,
     "metadata": {},
     "output_type": "execute_result"
    }
   ],
   "source": [
    "(actual_targets == actual_logits_imagenetA.argmax(dim=1)).sum() / 7500 * 100"
   ]
  },
  {
   "cell_type": "markdown",
   "id": "05e786fa-02b4-40b9-98b1-df596c8706b4",
   "metadata": {},
   "source": [
    "imgenetA (models.ResNet50_Weights.IMAGENET1K_V1) : 2.4 % \n",
    "imgenetA (models.ResNet50_Weights.IMAGENET1K_V2 or DEFAULT) : 12.6933 %"
   ]
  }
 ],
 "metadata": {
  "kernelspec": {
   "display_name": "Python 3 (ipykernel)",
   "language": "python",
   "name": "python3"
  },
  "language_info": {
   "codemirror_mode": {
    "name": "ipython",
    "version": 3
   },
   "file_extension": ".py",
   "mimetype": "text/x-python",
   "name": "python",
   "nbconvert_exporter": "python",
   "pygments_lexer": "ipython3",
   "version": "3.10.14"
  }
 },
 "nbformat": 4,
 "nbformat_minor": 5
}
