{
 "cells": [
  {
   "cell_type": "markdown",
   "id": "b1ddb39b-484b-40a8-a6e1-763d3071ddb9",
   "metadata": {},
   "source": [
    "# Test-Time Adaptation"
   ]
  },
  {
   "cell_type": "code",
   "execution_count": null,
   "id": "56173b53",
   "metadata": {},
   "outputs": [],
   "source": [
    "!pip install ollama\n",
    "!pip install diffusers\n",
    "!pip install git+https://github.com/openai/CLIP.git"
   ]
  },
  {
   "cell_type": "code",
   "execution_count": 1,
   "id": "1851005d-1fc7-4abd-a04f-5550b7067939",
   "metadata": {},
   "outputs": [],
   "source": [
    "import torch\n",
    "import torchvision.transforms as T\n",
    "import torchvision.models as models\n",
    "import torchvision\n",
    "from test_methods.test import Tester\n",
    "from test_time_adaptation.resnet50_dropout import ResNet50Dropout"
   ]
  },
  {
   "cell_type": "code",
   "execution_count": 2,
   "id": "990934cc-7795-415b-adbd-17227bed3510",
   "metadata": {},
   "outputs": [],
   "source": [
    "imagenet_a_path = \"imagenet-a\""
   ]
  },
  {
   "cell_type": "code",
   "execution_count": 3,
   "id": "5ace4045-d733-4897-95fd-f667a42acc60",
   "metadata": {},
   "outputs": [],
   "source": [
    "device = torch.device(\"cuda\") if torch.cuda.is_available() else torch.device(\"cpu\")"
   ]
  },
  {
   "cell_type": "code",
   "execution_count": 4,
   "id": "31a14b6b-c730-4fd5-a9a9-6607e098ddb3",
   "metadata": {},
   "outputs": [],
   "source": [
    "import torchvision.transforms as T\n",
    "\n",
    "augmentations = [\n",
    "    T.RandomHorizontalFlip(p=1),\n",
    "    T.RandomVerticalFlip(p=1),\n",
    "    T.RandomRotation(degrees=30),\n",
    "    T.RandomRotation(degrees=60),\n",
    "    T.ColorJitter(brightness=0.2),\n",
    "    T.ColorJitter(contrast=0.2),\n",
    "    T.ColorJitter(saturation=0.2),\n",
    "    T.ColorJitter(hue=0.2),\n",
    "    T.RandomAffine(degrees=0, translate=(0.1, 0.1)),\n",
    "    T.RandomRotation(degrees=15),\n",
    "    T.RandomAdjustSharpness(sharpness_factor=2, p=1),\n",
    "    T.RandomGrayscale(p=1),\n",
    "    T.RandomInvert(p=1),\n",
    "    T.RandomAutocontrast(p=1),\n",
    "    T.GaussianBlur(kernel_size=5),\n",
    "]\n",
    "\n",
    "augmix_augmentations = [\n",
    "    T.AugMix(severity=3, mixture_width=3, chain_depth=3, alpha=1.0),\n",
    "    T.AugMix(severity=2, mixture_width=2, chain_depth=3, alpha=1.0),\n",
    "    T.AugMix(severity=4, mixture_width=4, chain_depth=3, alpha=1.0),\n",
    "    T.AugMix(severity=3, mixture_width=3, chain_depth=3, alpha=1.0),\n",
    "    T.AugMix(severity=2, mixture_width=2, chain_depth=3, alpha=1.0),\n",
    "    T.AugMix(severity=4, mixture_width=4, chain_depth=3, alpha=1.0),\n",
    "    T.AugMix(severity=3, mixture_width=3, chain_depth=3, alpha=1.0),\n",
    "    T.AugMix(severity=2, mixture_width=2, chain_depth=3, alpha=1.0),\n",
    "    T.AugMix(severity=4, mixture_width=4, chain_depth=3, alpha=1.0),\n",
    "    T.AugMix(severity=3, mixture_width=3, chain_depth=3, alpha=1.0),\n",
    "    T.AugMix(severity=2, mixture_width=2, chain_depth=3, alpha=1.0),\n",
    "    T.AugMix(severity=4, mixture_width=4, chain_depth=3, alpha=1.0),\n",
    "    T.AugMix(severity=3, mixture_width=3, chain_depth=3, alpha=1.0),\n",
    "    T.AugMix(severity=2, mixture_width=2, chain_depth=3, alpha=1.0),\n",
    "    T.AugMix(severity=4, mixture_width=4, chain_depth=3, alpha=1.0),\n",
    "    T.AugMix(severity=3, mixture_width=3, chain_depth=3, alpha=1.0),\n",
    "    T.AugMix(severity=2, mixture_width=2, chain_depth=3, alpha=1.0),\n",
    "    T.AugMix(severity=4, mixture_width=4, chain_depth=3, alpha=1.0)\n",
    "]"
   ]
  },
  {
   "cell_type": "markdown",
   "id": "08b444fa-d1e4-412d-814f-36ba12981ff0",
   "metadata": {},
   "source": [
    "## Resnet50"
   ]
  },
  {
   "cell_type": "code",
   "execution_count": 5,
   "id": "3e752756-e914-48e7-a203-21ae62dba5ac",
   "metadata": {},
   "outputs": [],
   "source": [
    "exp_path_a = \"Domain-Shift-Computer-Vision/experiments/Resnet50_ImagenetA_SGD\""
   ]
  },
  {
   "cell_type": "code",
   "execution_count": 6,
   "id": "5cf183bc",
   "metadata": {},
   "outputs": [],
   "source": [
    "MC = {\n",
    "\t\"dropout_rate\": 0.5,\n",
    "\t\"num_samples\": 10,\n",
    "\t\"use_dropout\": True\n",
    "}"
   ]
  },
  {
   "cell_type": "code",
   "execution_count": 7,
   "id": "9c522c6a-84b6-453d-8921-5a9af1e9453e",
   "metadata": {},
   "outputs": [],
   "source": [
    "tester_resnet50 = Tester(\n",
    "    model = ResNet50Dropout() if MC['use_dropout'] else models.resnet50,\n",
    "    optimizer = torch.optim.SGD,\n",
    "    exp_path = exp_path_a,\n",
    "    device = device\n",
    ")"
   ]
  },
  {
   "cell_type": "code",
   "execution_count": 8,
   "id": "7c6041ec-e1e3-4d1a-a419-f86a79c1ac79",
   "metadata": {},
   "outputs": [],
   "source": [
    "#lr_setting = [{\n",
    "#    \"classifier\" : [[\"fc.weight\", \"fc.bias\"], 0.00025]    \n",
    "#}, 0]\n",
    "lr_setting_sgd = [0.00025] # setting used in MEMO paper for SGD\n",
    "lr_setting_adam = [0.0001] # setting used in MEMO paper for ADAM"
   ]
  },
  {
   "cell_type": "code",
   "execution_count": 9,
   "id": "200a4ed2-9d24-4de5-8da4-01c8ade487b1",
   "metadata": {},
   "outputs": [],
   "source": [
    "imagenetV1_weights = models.ResNet50_Weights.IMAGENET1K_V1 # MEMO paper used these weights\n",
    "imagenetV2_weights = models.ResNet50_Weights.IMAGENET1K_V2"
   ]
  },
  {
   "cell_type": "code",
   "execution_count": 10,
   "id": "e847161c-c688-4ec6-aaa8-4fbbc67baff5",
   "metadata": {},
   "outputs": [],
   "source": [
    "gen_aug_settings = {\n",
    "    \"clip_img_encoder\" : \"ViT-L/14\",\n",
    "    \"num_img\" : 40,\n",
    "    \"gen_data_path\" : \"Domain-Shift-Computer-Vision/imagenetA_generated\",\n",
    "    \"use_t2i_similarity\" : True,\n",
    "    \"t2i_img\" : True,\n",
    "    \"i2i_img\" : True,\n",
    "    \"threshold\" : 0.45\n",
    "}"
   ]
  },
  {
   "cell_type": "code",
   "execution_count": null,
   "id": "f1bb98e4-9b44-40b6-b343-3599f1eaff9f",
   "metadata": {},
   "outputs": [],
   "source": [
    "tester_resnet50.test(\n",
    "     augmentations = augmix_augmentations, \n",
    "     num_augmentations = 16,\n",
    "     seed_augmentations = 42,\n",
    "     batch_size = 64, \n",
    "     img_root = imagenet_a_path,\n",
    "     num_adaptation_steps = 2,\n",
    "     MEMO = True,\n",
    "     lr_setting = lr_setting_sgd,\n",
    "     top_augmentations = 8,\n",
    "     weights_imagenet = imagenetV1_weights,\n",
    "     prior_strength = 16,\n",
    "     TTA = True,\n",
    "     MC = MC,\n",
    "     gen_aug_settings = gen_aug_settings\n",
    ")"
   ]
  },
  {
   "cell_type": "markdown",
   "id": "8e5a3855-f888-4eea-af94-77a123dc58a2",
   "metadata": {},
   "source": [
    "## Image Generation"
   ]
  },
  {
   "cell_type": "code",
   "execution_count": null,
   "id": "1f230e3f-5566-4d7c-863c-835a5ff5a6fc",
   "metadata": {},
   "outputs": [],
   "source": [
    "import torch\n",
    "from test_time_adaptation.image_generation.image_generator import ImageGenerator"
   ]
  },
  {
   "cell_type": "code",
   "execution_count": null,
   "id": "20c37523-1bff-415c-b483-523e0b4a15ad",
   "metadata": {},
   "outputs": [],
   "source": [
    "imagenetA_generator = ImageGenerator()"
   ]
  },
  {
   "cell_type": "code",
   "execution_count": null,
   "id": "032714e4-de94-47c2-b52f-e4f7e7142f01",
   "metadata": {},
   "outputs": [],
   "source": [
    "# generate prompts\n",
    "skipped_classes = imagenetA_generator.generate_prompts(\n",
    "    num_prompts_per_class=20,\n",
    "    style_of_picture=\"photograph\",\n",
    "    path=\"Domain-Shift-Computer-Vision/imagenetA_generated\",\n",
    "    context_llm = \"Domain-Shift-Computer-Vision/test_time_adaptation/image_generation/llm_context.json\",\n",
    "    llm_model = \"llama3.1\", \n",
    "    clip_text_encoder = \"ViT-L/14\"\n",
    ")"
   ]
  },
  {
   "cell_type": "code",
   "execution_count": null,
   "id": "76d9c112",
   "metadata": {},
   "outputs": [],
   "source": [
    "# generate images\n",
    "from diffusers import StableDiffusionPipeline, StableDiffusionImg2ImgPipeline, DPMSolverMultistepScheduler\n",
    "import torch\n",
    "\n",
    "model_id = \"runwayml/stable-diffusion-v1-5\""
   ]
  },
  {
   "cell_type": "code",
   "execution_count": null,
   "id": "2e6741bb-e7e6-4f7e-9e60-0e07ed4b5bab",
   "metadata": {},
   "outputs": [],
   "source": [
    "pipet2i = StableDiffusionPipeline.from_pretrained(model_id, torch_dtype=torch.float16)\n",
    "pipet2i.scheduler = DPMSolverMultistepScheduler.from_config(pipet2i.scheduler.config)\n",
    "pipet2i = pipet2i.to(\"cuda\")\n",
    "\n",
    "num_inf_steps = 25"
   ]
  },
  {
   "cell_type": "code",
   "execution_count": null,
   "id": "6f96b118-4ab9-473f-8e63-285e94190fc2",
   "metadata": {},
   "outputs": [],
   "source": [
    "pipei2i = StableDiffusionImg2ImgPipeline.from_pretrained(model_id, torch_dtype=torch.float16)\n",
    "pipei2i.scheduler = DPMSolverMultistepScheduler.from_config(pipei2i.scheduler.config)\n",
    "pipei2i = pipei2i.to(\"cuda\")\n",
    "\n",
    "strength = 0.89\n",
    "num_inf_steps = int(strength**(-1)*25)"
   ]
  },
  {
   "cell_type": "code",
   "execution_count": 50,
   "id": "40087018-acf0-4dd1-94b3-668e16d01ee9",
   "metadata": {},
   "outputs": [],
   "source": [
    "imagenet_a_generated_path = \"Domain-Shift-Computer-Vision/imagenetA_generated\""
   ]
  },
  {
   "cell_type": "code",
   "execution_count": null,
   "id": "d5106e58",
   "metadata": {},
   "outputs": [],
   "source": [
    "class_to_skip = []"
   ]
  },
  {
   "cell_type": "code",
   "execution_count": null,
   "id": "103c72f4-8900-4f86-9a2e-4df731b313c4",
   "metadata": {},
   "outputs": [],
   "source": [
    "imagenetA_generator.generate_images(path = imagenet_a_generated_path,\n",
    "                                    num_images_per_class = 25,\n",
    "                                    class_to_skip = class_to_skip,\n",
    "                                    image_generation_pipeline = pipei2i,\n",
    "                                    num_inference_steps = num_inf_steps,\n",
    "                                    guidance_scale = 12,\n",
    "                                    strength=strength)"
   ]
  },
  {
   "cell_type": "markdown",
   "id": "d969f7f1-a25b-4759-a0fa-87805a374609",
   "metadata": {},
   "source": [
    "## Retrieving Images"
   ]
  },
  {
   "cell_type": "code",
   "execution_count": 13,
   "id": "0a5f8d4c-4c0b-4e59-a36e-2bcac75e28b0",
   "metadata": {},
   "outputs": [],
   "source": [
    "from utility.data.get_data import get_data\n",
    "import clip\n",
    "import torch\n",
    "import torch.nn.functional as F\n",
    "from PIL import Image\n",
    "from test_time_adaptation.image_generation.image_generator import retrieve_gen_images"
   ]
  },
  {
   "cell_type": "code",
   "execution_count": null,
   "id": "6e5fd05b-238a-4a95-b410-2ade85563a61",
   "metadata": {},
   "outputs": [],
   "source": [
    "dataloader = get_data(batch_size=32, \n",
    "                      img_root = \"imagenet-a\",\n",
    "                      split_data=False)"
   ]
  },
  {
   "cell_type": "code",
   "execution_count": 323,
   "id": "0402185c-8779-4e60-83e7-c692b633069a",
   "metadata": {},
   "outputs": [],
   "source": [
    "stingray_img = dataloader.dataset[20][0]"
   ]
  },
  {
   "cell_type": "code",
   "execution_count": 46,
   "id": "0c45d975-d5de-4788-ae16-14774f9633a7",
   "metadata": {},
   "outputs": [],
   "source": [
    "clip_image_encoder = \"ViT-L/14\"\n",
    "clip_model, clip_preprocess = clip.load(clip_image_encoder)"
   ]
  },
  {
   "cell_type": "code",
   "execution_count": 51,
   "id": "1591a9a0-7797-4141-8cad-c03b2ee6bf6d",
   "metadata": {},
   "outputs": [],
   "source": [
    "imagenet_a_generated_path = \"Domain-Shift-Computer-Vision/imagenetA_generated\""
   ]
  },
  {
   "cell_type": "code",
   "execution_count": 381,
   "id": "1b1f0d97-03a1-4672-a393-94b770dcff95",
   "metadata": {},
   "outputs": [],
   "source": [
    "retrieved_images = retrieve_gen_images(img = img[0],\n",
    "                                       num_images = 40,\n",
    "                                       data_path = imagenet_a_generated_path,\n",
    "                                       clip_model = clip_model,\n",
    "                                       clip_preprocess = clip_preprocess,\n",
    "                                       t2i_images = True,\n",
    "                                       i2i_images = False,\n",
    "                                       use_t2i_similarity = True,\n",
    "                                       threshold = 0.45)"
   ]
  },
  {
   "cell_type": "code",
   "execution_count": null,
   "id": "fe459af9",
   "metadata": {},
   "outputs": [],
   "source": [
    "from PIL import Image\n",
    "import math\n",
    "\n",
    "def create_image_grid(images, grid_width, save_path, cell_size=(100, 100)):\n",
    "    \"\"\"\n",
    "    Create a grid of images from a list of PIL images.\n",
    "\n",
    "    Args:\n",
    "        images (list of PIL.Image): List of PIL images to arrange in a grid.\n",
    "        grid_width (int): Number of columns in the grid.\n",
    "        cell_size (tuple): Size of each cell in the grid (width, height).\n",
    "\n",
    "    Returns:\n",
    "        PIL.Image: An image containing the grid of images.\n",
    "    \"\"\"\n",
    "    # Resize images to the specified cell size\n",
    "    if len(images) == 0:\n",
    "        print(\"No images\")\n",
    "        return\n",
    "        \n",
    "    resized_images = [img.resize(cell_size) for img in images]\n",
    "    \n",
    "    # Calculate grid dimensions\n",
    "    grid_height = math.ceil(len(images) / grid_width)  # Number of rows needed\n",
    "    grid_img_width = cell_size[0] * grid_width\n",
    "    grid_img_height = cell_size[1] * grid_height\n",
    "\n",
    "    # Create a blank canvas for the grid\n",
    "    grid_img = Image.new('RGB', (grid_img_width, grid_img_height), (255, 255, 255))  # White background\n",
    "\n",
    "    # Paste images into the grid\n",
    "    for i, img in enumerate(resized_images):\n",
    "        row = i // grid_width\n",
    "        col = i % grid_width\n",
    "        x = col * cell_size[0]\n",
    "        y = row * cell_size[1]\n",
    "        grid_img.paste(img, (x, y))\n",
    "\n",
    "    if save_path:\n",
    "        try:\n",
    "            grid_img.save(save_path)\n",
    "            print(f\"Grid image saved to {save_path}\")\n",
    "        except Exception as e:\n",
    "            print(f\"Error saving the image: {e}\")\n",
    "\n",
    "    return grid_img"
   ]
  },
  {
   "cell_type": "code",
   "execution_count": null,
   "id": "38b450c4",
   "metadata": {},
   "outputs": [],
   "source": [
    "create_image_grid(retrieved_images, \n",
    "                  save_path = \"Domain-Shift-Computer-Vision/grid_3.png\",\n",
    "                  grid_width = 4)"
   ]
  },
  {
   "cell_type": "markdown",
   "id": "5645440d-73ac-4ebd-8735-ebc5fb377702",
   "metadata": {},
   "source": [
    "## Scraping Images"
   ]
  },
  {
   "cell_type": "code",
   "execution_count": null,
   "id": "4755f1cb-5c15-4239-90ec-b6c2707feb4c",
   "metadata": {},
   "outputs": [],
   "source": [
    "!pip install bing_image_downloader"
   ]
  },
  {
   "cell_type": "code",
   "execution_count": 8,
   "id": "f2f100a7-3514-4d7b-81d3-1f843710e8b6",
   "metadata": {},
   "outputs": [],
   "source": [
    "from test_time_adaptation.image_generation.web_scrape import scrape_images_imagenetA"
   ]
  },
  {
   "cell_type": "code",
   "execution_count": null,
   "id": "9f155692-1fbd-48dc-8d70-ad3437faea4e",
   "metadata": {},
   "outputs": [],
   "source": [
    "scrape_images_imagenetA(img_style = \"a photo of\", \n",
    "                        imgenetA_gen_path = \"Domain-Shift-Computer-Vision/imagenetA_generated\", \n",
    "                        limit = 10)"
   ]
  }
 ],
 "metadata": {
  "kernelspec": {
   "display_name": "Python 3 (ipykernel)",
   "language": "python",
   "name": "python3"
  },
  "language_info": {
   "codemirror_mode": {
    "name": "ipython",
    "version": 3
   },
   "file_extension": ".py",
   "mimetype": "text/x-python",
   "name": "python",
   "nbconvert_exporter": "python",
   "pygments_lexer": "ipython3",
   "version": "3.10.14"
  }
 },
 "nbformat": 4,
 "nbformat_minor": 5
}
