{
 "cells": [
  {
   "cell_type": "code",
   "execution_count": 1,
   "id": "3edfef31-8632-4479-aa56-c2378b4b1955",
   "metadata": {},
   "outputs": [],
   "source": [
    "import torch\n",
    "import torchvision.transforms as T\n",
    "\n",
    "from utility.get_data import S3ImageFolder"
   ]
  },
  {
   "cell_type": "code",
   "execution_count": 2,
   "id": "f195d3ac-4dc4-4855-a344-38d9f2d02d42",
   "metadata": {},
   "outputs": [],
   "source": [
    "imagenet_a_path = \"imagenet-a\"\n",
    "imagenet_b_path = \"imagenetv2-matched-frequency-format-val/\""
   ]
  },
  {
   "cell_type": "code",
   "execution_count": 3,
   "id": "4f9966e7-0d0a-4c1f-879d-a9d1782151ed",
   "metadata": {},
   "outputs": [],
   "source": [
    "def get_data(batch_size, img_root):\n",
    "    # Prepare data transformations for the train loader\n",
    "    transform = T.Compose([\n",
    "        T.Resize((256, 256)),                                                   # Resize each PIL image to 256 x 256\n",
    "        T.RandomCrop((224, 224)),                                               # Randomly crop a 224 x 224 patch\n",
    "        T.ToTensor(),                                                           # Convert Numpy to Pytorch Tensor\n",
    "        T.Normalize(mean=[0.485, 0.456, 0.406], std=[0.229, 0.224, 0.225])      # Normalize with ImageNet mean\n",
    "    ])\n",
    "\n",
    "    # Load data\n",
    "    # officehome_dataset = ImageFolder(root=img_root, transform=transform)\n",
    "    officehome_dataset = S3ImageFolder(root=img_root, transform=transform)\n",
    "\n",
    "    # Create train and test splits (80/20)\n",
    "    num_samples = len(officehome_dataset)\n",
    "    training_samples = int(num_samples * 0.8 + 1)\n",
    "    test_samples = num_samples - training_samples\n",
    "\n",
    "    training_data, test_data = torch.utils.data.random_split(officehome_dataset, [training_samples, test_samples])\n",
    "\n",
    "    # Initialize dataloaders\n",
    "    train_loader = torch.utils.data.DataLoader(training_data, batch_size, shuffle=True, num_workers=4)\n",
    "    test_loader = torch.utils.data.DataLoader(test_data, batch_size, shuffle=False, num_workers=4)\n",
    "\n",
    "    return train_loader, test_loader"
   ]
  },
  {
   "cell_type": "code",
   "execution_count": 10,
   "id": "63a95b52-1c33-475d-b181-63fd41512828",
   "metadata": {},
   "outputs": [
    {
     "name": "stderr",
     "output_type": "stream",
     "text": [
      "/opt/conda/lib/python3.10/site-packages/torch/utils/data/dataloader.py:561: UserWarning: This DataLoader will create 4 worker processes in total. Our suggested max number of worker in current system is 2, which is smaller than what this DataLoader is going to create. Please be aware that excessive worker creation might get DataLoader running slow or even freeze, lower the worker number to avoid potential slowness/freeze if necessary.\n",
      "  warnings.warn(_create_warning_msg(\n"
     ]
    }
   ],
   "source": [
    "train_loader, test_loader = get_data(batch_size=32, img_root= imagenet_a_path)"
   ]
  },
  {
   "cell_type": "code",
   "execution_count": 9,
   "id": "9e5158cd-8d3f-4f7c-83ee-cade11170257",
   "metadata": {},
   "outputs": [
    {
     "data": {
      "text/plain": [
       "tensor([[[ 0.9132,  1.0159,  1.2557,  ...,  0.5193,  0.2282,  0.0569],\n",
       "         [ 0.7591,  0.9988,  1.1358,  ...,  0.8789,  0.7419,  0.5364],\n",
       "         [ 1.2214,  1.4098,  1.4440,  ...,  0.7933,  0.8618,  0.8789],\n",
       "         ...,\n",
       "         [-0.1143, -0.1143, -0.0458,  ..., -1.1418, -0.6623, -0.1486],\n",
       "         [ 0.5364,  0.5878,  0.5878,  ..., -0.3027, -0.3541, -0.1486],\n",
       "         [ 0.4166,  0.4508,  0.4166,  ...,  0.0569, -0.1999, -0.1314]],\n",
       "\n",
       "        [[ 0.6954,  0.8179,  1.0630,  ...,  0.3978,  0.1001, -0.0749],\n",
       "         [ 0.5728,  0.8354,  0.9755,  ...,  0.8004,  0.6429,  0.3978],\n",
       "         [ 1.0105,  1.2206,  1.2731,  ...,  0.7304,  0.7829,  0.8004],\n",
       "         ...,\n",
       "         [-0.1450, -0.1800, -0.0749,  ..., -1.3354, -0.8978, -0.3901],\n",
       "         [ 0.2752,  0.3102,  0.2927,  ..., -0.6702, -0.9328, -0.7752],\n",
       "         [ 0.0826,  0.1176,  0.0826,  ..., -0.3375, -0.7577, -0.7752]],\n",
       "\n",
       "        [[ 0.9494,  1.0714,  1.3154,  ...,  0.7751,  0.4265,  0.2522],\n",
       "         [ 0.7402,  1.0017,  1.1411,  ...,  1.2457,  1.0539,  0.8099],\n",
       "         [ 1.2631,  1.4548,  1.4897,  ...,  1.1934,  1.2108,  1.1934],\n",
       "         ...,\n",
       "         [ 0.1999,  0.2348,  0.3916,  ..., -0.9504, -0.5844, -0.0964],\n",
       "         [ 0.5659,  0.6182,  0.5659,  ..., -0.5670, -0.8110, -0.5670],\n",
       "         [-0.0964, -0.0615, -0.1138,  ..., -0.2532, -0.6890, -0.6193]]])"
      ]
     },
     "execution_count": 9,
     "metadata": {},
     "output_type": "execute_result"
    }
   ],
   "source": []
  }
 ],
 "metadata": {
  "kernelspec": {
   "display_name": "Python 3 (ipykernel)",
   "language": "python",
   "name": "python3"
  },
  "language_info": {
   "codemirror_mode": {
    "name": "ipython",
    "version": 3
   },
   "file_extension": ".py",
   "mimetype": "text/x-python",
   "name": "python",
   "nbconvert_exporter": "python",
   "pygments_lexer": "ipython3",
   "version": "3.10.14"
  }
 },
 "nbformat": 4,
 "nbformat_minor": 5
}
